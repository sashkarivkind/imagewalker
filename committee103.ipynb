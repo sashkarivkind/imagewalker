{
 "cells": [
  {
   "cell_type": "code",
   "execution_count": 1,
   "metadata": {},
   "outputs": [],
   "source": [
    "from misc import HP\n",
    "import argparse\n",
    "import random\n",
    "import time\n",
    "import pickle\n",
    "import copy\n",
    "import SYCLOP_env as syc\n",
    "from misc import *\n",
    "import sys\n",
    "import os\n",
    "import cv2\n",
    "import argparse\n",
    "import tensorflow.keras as keras\n",
    "\n",
    "from keras_networks import rnn_model_102, rnn_model_multicore_201, rnn_model_multicore_202\n",
    "from curriculum_utils import create_mnist_dataset, bad_res102"
   ]
  },
  {
   "cell_type": "code",
   "execution_count": 6,
   "metadata": {},
   "outputs": [],
   "source": [
    "\n",
    "def generate_trajectory(n_steps,max_q,acceleration_mode):\n",
    "    starting_point = np.array([max_q[0] // 2, max_q[1] // 2])\n",
    "    steps = []\n",
    "    qdot=0\n",
    "    for j in range(n_steps):\n",
    "        steps.append(starting_point * 1)\n",
    "        if acceleration_mode:\n",
    "            qdot += np.random.randint(-1, 2, 2)\n",
    "            starting_point += qdot\n",
    "        else:\n",
    "            starting_point += np.random.randint(-5, 6, 2)\n",
    "    return np.array(steps)"
   ]
  },
  {
   "cell_type": "code",
   "execution_count": 30,
   "metadata": {},
   "outputs": [],
   "source": [
    "def split_dataset_xy(dataset):\n",
    "    dataset_x1 = [uu[0] for uu in dataset]\n",
    "    dataset_x2 = [uu[1] for uu in dataset]\n",
    "    dataset_y = [uu[-1] for uu in dataset]\n",
    "    return (np.array(dataset_x1)[...,np.newaxis],np.array(dataset_x2)[:,:n_timesteps,:]),np.array(dataset_y)\n",
    "\n",
    "#parse hyperparameters\n",
    "\n",
    "lsbjob = os.getenv('LSB_JOBID')\n",
    "lsbjob = '' if lsbjob is None else lsbjob\n",
    "\n",
    "hp = HP()\n",
    "hp.save_path = 'saved_runs'\n",
    "hp.description=''\n",
    "parser = argparse.ArgumentParser()\n",
    "parser.add_argument('--tau_int', default=4., type=float, help='Integration timescale for adaaptation')\n",
    "parser.add_argument('--resize', default=1.0, type=float, help='resize of images')\n",
    "parser.add_argument('--run_name_suffix', default='', type=str, help='suffix for runname')\n",
    "parser.add_argument('--eval_dir', default=None, type=str, help='eval dir')\n",
    "\n",
    "parser.add_argument('--dqn_initial_network', default=None, type=str, help='dqn_initial_network')\n",
    "parser.add_argument('--decoder_initial_network', default=None, type=str, help='decoder_initial_network')\n",
    "parser.add_argument('--decoder_arch', default='default', type=str, help='decoder_network architecture: default / multicore_201')\n",
    "parser.add_argument('--decoder_n_cores',  default=1, type=int, help='decoder number of cores')\n",
    "\n",
    "parser.add_argument('--decoder_learning_rate',  default=1e-3, type=float, help='decoder learning rate')\n",
    "parser.add_argument('--decoder_dropout',  default=0.0, type=float, help='decoder dropout')\n",
    "parser.add_argument('--decoder_rnn_type',  default='gru', type=str, help='gru or rnn')\n",
    "parser.add_argument('--decoder_rnn_units',  default=100, type=int, help='decoder rnn units')\n",
    "parser.add_argument('--decoder_rnn_layers',  default=1, type=int, help='decoder rnn units')\n",
    "\n",
    "\n",
    "parser.add_argument('--decoder_ignore_position', dest='decoder_ignore_position', action='store_true')\n",
    "parser.add_argument('--no-decoder_ignore_position', dest='decoder_ignore_position', action='store_false')\n",
    "\n",
    "parser.add_argument('--syclop_learning_rate',  default=2.5e-3, type=float, help='syclop (RL) learning rate')\n",
    "\n",
    "parser.add_argument('--color', default='grayscale', type=str, help='grayscale/rgb')\n",
    "parser.add_argument('--speed_reward',  default=0.0, type=float, help='speed reward, typically negative')\n",
    "parser.add_argument('--intensity_reward',  default=0.0, type=float, help='speed penalty reward')\n",
    "parser.add_argument('--loss_reward',  default=-1.0, type=float, help='reward for loss, typically negative')\n",
    "parser.add_argument('--resolution',  default=28, type=int, help='resolution')\n",
    "parser.add_argument('--max_eval_episodes',  default=10000, type=int, help='episodes for evaluation mode')\n",
    "parser.add_argument('--steps_per_episode',  default=9, type=int, help='time steps in each episode in ')\n",
    "parser.add_argument('--fit_verbose',  default=1, type=int, help='verbose level for model.fit                        ')\n",
    "parser.add_argument('--steps_between_learnings',  default=100, type=int, help='steps_between_learnings')\n",
    "parser.add_argument('--num_epochs',  default=100, type=int, help='steps_between_learnings')\n",
    "\n",
    "parser.add_argument('--alpha_increment',  default=0.01, type=float, help='reward for loss, typically negative')\n",
    "\n",
    "\n",
    "parser.add_argument('--beta_t1',  default=400000, type=int, help='time rising bete')\n",
    "parser.add_argument('--beta_t2',  default=700000, type=int, help='end rising beta')\n",
    "parser.add_argument('--beta_b1',  default=0.1, type=float, help='beta initial value')\n",
    "parser.add_argument('--beta_b2',  default=1.0, type=float, help='beta final value')\n",
    "\n",
    "parser.add_argument('--curriculum_enable', dest='curriculum_enable', action='store_true')\n",
    "parser.add_argument('--no-curriculum_enable', dest='curriculum_enable', action='store_false')\n",
    "\n",
    "parser.add_argument('--conv_fe', dest='conv_fe', action='store_true')\n",
    "parser.add_argument('--no-conv_fe', dest='conv_fe', action='store_false')\n",
    "\n",
    "parser.add_argument('--acceleration_mode', dest='acceleration_mode', action='store_true')\n",
    "parser.add_argument('--no-acceleration_mode', dest='acceleration_mode', action='store_false')\n",
    "\n",
    "\n",
    "parser.set_defaults(eval_mode=False, decode_from_dvs=False,test_mode=False,rising_beta_schedule=True,decoder_ignore_position=False, curriculum_enable=True, conv_fe=False,\n",
    "                    acceleration_mode=True)\n",
    "config = parser.parse_args('')\n",
    "\n",
    "# config = parser.parse_args()\n",
    "config = vars(config)\n",
    "hp.upadte_from_dict(config)\n",
    "hp.this_run_name = sys.argv[0] + '_noname_' + hp.run_name_suffix + '_' + lsbjob + '_' + str(int(time.time()))\n",
    "\n",
    "#define model\n",
    "n_timesteps = hp.steps_per_episode\n",
    "\n",
    "##\n",
    "# deploy_logs()\n",
    "##\n",
    "# if hp.decoder_arch == 'multicore_201':\n",
    "#     decoder = rnn_model_multicore_201(n_cores=hp.decoder_n_cores,lr=hp.decoder_learning_rate,ignore_input_B=hp.decoder_ignore_position,dropout=hp.decoder_dropout,rnn_type=hp.decoder_rnn_type,\n",
    "#                                 input_size=(hp.resolution,hp.resolution, 1),rnn_layers=hp.decoder_rnn_layers,conv_fe=hp.conv_fe, rnn_units=hp.decoder_rnn_units, n_timesteps=hp.steps_per_episode)\n",
    "# if hp.decoder_arch == 'multicore_202':\n",
    "#     decoder = rnn_model_multicore_202(n_cores=hp.decoder_n_cores, lr=hp.decoder_learning_rate,\n",
    "#                                       ignore_input_B=hp.decoder_ignore_position, dropout=hp.decoder_dropout,\n",
    "#                                       rnn_type=hp.decoder_rnn_type,\n",
    "#                                       input_size=(hp.resolution, hp.resolution, 1),\n",
    "#                                       rnn_layers=hp.decoder_rnn_layers, conv_fe=hp.conv_fe,\n",
    "#                                       rnn_units=hp.decoder_rnn_units, n_timesteps=hp.steps_per_episode)\n",
    "# elif hp.decoder_arch == 'default':\n",
    "#     decoder = rnn_model_102(lr=hp.decoder_learning_rate,ignore_input_B=hp.decoder_ignore_position,dropout=hp.decoder_dropout,rnn_type=hp.decoder_rnn_type,\n",
    "#                                 input_size=(hp.resolution,hp.resolution, 1),rnn_layers=hp.decoder_rnn_layers,conv_fe=hp.conv_fe,rnn_units=hp.decoder_rnn_units, n_timesteps=hp.steps_per_episode)\n",
    "decoder_initial_network = 'saved_runs/trajectory_curriculum101.py_noname__200012_1624129553_1/final_decoder.nwk'\n",
    "decoder = keras.models.load_model(decoder_initial_network)\n",
    "    #define dataset\n",
    "(images, labels), (images_test, labels_test) = keras.datasets.mnist.load_data(path=\"mnist.npz\")\n",
    "\n",
    "\n",
    "#fit one epoch in a  time\n",
    "# scheduler = Scheduler(hp.lambda_schedule)\n",
    "# for epoch in range(hp.num_epochs):\n",
    "#     lambda_epoch = scheduler.step(epoch)"
   ]
  },
  {
   "cell_type": "code",
   "execution_count": 31,
   "metadata": {},
   "outputs": [
    {
     "data": {
      "text/plain": [
       "True"
      ]
     },
     "execution_count": 31,
     "metadata": {},
     "output_type": "execute_result"
    }
   ],
   "source": [
    "hp.acceleration_mode"
   ]
  },
  {
   "cell_type": "code",
   "execution_count": 91,
   "metadata": {},
   "outputs": [
    {
     "name": "stdout",
     "output_type": "stream",
     "text": [
      "Are we random? 8\n",
      "evaluating trajectory   0\n",
      "55000/55000 [==============================] - 23s 410us/sample\n",
      "5000/5000 [==============================] - 2s 412us/sample\n",
      "accuracy: 0.8198\n",
      "Are we random? 13\n",
      "evaluating trajectory   1\n",
      "55000/55000 [==============================] - 23s 410us/sample\n",
      "5000/5000 [==============================] - 2s 424us/sample\n",
      "accuracy: 0.8732\n",
      "Are we random? 18\n",
      "evaluating trajectory   2\n",
      "55000/55000 [==============================] - 22s 406us/sample\n",
      "5000/5000 [==============================] - 2s 413us/sample\n",
      "accuracy: 0.8654\n",
      "Are we random? 1\n",
      "evaluating trajectory   3\n",
      "55000/55000 [==============================] - 22s 406us/sample\n",
      "5000/5000 [==============================] - 2s 415us/sample\n",
      "accuracy: 0.8316\n",
      "Are we random? 7\n",
      "evaluating trajectory   4\n",
      "55000/55000 [==============================] - 22s 408us/sample\n",
      "5000/5000 [==============================] - 2s 408us/sample\n",
      "accuracy: 0.8712\n",
      "Are we random? 4\n",
      "evaluating trajectory   5\n",
      "55000/55000 [==============================] - 22s 409us/sample\n",
      "5000/5000 [==============================] - 2s 404us/sample\n",
      "accuracy: 0.8718\n",
      "Are we random? 2\n",
      "evaluating trajectory   6\n",
      "55000/55000 [==============================] - 22s 407us/sample\n",
      "5000/5000 [==============================] - 2s 413us/sample\n",
      "accuracy: 0.8754\n",
      "Are we random? 19\n",
      "evaluating trajectory   7\n",
      "55000/55000 [==============================] - 22s 408us/sample\n",
      "5000/5000 [==============================] - 2s 406us/sample\n",
      "accuracy: 0.8258\n",
      "Are we random? 18\n",
      "evaluating trajectory   8\n",
      "55000/55000 [==============================] - 22s 405us/sample\n",
      "5000/5000 [==============================] - 2s 417us/sample\n",
      "accuracy: 0.8574\n",
      "Are we random? 10\n",
      "evaluating trajectory   9\n",
      "55000/55000 [==============================] - 22s 408us/sample\n",
      "5000/5000 [==============================] - 2s 409us/sample\n",
      "accuracy: 0.8618\n",
      "Are we random? 4\n",
      "evaluating trajectory   10\n",
      "55000/55000 [==============================] - 23s 413us/sample\n",
      "5000/5000 [==============================] - 2s 407us/sample\n",
      "accuracy: 0.8706\n",
      "Are we random? 14\n",
      "evaluating trajectory   11\n",
      "55000/55000 [==============================] - 22s 397us/sample\n",
      "5000/5000 [==============================] - 2s 401us/sample\n",
      "accuracy: 0.8418\n",
      "Are we random? 4\n",
      "evaluating trajectory   12\n",
      "55000/55000 [==============================] - 22s 392us/sample\n",
      "5000/5000 [==============================] - 2s 395us/sample\n",
      "accuracy: 0.85\n",
      "Are we random? 13\n",
      "evaluating trajectory   13\n",
      "55000/55000 [==============================] - 22s 395us/sample\n",
      "5000/5000 [==============================] - 2s 396us/sample\n",
      "accuracy: 0.8206\n",
      "Are we random? 19\n",
      "evaluating trajectory   14\n",
      "55000/55000 [==============================] - 22s 393us/sample\n",
      "5000/5000 [==============================] - 2s 399us/sample\n",
      "accuracy: 0.8236\n",
      "Are we random? 6\n",
      "evaluating trajectory   15\n",
      "55000/55000 [==============================] - 22s 394us/sample\n",
      "5000/5000 [==============================] - 2s 394us/sample\n",
      "accuracy: 0.8408\n",
      "Are we random? 12\n",
      "evaluating trajectory   16\n",
      "55000/55000 [==============================] - 22s 393us/sample\n",
      "5000/5000 [==============================] - 2s 393us/sample\n",
      "accuracy: 0.7978\n",
      "Are we random? 5\n",
      "evaluating trajectory   17\n",
      "55000/55000 [==============================] - 22s 395us/sample\n",
      "5000/5000 [==============================] - 2s 399us/sample\n",
      "accuracy: 0.8508\n",
      "Are we random? 4\n",
      "evaluating trajectory   18\n",
      "55000/55000 [==============================] - 22s 397us/sample\n",
      "5000/5000 [==============================] - 2s 399us/sample\n",
      "accuracy: 0.8704\n",
      "Are we random? 7\n",
      "evaluating trajectory   19\n",
      "55000/55000 [==============================] - 22s 397us/sample\n",
      "5000/5000 [==============================] - 2s 394us/sample\n",
      "accuracy: 0.8428\n",
      "Are we random? 3\n",
      "evaluating trajectory   20\n",
      "55000/55000 [==============================] - 22s 399us/sample\n",
      "5000/5000 [==============================] - 2s 400us/sample\n",
      "accuracy: 0.793\n",
      "Are we random? 7\n",
      "evaluating trajectory   21\n",
      "55000/55000 [==============================] - 22s 402us/sample\n",
      "5000/5000 [==============================] - 2s 402us/sample\n",
      "accuracy: 0.8672\n",
      "Are we random? 2\n",
      "evaluating trajectory   22\n",
      "55000/55000 [==============================] - 22s 398us/sample\n",
      "5000/5000 [==============================] - 2s 417us/sample\n",
      "accuracy: 0.8152\n",
      "Are we random? 3\n",
      "evaluating trajectory   23\n",
      "55000/55000 [==============================] - 22s 400us/sample\n",
      "5000/5000 [==============================] - 2s 398us/sample\n",
      "accuracy: 0.84\n",
      "Are we random? 4\n",
      "evaluating trajectory   24\n",
      "55000/55000 [==============================] - 22s 400us/sample\n",
      "5000/5000 [==============================] - 2s 402us/sample\n",
      "accuracy: 0.8158\n",
      "Are we random? 5\n",
      "evaluating trajectory   25\n",
      "55000/55000 [==============================] - 22s 409us/sample\n",
      "5000/5000 [==============================] - 2s 399us/sample\n",
      "accuracy: 0.8992\n",
      "Are we random? 19\n",
      "evaluating trajectory   26\n",
      "55000/55000 [==============================] - 22s 396us/sample\n",
      "5000/5000 [==============================] - 2s 395us/sample\n",
      "accuracy: 0.8418\n",
      "Are we random? 4\n",
      "evaluating trajectory   27\n",
      "55000/55000 [==============================] - 22s 398us/sample\n",
      "5000/5000 [==============================] - 2s 395us/sample\n",
      "accuracy: 0.8696\n",
      "Are we random? 12\n",
      "evaluating trajectory   28\n",
      "55000/55000 [==============================] - 22s 399us/sample\n",
      "5000/5000 [==============================] - 2s 400us/sample\n",
      "accuracy: 0.8614\n",
      "Are we random? 4\n",
      "evaluating trajectory   29\n",
      "55000/55000 [==============================] - 22s 396us/sample\n",
      "5000/5000 [==============================] - 2s 396us/sample\n",
      "accuracy: 0.826\n"
     ]
    }
   ],
   "source": [
    "alpha=0\n",
    "hp.num_trials = 30\n",
    "# trajectories = []\n",
    "train_pred_pred = []\n",
    "val_pred_pred = []\n",
    "for trial in range(hp.num_trials):\n",
    "#     this_trajectory=generate_trajectory(hp.steps_per_episode,[72,72],hp.acceleration_mode)\n",
    "    this_trajectory=trajectories[trial]\n",
    "    train_dataset, test_dataset = create_mnist_dataset(images, labels, 6, sample=hp.steps_per_episode, bad_res_func=bad_res102,\n",
    "                                                           return_datasets=True, q_0=this_trajectory, alpha=0.0,\n",
    "                                                           random_trajectories=True,acceleration_mode=hp.acceleration_mode)\n",
    "    train_dataset_x, train_dataset_y = split_dataset_xy(train_dataset)\n",
    "    test_dataset_x, test_dataset_y = split_dataset_xy(test_dataset)\n",
    "    q_prime = train_dataset_x[1][0]\n",
    "#     print('epoch', epoch, '  CONTROL!!!',' first q --', q_prime.reshape([-1]))\n",
    "\n",
    "    print(\"evaluating trajectory  \", trial)\n",
    "    train_preds = decoder.predict(\n",
    "        train_dataset_x,\n",
    "        batch_size=64,\n",
    "        verbose=hp.fit_verbose,\n",
    "        # We pass some validation for\n",
    "        # monitoring validation loss and metrics\n",
    "        # at the end of each epoch\n",
    "        )\n",
    "    val_preds = decoder.predict(\n",
    "        test_dataset_x,\n",
    "        batch_size=64,\n",
    "        verbose=hp.fit_verbose,\n",
    "        # We pass some validation for\n",
    "        # monitoring validation loss and metrics\n",
    "        # at the end of each epoch\n",
    "        )\n",
    "    accuracy =  np.mean(np.argmax(val_preds, axis=1)==test_dataset_y)\n",
    "    print('accuracy:', accuracy)\n",
    "#     trajectories.append(this_trajectory+0.)\n",
    "    train_pred_pred.append(train_preds+0.0)\n",
    "    val_pred_pred.append(val_preds+0.0)"
   ]
  },
  {
   "cell_type": "code",
   "execution_count": 23,
   "metadata": {},
   "outputs": [],
   "source": [
    "accuracy =  np.mean(np.argmax(preds, axis=1)==test_dataset_y)"
   ]
  },
  {
   "cell_type": "code",
   "execution_count": 24,
   "metadata": {},
   "outputs": [
    {
     "data": {
      "text/plain": [
       "0.7278"
      ]
     },
     "execution_count": 24,
     "metadata": {},
     "output_type": "execute_result"
    }
   ],
   "source": [
    "accuracy"
   ]
  },
  {
   "cell_type": "code",
   "execution_count": 40,
   "metadata": {},
   "outputs": [],
   "source": [
    "ent = np.zeros([np.shape(test_dataset_y)[0],hp.num_trials])\n",
    "lablab = np.zeros([np.shape(test_dataset_y)[0],hp.num_trials])\n",
    "for jj,preds in enumerate(pred_pred):\n",
    "    ent[:,jj]=np.sum(-preds*np.log(preds),axis=1)\n",
    "    lablab[:,jj]=np.argmax(preds, axis=1)"
   ]
  },
  {
   "cell_type": "code",
   "execution_count": 50,
   "metadata": {},
   "outputs": [],
   "source": [
    "ii=np.argmin(ent,axis=1)"
   ]
  },
  {
   "cell_type": "code",
   "execution_count": 71,
   "metadata": {},
   "outputs": [],
   "source": [
    "best_lbl=[]\n",
    "for jj,uu in enumerate(ii):\n",
    "    best_lbl.append(lablab[jj,uu])\n"
   ]
  },
  {
   "cell_type": "code",
   "execution_count": 73,
   "metadata": {},
   "outputs": [
    {
     "data": {
      "text/plain": [
       "0.9106"
      ]
     },
     "execution_count": 73,
     "metadata": {},
     "output_type": "execute_result"
    }
   ],
   "source": [
    "np.mean(best_lbl==test_dataset_y)"
   ]
  },
  {
   "cell_type": "code",
   "execution_count": 58,
   "metadata": {},
   "outputs": [
    {
     "data": {
      "text/plain": [
       "0.8463933333333333"
      ]
     },
     "execution_count": 58,
     "metadata": {},
     "output_type": "execute_result"
    }
   ],
   "source": [
    "np.mean(lablab==test_dataset_y.reshape([-1,1]))"
   ]
  },
  {
   "cell_type": "code",
   "execution_count": 130,
   "metadata": {},
   "outputs": [],
   "source": [
    "accuracies=np.mean(lablab==test_dataset_y.reshape([-1,1]),axis=0)"
   ]
  },
  {
   "cell_type": "code",
   "execution_count": 63,
   "metadata": {},
   "outputs": [],
   "source": [
    "best_ii=np.argmax(np.mean(lablab==test_dataset_y.reshape([-1,1]),axis=0))"
   ]
  },
  {
   "cell_type": "code",
   "execution_count": 65,
   "metadata": {},
   "outputs": [
    {
     "data": {
      "text/plain": [
       "0.0772"
      ]
     },
     "execution_count": 65,
     "metadata": {},
     "output_type": "execute_result"
    }
   ],
   "source": [
    "np.mean(ii==best_ii)"
   ]
  },
  {
   "cell_type": "code",
   "execution_count": 70,
   "metadata": {},
   "outputs": [
    {
     "data": {
      "text/plain": [
       "0.9932"
      ]
     },
     "execution_count": 70,
     "metadata": {},
     "output_type": "execute_result"
    }
   ],
   "source": [
    "np.mean(np.any(lablab==test_dataset_y.reshape([-1,1]),axis=1))"
   ]
  },
  {
   "cell_type": "code",
   "execution_count": 74,
   "metadata": {},
   "outputs": [],
   "source": [
    "best_ent=np.min(ent,axis=1)"
   ]
  },
  {
   "cell_type": "code",
   "execution_count": 77,
   "metadata": {},
   "outputs": [
    {
     "data": {
      "text/plain": [
       "(array([3.054e+03, 7.410e+02, 3.950e+02, 2.450e+02, 1.690e+02, 1.170e+02,\n",
       "        9.000e+01, 6.600e+01, 3.500e+01, 3.100e+01, 2.000e+01, 1.300e+01,\n",
       "        1.200e+01, 5.000e+00, 0.000e+00, 2.000e+00, 2.000e+00, 1.000e+00,\n",
       "        0.000e+00, 2.000e+00]),\n",
       " array([0.0018796 , 0.05121257, 0.10054555, 0.14987852, 0.19921149,\n",
       "        0.24854446, 0.29787743, 0.34721041, 0.39654338, 0.44587635,\n",
       "        0.49520932, 0.54454229, 0.59387527, 0.64320824, 0.69254121,\n",
       "        0.74187418, 0.79120715, 0.84054012, 0.8898731 , 0.93920607,\n",
       "        0.98853904]),\n",
       " <a list of 20 Patch objects>)"
      ]
     },
     "execution_count": 77,
     "metadata": {},
     "output_type": "execute_result"
    },
    {
     "data": {
      "image/png": "[encoded data removed]",
      "text/plain": [
       "<Figure size 432x288 with 1 Axes>"
      ]
     },
     "metadata": {
      "needs_background": "light"
     },
     "output_type": "display_data"
    }
   ],
   "source": [
    "_=plt.hist(best_ent,bins=20)"
   ]
  },
  {
   "cell_type": "code",
   "execution_count": 78,
   "metadata": {},
   "outputs": [
    {
     "data": {
      "image/png": "[encoded data removed]",
      "text/plain": [
       "<Figure size 432x288 with 1 Axes>"
      ]
     },
     "metadata": {
      "needs_background": "light"
     },
     "output_type": "display_data"
    }
   ],
   "source": [
    "_=plt.hist(best_ent[best_lbl!=test_dataset_y],bins=20)"
   ]
  },
  {
   "cell_type": "code",
   "execution_count": 79,
   "metadata": {},
   "outputs": [
    {
     "data": {
      "image/png": "[encoded data removed]",
      "text/plain": [
       "<Figure size 432x288 with 1 Axes>"
      ]
     },
     "metadata": {
      "needs_background": "light"
     },
     "output_type": "display_data"
    }
   ],
   "source": [
    "_=plt.hist(best_ent[best_lbl==test_dataset_y],bins=20)"
   ]
  },
  {
   "cell_type": "code",
   "execution_count": 85,
   "metadata": {},
   "outputs": [],
   "source": [
    "super_pred=np.sum(pred_pred,axis=0)"
   ]
  },
  {
   "cell_type": "code",
   "execution_count": 86,
   "metadata": {},
   "outputs": [],
   "source": [
    "super_label=np.argmax(super_pred,axis=1)"
   ]
  },
  {
   "cell_type": "code",
   "execution_count": 87,
   "metadata": {},
   "outputs": [
    {
     "data": {
      "text/plain": [
       "0.942"
      ]
     },
     "execution_count": 87,
     "metadata": {},
     "output_type": "execute_result"
    }
   ],
   "source": [
    "np.mean(super_label==test_dataset_y)"
   ]
  },
  {
   "cell_type": "code",
   "execution_count": 84,
   "metadata": {},
   "outputs": [
    {
     "data": {
      "text/plain": [
       "(30,)"
      ]
     },
     "execution_count": 84,
     "metadata": {},
     "output_type": "execute_result"
    }
   ],
   "source": [
    "super_label.shape"
   ]
  },
  {
   "cell_type": "code",
   "execution_count": 88,
   "metadata": {},
   "outputs": [],
   "source": [
    "with open('committee103_traj_30.pkl','wb') as f:\n",
    "    pickle.dump(trajectories,f)"
   ]
  },
  {
   "cell_type": "code",
   "execution_count": 90,
   "metadata": {},
   "outputs": [
    {
     "data": {
      "text/plain": [
       "[array([[36., 36.],\n",
       "        [36., 36.],\n",
       "        [36., 36.],\n",
       "        [35., 35.],\n",
       "        [35., 34.],\n",
       "        [34., 34.],\n",
       "        [34., 35.],\n",
       "        [33., 37.],\n",
       "        [31., 38.]]), array([[36., 36.],\n",
       "        [37., 37.],\n",
       "        [39., 39.],\n",
       "        [41., 40.],\n",
       "        [43., 40.],\n",
       "        [46., 40.],\n",
       "        [49., 39.],\n",
       "        [53., 38.],\n",
       "        [58., 37.]]), array([[36., 36.],\n",
       "        [35., 36.],\n",
       "        [33., 35.],\n",
       "        [30., 34.],\n",
       "        [28., 32.],\n",
       "        [25., 30.],\n",
       "        [21., 29.],\n",
       "        [18., 27.],\n",
       "        [15., 24.]]), array([[36., 36.],\n",
       "        [35., 35.],\n",
       "        [35., 34.],\n",
       "        [36., 32.],\n",
       "        [38., 29.],\n",
       "        [40., 25.],\n",
       "        [43., 21.],\n",
       "        [47., 18.],\n",
       "        [50., 15.]]), array([[36., 36.],\n",
       "        [36., 37.],\n",
       "        [37., 39.],\n",
       "        [38., 41.],\n",
       "        [39., 44.],\n",
       "        [40., 46.],\n",
       "        [40., 48.],\n",
       "        [39., 50.],\n",
       "        [39., 51.]]), array([[36., 36.],\n",
       "        [35., 37.],\n",
       "        [33., 38.],\n",
       "        [31., 38.],\n",
       "        [30., 38.],\n",
       "        [30., 38.],\n",
       "        [31., 39.],\n",
       "        [31., 40.],\n",
       "        [30., 41.]]), array([[36., 36.],\n",
       "        [36., 35.],\n",
       "        [37., 35.],\n",
       "        [39., 36.],\n",
       "        [41., 38.],\n",
       "        [43., 40.],\n",
       "        [45., 42.],\n",
       "        [46., 44.],\n",
       "        [47., 45.]]), array([[36., 36.],\n",
       "        [36., 36.],\n",
       "        [37., 37.],\n",
       "        [39., 38.],\n",
       "        [41., 40.],\n",
       "        [43., 43.],\n",
       "        [45., 46.],\n",
       "        [46., 49.],\n",
       "        [47., 52.]]), array([[36., 36.],\n",
       "        [35., 37.],\n",
       "        [35., 39.],\n",
       "        [34., 40.],\n",
       "        [33., 42.],\n",
       "        [31., 43.],\n",
       "        [28., 43.],\n",
       "        [24., 44.],\n",
       "        [21., 46.]]), array([[36., 36.],\n",
       "        [36., 37.],\n",
       "        [35., 38.],\n",
       "        [33., 38.],\n",
       "        [31., 37.],\n",
       "        [29., 37.],\n",
       "        [26., 38.],\n",
       "        [24., 40.],\n",
       "        [22., 41.]]), array([[36., 36.],\n",
       "        [35., 35.],\n",
       "        [33., 35.],\n",
       "        [32., 36.],\n",
       "        [31., 37.],\n",
       "        [29., 38.],\n",
       "        [28., 40.],\n",
       "        [27., 43.],\n",
       "        [27., 47.]]), array([[36., 36.],\n",
       "        [35., 37.],\n",
       "        [35., 39.],\n",
       "        [36., 42.],\n",
       "        [38., 44.],\n",
       "        [41., 47.],\n",
       "        [45., 51.],\n",
       "        [48., 54.],\n",
       "        [51., 56.]]), array([[36., 36.],\n",
       "        [36., 36.],\n",
       "        [37., 37.],\n",
       "        [38., 37.],\n",
       "        [39., 36.],\n",
       "        [39., 35.],\n",
       "        [39., 33.],\n",
       "        [38., 32.],\n",
       "        [37., 30.]]), array([[36., 36.],\n",
       "        [37., 35.],\n",
       "        [37., 34.],\n",
       "        [37., 34.],\n",
       "        [37., 35.],\n",
       "        [38., 36.],\n",
       "        [40., 37.],\n",
       "        [43., 37.],\n",
       "        [47., 36.]]), array([[36., 36.],\n",
       "        [36., 37.],\n",
       "        [35., 39.],\n",
       "        [34., 42.],\n",
       "        [33., 46.],\n",
       "        [33., 49.],\n",
       "        [34., 53.],\n",
       "        [35., 58.],\n",
       "        [35., 63.]]), array([[36., 36.],\n",
       "        [37., 35.],\n",
       "        [37., 33.],\n",
       "        [37., 30.],\n",
       "        [36., 26.],\n",
       "        [34., 22.],\n",
       "        [33., 19.],\n",
       "        [32., 15.],\n",
       "        [32., 11.]]), array([[36., 36.],\n",
       "        [35., 36.],\n",
       "        [35., 36.],\n",
       "        [36., 37.],\n",
       "        [36., 38.],\n",
       "        [35., 38.],\n",
       "        [35., 38.],\n",
       "        [35., 39.],\n",
       "        [36., 41.]]), array([[36., 36.],\n",
       "        [37., 35.],\n",
       "        [39., 33.],\n",
       "        [41., 32.],\n",
       "        [43., 32.],\n",
       "        [44., 33.],\n",
       "        [44., 35.],\n",
       "        [43., 37.],\n",
       "        [43., 40.]]), array([[36., 36.],\n",
       "        [35., 36.],\n",
       "        [34., 37.],\n",
       "        [34., 38.],\n",
       "        [35., 40.],\n",
       "        [37., 42.],\n",
       "        [39., 43.],\n",
       "        [40., 44.],\n",
       "        [41., 46.]]), array([[36., 36.],\n",
       "        [35., 37.],\n",
       "        [34., 39.],\n",
       "        [34., 41.],\n",
       "        [35., 43.],\n",
       "        [37., 45.],\n",
       "        [39., 48.],\n",
       "        [41., 51.],\n",
       "        [44., 53.]]), array([[36., 36.],\n",
       "        [37., 35.],\n",
       "        [38., 35.],\n",
       "        [39., 35.],\n",
       "        [40., 34.],\n",
       "        [40., 33.],\n",
       "        [40., 33.],\n",
       "        [40., 33.],\n",
       "        [41., 34.]]), array([[36., 36.],\n",
       "        [35., 35.],\n",
       "        [35., 35.],\n",
       "        [35., 34.],\n",
       "        [36., 34.],\n",
       "        [37., 33.],\n",
       "        [39., 32.],\n",
       "        [41., 32.],\n",
       "        [43., 31.]]), array([[36., 36.],\n",
       "        [35., 35.],\n",
       "        [33., 34.],\n",
       "        [32., 33.],\n",
       "        [30., 33.],\n",
       "        [27., 34.],\n",
       "        [25., 34.],\n",
       "        [24., 33.],\n",
       "        [24., 31.]]), array([[36., 36.],\n",
       "        [35., 35.],\n",
       "        [34., 33.],\n",
       "        [34., 32.],\n",
       "        [35., 30.],\n",
       "        [37., 28.],\n",
       "        [39., 26.],\n",
       "        [42., 23.],\n",
       "        [46., 21.]]), array([[36., 36.],\n",
       "        [35., 37.],\n",
       "        [35., 38.],\n",
       "        [35., 38.],\n",
       "        [35., 39.],\n",
       "        [35., 41.],\n",
       "        [35., 43.],\n",
       "        [36., 46.],\n",
       "        [36., 48.]]), array([[36., 36.],\n",
       "        [37., 35.],\n",
       "        [37., 34.],\n",
       "        [38., 32.],\n",
       "        [40., 31.],\n",
       "        [42., 30.],\n",
       "        [43., 29.],\n",
       "        [44., 28.],\n",
       "        [46., 27.]]), array([[36., 36.],\n",
       "        [37., 37.],\n",
       "        [37., 39.],\n",
       "        [38., 41.],\n",
       "        [39., 42.],\n",
       "        [41., 44.],\n",
       "        [44., 45.],\n",
       "        [46., 47.],\n",
       "        [47., 50.]]), array([[36., 36.],\n",
       "        [37., 37.],\n",
       "        [37., 39.],\n",
       "        [36., 40.],\n",
       "        [35., 40.],\n",
       "        [33., 39.],\n",
       "        [32., 37.],\n",
       "        [32., 34.],\n",
       "        [33., 30.]]), array([[36., 36.],\n",
       "        [37., 37.],\n",
       "        [38., 39.],\n",
       "        [38., 42.],\n",
       "        [39., 45.],\n",
       "        [40., 49.],\n",
       "        [42., 53.],\n",
       "        [44., 57.],\n",
       "        [46., 60.]]), array([[36., 36.],\n",
       "        [36., 36.],\n",
       "        [37., 36.],\n",
       "        [37., 35.],\n",
       "        [37., 33.],\n",
       "        [36., 31.],\n",
       "        [36., 28.],\n",
       "        [35., 24.],\n",
       "        [34., 19.]])]"
      ]
     },
     "execution_count": 90,
     "metadata": {},
     "output_type": "execute_result"
    }
   ],
   "source": [
    "trajectories"
   ]
  },
  {
   "cell_type": "code",
   "execution_count": 92,
   "metadata": {},
   "outputs": [
    {
     "data": {
      "text/plain": [
       "array([[36., 36.],\n",
       "       [37., 35.],\n",
       "       [37., 34.],\n",
       "       [38., 32.],\n",
       "       [40., 31.],\n",
       "       [42., 30.],\n",
       "       [43., 29.],\n",
       "       [44., 28.],\n",
       "       [46., 27.]])"
      ]
     },
     "execution_count": 92,
     "metadata": {},
     "output_type": "execute_result"
    }
   ],
   "source": [
    "trajectories[25]"
   ]
  },
  {
   "cell_type": "code",
   "execution_count": 105,
   "metadata": {},
   "outputs": [],
   "source": [
    "def super_pred_fun(pred,T=1):\n",
    "    logits = np.log(pred)\n",
    "    pred_T = np.exp(1./T*logits)\n",
    "    pred_T = pred_T/np.sum(pred_T,axis=-1)[...,np.newaxis]\n",
    "    super_pred=np.sum(pred_T,axis=0)\n",
    "    return super_pred"
   ]
  },
  {
   "cell_type": "code",
   "execution_count": null,
   "metadata": {},
   "outputs": [],
   "source": []
  },
  {
   "cell_type": "code",
   "execution_count": 106,
   "metadata": {},
   "outputs": [],
   "source": [
    "super_pred = super_pred_fun(train_pred_pred)"
   ]
  },
  {
   "cell_type": "code",
   "execution_count": 114,
   "metadata": {},
   "outputs": [
    {
     "name": "stdout",
     "output_type": "stream",
     "text": [
      "0.9448\n"
     ]
    }
   ],
   "source": [
    "super_pred = super_pred_fun(val_pred_pred,T=1000)\n",
    "super_label=np.argmax(super_pred,axis=1)\n",
    "print(np.mean(super_label==test_dataset_y))"
   ]
  },
  {
   "cell_type": "code",
   "execution_count": 109,
   "metadata": {
    "collapsed": true
   },
   "outputs": [
    {
     "data": {
      "text/plain": [
       "array([0.1       , 0.14949495, 0.1989899 , 0.24848485, 0.2979798 ,\n",
       "       0.34747475, 0.3969697 , 0.44646465, 0.4959596 , 0.54545455,\n",
       "       0.59494949, 0.64444444, 0.69393939, 0.74343434, 0.79292929,\n",
       "       0.84242424, 0.89191919, 0.94141414, 0.99090909, 1.04040404,\n",
       "       1.08989899, 1.13939394, 1.18888889, 1.23838384, 1.28787879,\n",
       "       1.33737374, 1.38686869, 1.43636364, 1.48585859, 1.53535354,\n",
       "       1.58484848, 1.63434343, 1.68383838, 1.73333333, 1.78282828,\n",
       "       1.83232323, 1.88181818, 1.93131313, 1.98080808, 2.03030303,\n",
       "       2.07979798, 2.12929293, 2.17878788, 2.22828283, 2.27777778,\n",
       "       2.32727273, 2.37676768, 2.42626263, 2.47575758, 2.52525253,\n",
       "       2.57474747, 2.62424242, 2.67373737, 2.72323232, 2.77272727,\n",
       "       2.82222222, 2.87171717, 2.92121212, 2.97070707, 3.02020202,\n",
       "       3.06969697, 3.11919192, 3.16868687, 3.21818182, 3.26767677,\n",
       "       3.31717172, 3.36666667, 3.41616162, 3.46565657, 3.51515152,\n",
       "       3.56464646, 3.61414141, 3.66363636, 3.71313131, 3.76262626,\n",
       "       3.81212121, 3.86161616, 3.91111111, 3.96060606, 4.01010101,\n",
       "       4.05959596, 4.10909091, 4.15858586, 4.20808081, 4.25757576,\n",
       "       4.30707071, 4.35656566, 4.40606061, 4.45555556, 4.50505051,\n",
       "       4.55454545, 4.6040404 , 4.65353535, 4.7030303 , 4.75252525,\n",
       "       4.8020202 , 4.85151515, 4.9010101 , 4.95050505, 5.        ])"
      ]
     },
     "execution_count": 109,
     "metadata": {},
     "output_type": "execute_result"
    }
   ],
   "source": [
    "np.linspace(0.1,5.0,100)"
   ]
  },
  {
   "cell_type": "code",
   "execution_count": 115,
   "metadata": {},
   "outputs": [
    {
     "name": "stdout",
     "output_type": "stream",
     "text": [
      "0.9434\n"
     ]
    }
   ],
   "source": [
    "super_pred = super_pred_fun(val_pred_pred[:15],T=1000)\n",
    "super_label=np.argmax(super_pred,axis=1)\n",
    "print(np.mean(super_label==test_dataset_y))"
   ]
  },
  {
   "cell_type": "code",
   "execution_count": 116,
   "metadata": {},
   "outputs": [
    {
     "name": "stdout",
     "output_type": "stream",
     "text": [
      "0.9348\n"
     ]
    }
   ],
   "source": [
    "super_pred = super_pred_fun(val_pred_pred[:5],T=1000)\n",
    "super_label=np.argmax(super_pred,axis=1)\n",
    "print(np.mean(super_label==test_dataset_y))"
   ]
  },
  {
   "cell_type": "code",
   "execution_count": 122,
   "metadata": {},
   "outputs": [
    {
     "name": "stdout",
     "output_type": "stream",
     "text": [
      "0.908\n"
     ]
    }
   ],
   "source": [
    "super_pred = super_pred_fun(val_pred_pred[:2],T=1000)\n",
    "super_label=np.argmax(super_pred,axis=1)\n",
    "print(np.mean(super_label==test_dataset_y))"
   ]
  },
  {
   "cell_type": "code",
   "execution_count": 133,
   "metadata": {
    "scrolled": true
   },
   "outputs": [
    {
     "data": {
      "image/png": "[encoded data removed]",
      "text/plain": [
       "<Figure size 432x288 with 1 Axes>"
      ]
     },
     "metadata": {
      "needs_background": "light"
     },
     "output_type": "display_data"
    }
   ],
   "source": [
    "# x = np.linspace(0, 2*np.pi, 64)\n",
    "# y = np.cos(x) \n",
    "\n",
    "# pl.figure()\n",
    "# pl.plot(x,y)\n",
    "\n",
    "n = hp.num_trials\n",
    "# colors = plt.cm.jet(accuracies)\n",
    "colors = plt.cm.jet((accuracies-np.min(accuracies))/(np.max(accuracies)-np.min(accuracies)))\n",
    "# \n",
    "for trial in range(hp.num_trials):\n",
    "    plt.plot(trajectories[trial][:,0],trajectories[trial][:,1],  color=colors[trial])\n",
    "# plt.colorbar()"
   ]
  },
  {
   "cell_type": "code",
   "execution_count": null,
   "metadata": {},
   "outputs": [],
   "source": [
    "colors = plt.cm.jet((accuracies-np.min(accuracies))/(np.max(accuracies)-np.min(accuracies)))"
   ]
  },
  {
   "cell_type": "code",
   "execution_count": 137,
   "metadata": {},
   "outputs": [
    {
     "data": {
      "image/png": "[encoded data removed]",
      "text/plain": [
       "<Figure size 432x288 with 1 Axes>"
      ]
     },
     "metadata": {
      "needs_background": "light"
     },
     "output_type": "display_data"
    }
   ],
   "source": [
    "n = hp.num_trials\n",
    "# colors = plt.cm.jet(accuracies)\n",
    "colors = plt.cm.RdYlGn((accuracies-np.min(accuracies))/(np.max(accuracies)-np.min(accuracies)))\n",
    "# \n",
    "for trial in range(hp.num_trials):\n",
    "    plt.plot(trajectories[trial][:,0],trajectories[trial][:,1],  color=colors[trial],linewidth=3)"
   ]
  },
  {
   "cell_type": "code",
   "execution_count": 128,
   "metadata": {},
   "outputs": [
    {
     "data": {
      "text/plain": [
       "(0.5, 0.0, 0.0, 1.0)"
      ]
     },
     "execution_count": 128,
     "metadata": {},
     "output_type": "execute_result"
    }
   ],
   "source": [
    "plt.cm.jet(1.0)"
   ]
  },
  {
   "cell_type": "code",
   "execution_count": null,
   "metadata": {},
   "outputs": [],
   "source": [
    "n_lines = hp.num_trials\n",
    "x = np.arange(100)\n",
    "\n",
    "yint = np.arange(0, n_lines*10, 10)\n",
    "ys = np.array([x + b for b in yint])\n",
    "xs = np.array([x for i in range(n_lines)]) # could also use np.tile\n",
    "\n",
    "colors = np.arange(n_lines)\n",
    "\n",
    "fig, ax = plt.subplots()\n",
    "lc = multiline(xs, ys, yint, cmap='bwr', lw=2)\n",
    "\n",
    "axcb = fig.colorbar(lc)\n",
    "axcb.set_label('Y-intercept')\n",
    "ax.set_title('Line Collection with mapped colors')"
   ]
  },
  {
   "cell_type": "code",
   "execution_count": 140,
   "metadata": {},
   "outputs": [
    {
     "name": "stdout",
     "output_type": "stream",
     "text": [
      "Train on 44000 samples, validate on 11000 samples\n",
      "Epoch 1/100\n",
      "44000/44000 [==============================] - 3s 79us/sample - loss: 0.5499 - acc: 0.8665 - val_loss: 0.2493 - val_acc: 0.9312\n",
      "Epoch 2/100\n",
      "44000/44000 [==============================] - 2s 37us/sample - loss: 0.2773 - acc: 0.9298 - val_loss: 0.2411 - val_acc: 0.9314\n",
      "Epoch 3/100\n",
      "44000/44000 [==============================] - 2s 38us/sample - loss: 0.2632 - acc: 0.9321 - val_loss: 0.2346 - val_acc: 0.9319\n",
      "Epoch 4/100\n",
      "44000/44000 [==============================] - 2s 38us/sample - loss: 0.2523 - acc: 0.9337 - val_loss: 0.2316 - val_acc: 0.9326\n",
      "Epoch 5/100\n",
      "44000/44000 [==============================] - 2s 39us/sample - loss: 0.2448 - acc: 0.9347 - val_loss: 0.2293 - val_acc: 0.9323\n",
      "Epoch 6/100\n",
      "44000/44000 [==============================] - 2s 38us/sample - loss: 0.2423 - acc: 0.9353 - val_loss: 0.2242 - val_acc: 0.9332\n",
      "Epoch 7/100\n",
      "44000/44000 [==============================] - 2s 38us/sample - loss: 0.2357 - acc: 0.9365 - val_loss: 0.2212 - val_acc: 0.9340\n",
      "Epoch 8/100\n",
      "44000/44000 [==============================] - 2s 37us/sample - loss: 0.2333 - acc: 0.9362 - val_loss: 0.2225 - val_acc: 0.9331\n",
      "Epoch 9/100\n",
      "44000/44000 [==============================] - 2s 38us/sample - loss: 0.2292 - acc: 0.9370 - val_loss: 0.2182 - val_acc: 0.9329\n",
      "Epoch 10/100\n",
      "44000/44000 [==============================] - 2s 37us/sample - loss: 0.2265 - acc: 0.9365 - val_loss: 0.2170 - val_acc: 0.9344\n",
      "Epoch 11/100\n",
      "44000/44000 [==============================] - 2s 38us/sample - loss: 0.2210 - acc: 0.9379 - val_loss: 0.2177 - val_acc: 0.9343\n",
      "Epoch 12/100\n",
      "44000/44000 [==============================] - 2s 38us/sample - loss: 0.2215 - acc: 0.9379 - val_loss: 0.2153 - val_acc: 0.9342\n",
      "Epoch 13/100\n",
      "44000/44000 [==============================] - 2s 37us/sample - loss: 0.2183 - acc: 0.9383 - val_loss: 0.2182 - val_acc: 0.9345\n",
      "Epoch 14/100\n",
      "44000/44000 [==============================] - 2s 38us/sample - loss: 0.2143 - acc: 0.9391 - val_loss: 0.2154 - val_acc: 0.9355\n",
      "Epoch 15/100\n",
      "44000/44000 [==============================] - 2s 38us/sample - loss: 0.2150 - acc: 0.9389 - val_loss: 0.2096 - val_acc: 0.9350\n",
      "Epoch 16/100\n",
      "44000/44000 [==============================] - 2s 37us/sample - loss: 0.2130 - acc: 0.9400 - val_loss: 0.2118 - val_acc: 0.9348\n",
      "Epoch 17/100\n",
      "44000/44000 [==============================] - 2s 38us/sample - loss: 0.2092 - acc: 0.9395 - val_loss: 0.2126 - val_acc: 0.9343\n",
      "Epoch 18/100\n",
      "44000/44000 [==============================] - 2s 36us/sample - loss: 0.2066 - acc: 0.9398 - val_loss: 0.2116 - val_acc: 0.9346\n",
      "Epoch 19/100\n",
      "44000/44000 [==============================] - 2s 36us/sample - loss: 0.2046 - acc: 0.9405 - val_loss: 0.2101 - val_acc: 0.9351\n",
      "Epoch 20/100\n",
      "44000/44000 [==============================] - 2s 37us/sample - loss: 0.2012 - acc: 0.9417 - val_loss: 0.2092 - val_acc: 0.9360\n",
      "Epoch 21/100\n",
      "44000/44000 [==============================] - 2s 38us/sample - loss: 0.2015 - acc: 0.9404 - val_loss: 0.2102 - val_acc: 0.9359\n",
      "Epoch 22/100\n",
      "44000/44000 [==============================] - 2s 38us/sample - loss: 0.2006 - acc: 0.9416 - val_loss: 0.2066 - val_acc: 0.9367\n",
      "Epoch 23/100\n",
      "44000/44000 [==============================] - 2s 38us/sample - loss: 0.2003 - acc: 0.9416 - val_loss: 0.2092 - val_acc: 0.9361\n",
      "Epoch 24/100\n",
      "44000/44000 [==============================] - 2s 38us/sample - loss: 0.1962 - acc: 0.9425 - val_loss: 0.2080 - val_acc: 0.9373\n",
      "Epoch 25/100\n",
      "44000/44000 [==============================] - 2s 37us/sample - loss: 0.1939 - acc: 0.9431 - val_loss: 0.2073 - val_acc: 0.9363\n",
      "Epoch 26/100\n",
      "44000/44000 [==============================] - 2s 38us/sample - loss: 0.1964 - acc: 0.9430 - val_loss: 0.2089 - val_acc: 0.9341\n",
      "Epoch 27/100\n",
      "44000/44000 [==============================] - 2s 37us/sample - loss: 0.1926 - acc: 0.9432 - val_loss: 0.2082 - val_acc: 0.9358\n",
      "Epoch 28/100\n",
      "44000/44000 [==============================] - 2s 37us/sample - loss: 0.1896 - acc: 0.9450 - val_loss: 0.2090 - val_acc: 0.9376\n",
      "Epoch 29/100\n",
      "44000/44000 [==============================] - 2s 39us/sample - loss: 0.1888 - acc: 0.9445 - val_loss: 0.2042 - val_acc: 0.9364\n",
      "Epoch 30/100\n",
      "44000/44000 [==============================] - 2s 39us/sample - loss: 0.1872 - acc: 0.9453 - val_loss: 0.2071 - val_acc: 0.9359\n",
      "Epoch 31/100\n",
      "44000/44000 [==============================] - 2s 38us/sample - loss: 0.1871 - acc: 0.9452 - val_loss: 0.2054 - val_acc: 0.9369\n",
      "Epoch 32/100\n",
      "44000/44000 [==============================] - 2s 37us/sample - loss: 0.1863 - acc: 0.9447 - val_loss: 0.2056 - val_acc: 0.9358\n",
      "Epoch 33/100\n",
      "44000/44000 [==============================] - 2s 36us/sample - loss: 0.1837 - acc: 0.9449 - val_loss: 0.2047 - val_acc: 0.9378\n",
      "Epoch 34/100\n",
      "44000/44000 [==============================] - 2s 37us/sample - loss: 0.1816 - acc: 0.9464 - val_loss: 0.2093 - val_acc: 0.9369\n",
      "Epoch 35/100\n",
      "44000/44000 [==============================] - 2s 38us/sample - loss: 0.1819 - acc: 0.9467 - val_loss: 0.2083 - val_acc: 0.9365\n",
      "Epoch 36/100\n",
      "44000/44000 [==============================] - 2s 38us/sample - loss: 0.1790 - acc: 0.9468 - val_loss: 0.2075 - val_acc: 0.9361\n",
      "Epoch 37/100\n",
      "44000/44000 [==============================] - 2s 37us/sample - loss: 0.1802 - acc: 0.9467 - val_loss: 0.2033 - val_acc: 0.9381\n",
      "Epoch 38/100\n",
      "44000/44000 [==============================] - 2s 38us/sample - loss: 0.1768 - acc: 0.9472 - val_loss: 0.2043 - val_acc: 0.9381\n",
      "Epoch 39/100\n",
      "44000/44000 [==============================] - 2s 38us/sample - loss: 0.1760 - acc: 0.9475 - val_loss: 0.2069 - val_acc: 0.9379\n",
      "Epoch 40/100\n",
      "44000/44000 [==============================] - 2s 39us/sample - loss: 0.1730 - acc: 0.9483 - val_loss: 0.2098 - val_acc: 0.9365\n",
      "Epoch 41/100\n",
      "44000/44000 [==============================] - 2s 37us/sample - loss: 0.1741 - acc: 0.9486 - val_loss: 0.2067 - val_acc: 0.9378\n",
      "Epoch 42/100\n",
      "44000/44000 [==============================] - 2s 36us/sample - loss: 0.1732 - acc: 0.9483 - val_loss: 0.2102 - val_acc: 0.9370\n",
      "Epoch 43/100\n",
      "44000/44000 [==============================] - 2s 38us/sample - loss: 0.1728 - acc: 0.9491 - val_loss: 0.2049 - val_acc: 0.9376\n",
      "Epoch 44/100\n",
      "44000/44000 [==============================] - 2s 38us/sample - loss: 0.1750 - acc: 0.9486 - val_loss: 0.2082 - val_acc: 0.9354\n",
      "Epoch 45/100\n",
      "44000/44000 [==============================] - 2s 38us/sample - loss: 0.1695 - acc: 0.9488 - val_loss: 0.2062 - val_acc: 0.9365\n",
      "Epoch 46/100\n",
      "44000/44000 [==============================] - 2s 38us/sample - loss: 0.1708 - acc: 0.9489 - val_loss: 0.2064 - val_acc: 0.9358\n",
      "Epoch 47/100\n",
      "44000/44000 [==============================] - 2s 38us/sample - loss: 0.1663 - acc: 0.9503 - val_loss: 0.2092 - val_acc: 0.9370\n",
      "Epoch 48/100\n",
      "44000/44000 [==============================] - 2s 38us/sample - loss: 0.1664 - acc: 0.9503 - val_loss: 0.2063 - val_acc: 0.9374\n",
      "Epoch 49/100\n",
      "44000/44000 [==============================] - 2s 38us/sample - loss: 0.1662 - acc: 0.9496 - val_loss: 0.2068 - val_acc: 0.9375\n",
      "Epoch 50/100\n",
      "44000/44000 [==============================] - 2s 36us/sample - loss: 0.1668 - acc: 0.9500 - val_loss: 0.2067 - val_acc: 0.9378\n",
      "Epoch 51/100\n",
      "44000/44000 [==============================] - 2s 37us/sample - loss: 0.1654 - acc: 0.9499 - val_loss: 0.2064 - val_acc: 0.9382\n",
      "Epoch 52/100\n",
      "44000/44000 [==============================] - 2s 37us/sample - loss: 0.1640 - acc: 0.9514 - val_loss: 0.2063 - val_acc: 0.9355\n",
      "Epoch 53/100\n",
      "44000/44000 [==============================] - 2s 37us/sample - loss: 0.1630 - acc: 0.9508 - val_loss: 0.2076 - val_acc: 0.9376\n",
      "Epoch 54/100\n",
      "44000/44000 [==============================] - 2s 38us/sample - loss: 0.1606 - acc: 0.9517 - val_loss: 0.2108 - val_acc: 0.9379\n",
      "Epoch 55/100\n",
      "44000/44000 [==============================] - 2s 38us/sample - loss: 0.1629 - acc: 0.9514 - val_loss: 0.2087 - val_acc: 0.9367\n",
      "Epoch 56/100\n",
      "44000/44000 [==============================] - 2s 38us/sample - loss: 0.1618 - acc: 0.9510 - val_loss: 0.2102 - val_acc: 0.9370\n",
      "Epoch 57/100\n",
      "44000/44000 [==============================] - 2s 39us/sample - loss: 0.1599 - acc: 0.9512 - val_loss: 0.2101 - val_acc: 0.9375\n",
      "Epoch 58/100\n",
      "44000/44000 [==============================] - 2s 38us/sample - loss: 0.1578 - acc: 0.9528 - val_loss: 0.2128 - val_acc: 0.9361\n"
     ]
    },
    {
     "name": "stdout",
     "output_type": "stream",
     "text": [
      "Epoch 59/100\n",
      "44000/44000 [==============================] - 2s 39us/sample - loss: 0.1578 - acc: 0.9525 - val_loss: 0.2115 - val_acc: 0.9362\n",
      "Epoch 60/100\n",
      "44000/44000 [==============================] - 2s 38us/sample - loss: 0.1550 - acc: 0.9527 - val_loss: 0.2125 - val_acc: 0.9368\n",
      "Epoch 61/100\n",
      "44000/44000 [==============================] - 2s 39us/sample - loss: 0.1565 - acc: 0.9530 - val_loss: 0.2110 - val_acc: 0.9370\n",
      "Epoch 62/100\n",
      "44000/44000 [==============================] - 2s 38us/sample - loss: 0.1560 - acc: 0.9523 - val_loss: 0.2116 - val_acc: 0.9350\n",
      "Epoch 63/100\n",
      "44000/44000 [==============================] - 2s 39us/sample - loss: 0.1548 - acc: 0.9528 - val_loss: 0.2146 - val_acc: 0.9363\n",
      "Epoch 64/100\n",
      "44000/44000 [==============================] - 2s 38us/sample - loss: 0.1554 - acc: 0.9525 - val_loss: 0.2107 - val_acc: 0.9365\n",
      "Epoch 65/100\n",
      "44000/44000 [==============================] - 2s 38us/sample - loss: 0.1520 - acc: 0.9540 - val_loss: 0.2119 - val_acc: 0.9357\n",
      "Epoch 66/100\n",
      "44000/44000 [==============================] - 2s 38us/sample - loss: 0.1519 - acc: 0.9538 - val_loss: 0.2136 - val_acc: 0.9372\n",
      "Epoch 67/100\n",
      "44000/44000 [==============================] - 2s 38us/sample - loss: 0.1526 - acc: 0.9535 - val_loss: 0.2136 - val_acc: 0.9349\n",
      "Epoch 68/100\n",
      "44000/44000 [==============================] - 2s 39us/sample - loss: 0.1516 - acc: 0.9535 - val_loss: 0.2137 - val_acc: 0.9366\n",
      "Epoch 69/100\n",
      "44000/44000 [==============================] - 2s 37us/sample - loss: 0.1521 - acc: 0.9546 - val_loss: 0.2144 - val_acc: 0.9357\n",
      "Epoch 70/100\n",
      "44000/44000 [==============================] - 2s 36us/sample - loss: 0.1504 - acc: 0.9539 - val_loss: 0.2118 - val_acc: 0.9372\n",
      "Epoch 71/100\n",
      "44000/44000 [==============================] - 2s 36us/sample - loss: 0.1501 - acc: 0.9546 - val_loss: 0.2158 - val_acc: 0.9346\n",
      "Epoch 72/100\n",
      "44000/44000 [==============================] - 2s 37us/sample - loss: 0.1509 - acc: 0.9536 - val_loss: 0.2141 - val_acc: 0.9345\n",
      "Epoch 73/100\n",
      "44000/44000 [==============================] - 2s 37us/sample - loss: 0.1485 - acc: 0.9539 - val_loss: 0.2156 - val_acc: 0.9363\n",
      "Epoch 74/100\n",
      "44000/44000 [==============================] - 2s 38us/sample - loss: 0.1475 - acc: 0.9557 - val_loss: 0.2142 - val_acc: 0.9374\n",
      "Epoch 75/100\n",
      "44000/44000 [==============================] - 2s 36us/sample - loss: 0.1494 - acc: 0.9547 - val_loss: 0.2144 - val_acc: 0.9355\n",
      "Epoch 76/100\n",
      "44000/44000 [==============================] - 2s 37us/sample - loss: 0.1480 - acc: 0.9548 - val_loss: 0.2153 - val_acc: 0.9353\n",
      "Epoch 77/100\n",
      "44000/44000 [==============================] - 2s 37us/sample - loss: 0.1485 - acc: 0.9556 - val_loss: 0.2164 - val_acc: 0.9366\n",
      "Epoch 78/100\n",
      "44000/44000 [==============================] - 2s 37us/sample - loss: 0.1487 - acc: 0.9551 - val_loss: 0.2125 - val_acc: 0.9365\n",
      "Epoch 79/100\n",
      "44000/44000 [==============================] - 2s 38us/sample - loss: 0.1470 - acc: 0.9551 - val_loss: 0.2142 - val_acc: 0.9352\n",
      "Epoch 80/100\n",
      "44000/44000 [==============================] - 2s 38us/sample - loss: 0.1470 - acc: 0.9550 - val_loss: 0.2129 - val_acc: 0.9358\n",
      "Epoch 81/100\n",
      "44000/44000 [==============================] - 2s 38us/sample - loss: 0.1466 - acc: 0.9548 - val_loss: 0.2157 - val_acc: 0.9347\n",
      "Epoch 82/100\n",
      "44000/44000 [==============================] - 2s 36us/sample - loss: 0.1470 - acc: 0.9554 - val_loss: 0.2154 - val_acc: 0.9358\n",
      "Epoch 83/100\n",
      "44000/44000 [==============================] - 2s 36us/sample - loss: 0.1459 - acc: 0.9554 - val_loss: 0.2150 - val_acc: 0.9347\n",
      "Epoch 84/100\n",
      "44000/44000 [==============================] - 2s 35us/sample - loss: 0.1438 - acc: 0.9553 - val_loss: 0.2164 - val_acc: 0.9362\n",
      "Epoch 85/100\n",
      "44000/44000 [==============================] - 2s 36us/sample - loss: 0.1453 - acc: 0.9540 - val_loss: 0.2150 - val_acc: 0.9362\n",
      "Epoch 86/100\n",
      "44000/44000 [==============================] - 2s 36us/sample - loss: 0.1434 - acc: 0.9545 - val_loss: 0.2164 - val_acc: 0.9368\n",
      "Epoch 87/100\n",
      "44000/44000 [==============================] - 2s 36us/sample - loss: 0.1422 - acc: 0.9566 - val_loss: 0.2155 - val_acc: 0.9363\n",
      "Epoch 88/100\n",
      "44000/44000 [==============================] - 2s 38us/sample - loss: 0.1408 - acc: 0.9564 - val_loss: 0.2181 - val_acc: 0.9355\n",
      "Epoch 89/100\n",
      "44000/44000 [==============================] - 2s 38us/sample - loss: 0.1410 - acc: 0.9565 - val_loss: 0.2154 - val_acc: 0.9380\n",
      "Epoch 90/100\n",
      "44000/44000 [==============================] - 2s 37us/sample - loss: 0.1432 - acc: 0.9557 - val_loss: 0.2184 - val_acc: 0.9375\n",
      "Epoch 91/100\n",
      "44000/44000 [==============================] - 2s 38us/sample - loss: 0.1412 - acc: 0.9564 - val_loss: 0.2240 - val_acc: 0.9357\n",
      "Epoch 92/100\n",
      "44000/44000 [==============================] - 2s 38us/sample - loss: 0.1404 - acc: 0.9569 - val_loss: 0.2209 - val_acc: 0.9374\n",
      "Epoch 93/100\n",
      "44000/44000 [==============================] - 2s 38us/sample - loss: 0.1401 - acc: 0.9574 - val_loss: 0.2157 - val_acc: 0.9358\n",
      "Epoch 94/100\n",
      "44000/44000 [==============================] - 2s 38us/sample - loss: 0.1388 - acc: 0.9572 - val_loss: 0.2182 - val_acc: 0.9371\n",
      "Epoch 95/100\n",
      "44000/44000 [==============================] - 2s 39us/sample - loss: 0.1389 - acc: 0.9570 - val_loss: 0.2202 - val_acc: 0.9363\n",
      "Epoch 96/100\n",
      "44000/44000 [==============================] - 2s 37us/sample - loss: 0.1376 - acc: 0.9573 - val_loss: 0.2193 - val_acc: 0.9374\n",
      "Epoch 97/100\n",
      "44000/44000 [==============================] - 2s 37us/sample - loss: 0.1378 - acc: 0.9579 - val_loss: 0.2207 - val_acc: 0.9365\n",
      "Epoch 98/100\n",
      "44000/44000 [==============================] - 2s 37us/sample - loss: 0.1390 - acc: 0.9565 - val_loss: 0.2202 - val_acc: 0.9364\n",
      "Epoch 99/100\n",
      "44000/44000 [==============================] - 2s 38us/sample - loss: 0.1362 - acc: 0.9578 - val_loss: 0.2195 - val_acc: 0.9378\n",
      "Epoch 100/100\n",
      "44000/44000 [==============================] - 2s 38us/sample - loss: 0.1377 - acc: 0.9579 - val_loss: 0.2181 - val_acc: 0.9374\n"
     ]
    },
    {
     "data": {
      "text/plain": [
       "<tensorflow.python.keras.callbacks.History at 0x7ff634074550>"
      ]
     },
     "execution_count": 140,
     "metadata": {},
     "output_type": "execute_result"
    }
   ],
   "source": [
    "# Set the input shape\n",
    "input_shape = (50,)\n",
    "# print(f'Feature shape: {input_shape}')\n",
    "\n",
    "# Create the model\n",
    "model = keras.Sequential()\n",
    "model.add(keras.layers.Dense(300, input_shape=input_shape, activation='relu'))\n",
    "model.add(keras.layers.Dropout(0.4))\n",
    "model.add(keras.layers.Dense(100,  activation='relu'))\n",
    "model.add(keras.layers.Dropout(0.4))\n",
    "model.add(keras.layers.Dense(50, activation='relu'))\n",
    "model.add(keras.layers.Dropout(0.2))\n",
    "model.add(keras.layers.Dense(10, activation='softmax'))\n",
    "\n",
    "# Configure the model and start training\n",
    "model.compile(loss='sparse_categorical_crossentropy', optimizer='adam', metrics=['accuracy'])\n",
    "model.fit(np.transpose(train_pred_pred[:5],[1,2,0]).reshape([-1,50]), train_dataset_y.astype(int), epochs=100, batch_size=250, verbose=1, validation_split=0.2)\n"
   ]
  },
  {
   "cell_type": "code",
   "execution_count": null,
   "metadata": {},
   "outputs": [],
   "source": []
  }
 ],
 "metadata": {
  "kernelspec": {
   "display_name": "Python 3",
   "language": "python",
   "name": "python3"
  },
  "language_info": {
   "codemirror_mode": {
    "name": "ipython",
    "version": 3
   },
   "file_extension": ".py",
   "mimetype": "text/x-python",
   "name": "python",
   "nbconvert_exporter": "python",
   "pygments_lexer": "ipython3",
   "version": "3.5.2"
  }
 },
 "nbformat": 4,
 "nbformat_minor": 2
}
