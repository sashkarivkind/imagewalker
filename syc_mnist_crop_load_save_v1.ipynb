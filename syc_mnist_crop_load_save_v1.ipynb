{
 "cells": [
  {
   "cell_type": "markdown",
   "metadata": {
    "jupyter": {
     "source_hidden": true
    }
   },
   "source": [
    "# Load the MNIST dataset"
   ]
  },
  {
   "cell_type": "markdown",
   "metadata": {},
   "source": [
    "https://www.tensorflow.org/api_docs/python/tf/keras/datasets/mnist/load_data"
   ]
  },
  {
   "cell_type": "code",
   "execution_count": 1,
   "metadata": {},
   "outputs": [],
   "source": [
    "import tensorflow as tf\n",
    "import numpy as np\n",
    "\n",
    "import matplotlib.pyplot as plt\n"
   ]
  },
  {
   "cell_type": "code",
   "execution_count": 2,
   "metadata": {},
   "outputs": [],
   "source": [
    "(x_train, y_train), (x_test, y_test) = tf.keras.datasets.mnist.load_data()\n",
    "assert x_train.shape == (60000, 28, 28)\n",
    "assert x_test.shape == (10000, 28, 28)\n",
    "assert y_train.shape == (60000,)\n",
    "assert y_test.shape == (10000,)"
   ]
  },
  {
   "cell_type": "markdown",
   "metadata": {},
   "source": [
    "# Load recorded events list from .pickle file"
   ]
  },
  {
   "cell_type": "code",
   "execution_count": 425,
   "metadata": {},
   "outputs": [],
   "source": [
    "# Set params value for .pkl file name:\n",
    "\n",
    "fr_ev_th=8\n",
    "mnist_sym_start=6000\n",
    "mnist_sym_end=11999\n",
    "frame_size = 16\n",
    "# list_np_fr = [[] for i in range(3)]"
   ]
  },
  {
   "cell_type": "code",
   "execution_count": 426,
   "metadata": {},
   "outputs": [],
   "source": [
    "import pickle\n",
    "\n",
    "f_path='./'\n",
    "f_name='mnist_'+str(mnist_sym_start)+'_'+str(mnist_sym_end)+'.pkl'\n",
    "full_path=f_path+f_name\n",
    "with open(full_path, 'rb') as f:\n",
    "    events = pickle.load(f)"
   ]
  },
  {
   "cell_type": "code",
   "execution_count": 427,
   "metadata": {},
   "outputs": [
    {
     "name": "stdout",
     "output_type": "stream",
     "text": [
      "6000\n",
      "763\n",
      "<class 'list'>\n"
     ]
    }
   ],
   "source": [
    "print(len(events))\n",
    "print(len(events[5999]))\n",
    "print(type(events[5999]))"
   ]
  },
  {
   "cell_type": "markdown",
   "metadata": {},
   "source": [
    "# Create a list of numpy frames (with crop) on_off/on/off"
   ]
  },
  {
   "cell_type": "code",
   "execution_count": 428,
   "metadata": {},
   "outputs": [
    {
     "name": "stdout",
     "output_type": "stream",
     "text": [
      "6000\n",
      "5\n",
      "<class 'numpy.ndarray'>\n",
      "(16, 16)\n"
     ]
    },
    {
     "data": {
      "image/png": "[encoded data removed]",
      "text/plain": [
       "<Figure size 432x288 with 1 Axes>"
      ]
     },
     "metadata": {
      "needs_background": "light"
     },
     "output_type": "display_data"
    }
   ],
   "source": [
    "# operational with crop and create a list of 3d numpy arrays = num_of_frames x 2D frame\n",
    "\n",
    "import matplotlib.pyplot as plt\n",
    "%matplotlib inline\n",
    "\n",
    "def to_uint8( data ) :\n",
    "    # maximum pixel\n",
    "    latch = np.zeros_like( data )\n",
    "    latch[:] = 255\n",
    "    # minimum pixel\n",
    "    zeros = np.zeros_like( data )\n",
    "\n",
    "    # unrolled to illustrate steps\n",
    "    d = np.maximum( zeros, data )\n",
    "    d = np.minimum( latch, d )\n",
    "\n",
    "    # cast to uint8\n",
    "    return np.asarray( d, dtype=\"uint8\" )\n",
    "\n",
    "num_of_mnist_symbols=6000\n",
    "original_frame_size=32\n",
    "\n",
    "# ----------Input parameters:--------\n",
    "max_num_of_frames=100\n",
    "# max_num_of_frames=10\n",
    "frame_size=16\n",
    "# -----------------------------------\n",
    "\n",
    "crop_x_min=(original_frame_size-frame_size)//2+1+(original_frame_size-frame_size)%2\n",
    "crop_x_max=original_frame_size-((original_frame_size-frame_size)//2+1)\n",
    "crop_y_min=crop_x_min\n",
    "crop_y_max=crop_x_max\n",
    "\n",
    "list_np_fr_arr_on_off = []\n",
    "list_np_fr_arr_on = []\n",
    "list_np_fr_arr_off = []\n",
    "# fr_ev_th=8\n",
    "for mnist_sym in events:\n",
    "    np_fr_arr_on_off=np.zeros((max_num_of_frames,frame_size,frame_size))\n",
    "    np_fr_arr_on=np.zeros((max_num_of_frames,frame_size,frame_size))\n",
    "    np_fr_arr_off=np.zeros((max_num_of_frames,frame_size,frame_size))\n",
    "#     ev_cnt=[0,0,0]\n",
    "#     fr_num=[0,0,0]\n",
    "    ev_cnt=0\n",
    "    fr_num=0\n",
    "    for e in mnist_sym:\n",
    "        x=e[1]-crop_x_min\n",
    "        y=e[2]-crop_y_min\n",
    "        if e[1]>=crop_x_min and e[1]<=crop_x_max and e[2]>=crop_y_min and e[2]<=crop_y_max:\n",
    "#             np_fr_arr_on_off[fr_num[0], (frame_size-1)-y,x]=np_fr_arr_on_off[fr_num[0], (frame_size-1)-y,x]+1\n",
    "            np_fr_arr_on_off[fr_num, (frame_size-1)-y,x]=np_fr_arr_on_off[fr_num, (frame_size-1)-y,x]+1\n",
    "            if e[3]==1:\n",
    "#                 if ev_cnt[1]>=fr_ev_th-1 and fr_num[1]<max_num_of_frames-1:\n",
    "#                     fr_num[1]+=1\n",
    "#                     ev_cnt[1]=0\n",
    "#                 else:\n",
    "#                     ev_cnt[1]+=1\n",
    "#                 np_fr_arr_on[fr_num[1], (frame_size-1)-y,x]=np_fr_arr_on[fr_num[1], (frame_size-1)-y,x]+1\n",
    "                np_fr_arr_on[fr_num, (frame_size-1)-y,x]=np_fr_arr_on[fr_num, (frame_size-1)-y,x]+1\n",
    "            else:\n",
    "#                 if ev_cnt[2]>=fr_ev_th-1 and fr_num[2]<max_num_of_frames-1:\n",
    "#                     fr_num[2]+=1\n",
    "#                     ev_cnt[2]=0\n",
    "#                 else:\n",
    "#                     ev_cnt[2]+=1\n",
    "#                 np_fr_arr_off[fr_num[2], (frame_size-1)-y,x]=np_fr_arr_off[fr_num[2], (frame_size-1)-y,x]+1\n",
    "                np_fr_arr_off[fr_num, (frame_size-1)-y,x]=np_fr_arr_off[fr_num, (frame_size-1)-y,x]+1\n",
    "\n",
    "#             if ev_cnt[0]>=fr_ev_th-1 and fr_num[0]<max_num_of_frames-1:\n",
    "#                 fr_num[0]+=1\n",
    "#                 ev_cnt[0]=0\n",
    "#             else:\n",
    "#                 ev_cnt[0]+=1\n",
    "            if ev_cnt>=fr_ev_th-1 and fr_num<max_num_of_frames-1:\n",
    "                fr_num+=1\n",
    "                ev_cnt=0\n",
    "            else:\n",
    "                ev_cnt+=1\n",
    "    \n",
    "#     fr_num[0] += 1\n",
    "#     fr_num[1] += 1\n",
    "#     fr_num[2] += 1\n",
    "    fr_num += 1\n",
    "    \n",
    "#     list_np_fr_arr_on_off.append(np_fr_arr_on_off[:fr_num[0],:,:])\n",
    "#     list_np_fr_arr_on.append(np_fr_arr_on[:fr_num[1],:,:])\n",
    "#     list_np_fr_arr_off.append(np_fr_arr_off[:fr_num[2],:,:])\n",
    "    list_np_fr_arr_on_off.append(np_fr_arr_on_off[:fr_num,:,:])\n",
    "    list_np_fr_arr_on.append(np_fr_arr_on[:fr_num,:,:])\n",
    "    list_np_fr_arr_off.append(np_fr_arr_off[:fr_num,:,:])\n",
    "\n",
    "\n",
    "# -----Testing parameters:----------    \n",
    "frame_sample = 0\n",
    "mnist_sym_relative_ind=0\n",
    "# ----------------------------------\n",
    "\n",
    "print(len(list_np_fr_arr_on_off))\n",
    "print(y_train[mnist_sym_relative_ind])\n",
    "print(type(list_np_fr_arr_on_off[mnist_sym_relative_ind][frame_sample,:,:]))\n",
    "print(list_np_fr_arr_on_off[mnist_sym_relative_ind][frame_sample,:,:].shape)\n",
    "image = list_np_fr_arr_on_off[mnist_sym_relative_ind][frame_sample,:,:]\n",
    "# plot the sample\n",
    "fig = plt.figure\n",
    "plt.imshow(image, cmap='gray')\n",
    "plt.show()"
   ]
  },
  {
   "cell_type": "markdown",
   "metadata": {},
   "source": [
    "# Load and plot frame samples from the list of 6000 mnist symbol event frames"
   ]
  },
  {
   "cell_type": "code",
   "execution_count": 82,
   "metadata": {},
   "outputs": [
    {
     "name": "stdout",
     "output_type": "stream",
     "text": [
      "6000\n",
      "0\n",
      "<class 'numpy.ndarray'>\n",
      "(4, 16, 16)\n"
     ]
    },
    {
     "data": {
      "image/png": "[encoded data removed]",
      "text/plain": [
       "<Figure size 432x288 with 1 Axes>"
      ]
     },
     "metadata": {
      "needs_background": "light"
     },
     "output_type": "display_data"
    },
    {
     "data": {
      "image/png": "[encoded data removed]",
      "text/plain": [
       "<Figure size 432x288 with 1 Axes>"
      ]
     },
     "metadata": {
      "needs_background": "light"
     },
     "output_type": "display_data"
    },
    {
     "data": {
      "image/png": "[encoded data removed]",
      "text/plain": [
       "<Figure size 432x288 with 1 Axes>"
      ]
     },
     "metadata": {
      "needs_background": "light"
     },
     "output_type": "display_data"
    },
    {
     "data": {
      "image/png": "[encoded data removed]",
      "text/plain": [
       "<Figure size 432x288 with 1 Axes>"
      ]
     },
     "metadata": {
      "needs_background": "light"
     },
     "output_type": "display_data"
    }
   ],
   "source": [
    "# mnist_sym_start=12000\n",
    "frame_sample = 5\n",
    "mnist_sym_relative_ind=2000\n",
    "print(len(list_np_fr_arr_on_off))\n",
    "print(y_train[mnist_sym_start+mnist_sym_relative_ind])\n",
    "print(type(list_np_fr_arr_on[mnist_sym_relative_ind]))\n",
    "print(list_np_fr_arr_on[mnist_sym_relative_ind].shape)\n",
    "for frame_sample in range(list_np_fr_arr_on[mnist_sym_relative_ind].shape[0]):\n",
    "    image = list_np_fr_arr_on[mnist_sym_relative_ind][frame_sample,:,:]\n",
    "    # plot the sample\n",
    "    fig = plt.figure\n",
    "    plt.imshow(image, cmap='gray')\n",
    "    plt.show()"
   ]
  },
  {
   "cell_type": "markdown",
   "metadata": {},
   "source": [
    "# Save recorded events numpy frame lists to .pickle file"
   ]
  },
  {
   "cell_type": "code",
   "execution_count": 249,
   "metadata": {},
   "outputs": [],
   "source": [
    "import pickle\n",
    "\n",
    "list_np_fr=[list_np_fr_arr_on_off,list_np_fr_arr_on,list_np_fr_arr_off]\n",
    "f_path='./'\n",
    "f_name='mnist_'+str(mnist_sym_start)+'_'+str(mnist_sym_end)+'_list_np_fr_'+str(frame_size)+'_ev_th_'+str(fr_ev_th)+'.pkl'\n",
    "full_path=f_path+f_name\n",
    "with open(full_path, 'wb') as f:\n",
    "    pickle.dump(list_np_fr, f)"
   ]
  },
  {
   "cell_type": "code",
   "execution_count": 429,
   "metadata": {},
   "outputs": [],
   "source": [
    "list_np_fr_6000=[list_np_fr_arr_on_off,list_np_fr_arr_on,list_np_fr_arr_off]"
   ]
  },
  {
   "cell_type": "markdown",
   "metadata": {},
   "source": [
    "# Load recorded events list from .pickle file"
   ]
  },
  {
   "cell_type": "code",
   "execution_count": 262,
   "metadata": {},
   "outputs": [],
   "source": [
    "import pickle\n",
    "\n",
    "mnist_start = 12000\n",
    "mnist_end = 17999\n",
    "\n",
    "f_path='./'\n",
    "f_name='mnist_'+str(mnist_start)+'_'+str(mnist_end)+'_list_np_fr_'+str(frame_size)+'_ev_th_'+str(fr_ev_th)+'.pkl'\n",
    "full_path=f_path+f_name\n",
    "with open(full_path, 'rb') as f:\n",
    "    list_np_fr_6000 = pickle.load(f)\n",
    "    \n",
    "    "
   ]
  },
  {
   "cell_type": "code",
   "execution_count": 412,
   "metadata": {},
   "outputs": [
    {
     "data": {
      "text/plain": [
       "array([[[0., 0., 0., 0., 0., 0., 0., 0., 0., 0., 0., 0., 0., 0., 0., 0.],\n",
       "        [0., 0., 0., 0., 0., 0., 0., 0., 0., 0., 0., 0., 0., 0., 0., 0.],\n",
       "        [0., 0., 0., 0., 0., 2., 0., 0., 0., 0., 0., 0., 0., 0., 0., 0.],\n",
       "        [0., 0., 0., 0., 0., 0., 0., 0., 0., 0., 0., 0., 0., 0., 0., 0.],\n",
       "        [0., 0., 0., 0., 0., 0., 0., 0., 0., 0., 0., 0., 0., 0., 0., 0.],\n",
       "        [0., 0., 0., 0., 0., 0., 0., 0., 0., 0., 0., 0., 0., 0., 0., 0.],\n",
       "        [0., 0., 0., 0., 0., 0., 0., 0., 0., 0., 0., 0., 0., 0., 0., 0.],\n",
       "        [0., 0., 0., 0., 0., 0., 0., 0., 0., 0., 0., 0., 0., 0., 0., 0.],\n",
       "        [0., 0., 0., 0., 0., 0., 0., 0., 0., 0., 0., 0., 1., 0., 0., 0.],\n",
       "        [0., 0., 0., 0., 0., 0., 1., 0., 0., 0., 0., 0., 0., 0., 0., 0.],\n",
       "        [0., 0., 0., 0., 0., 0., 0., 0., 0., 0., 0., 0., 0., 0., 0., 0.],\n",
       "        [0., 0., 0., 0., 0., 0., 0., 0., 0., 0., 0., 0., 0., 0., 0., 0.],\n",
       "        [0., 0., 0., 0., 0., 0., 0., 1., 0., 0., 0., 0., 0., 0., 0., 0.],\n",
       "        [0., 0., 0., 0., 0., 0., 0., 2., 0., 0., 0., 0., 0., 0., 0., 0.],\n",
       "        [0., 0., 0., 0., 0., 0., 0., 0., 0., 0., 0., 0., 0., 0., 0., 0.],\n",
       "        [0., 0., 0., 0., 0., 0., 0., 0., 0., 0., 0., 0., 0., 0., 0., 0.]]])"
      ]
     },
     "execution_count": 412,
     "metadata": {},
     "output_type": "execute_result"
    }
   ],
   "source": [
    "list_np_fr_6000[0][869]"
   ]
  },
  {
   "cell_type": "code",
   "execution_count": 430,
   "metadata": {},
   "outputs": [],
   "source": [
    "# list_np_fr = [[] for i in range(3)]\n",
    "\n",
    "mnist_sym_start=0\n",
    "mnist_sym_end=11999"
   ]
  },
  {
   "cell_type": "code",
   "execution_count": 431,
   "metadata": {},
   "outputs": [],
   "source": [
    "for i in range(3):\n",
    "    for frames in list_np_fr_6000[i]:\n",
    "        list_np_fr[i].append(frames)\n"
   ]
  },
  {
   "cell_type": "code",
   "execution_count": 432,
   "metadata": {},
   "outputs": [
    {
     "data": {
      "text/plain": [
       "12000"
      ]
     },
     "execution_count": 432,
     "metadata": {},
     "output_type": "execute_result"
    }
   ],
   "source": [
    "len(list_np_fr[0])"
   ]
  },
  {
   "cell_type": "markdown",
   "metadata": {},
   "source": [
    "# Load and plot frame samples from the list of 6000 mnist symbol event frames"
   ]
  },
  {
   "cell_type": "code",
   "execution_count": 435,
   "metadata": {},
   "outputs": [
    {
     "name": "stdout",
     "output_type": "stream",
     "text": [
      "7\n"
     ]
    },
    {
     "data": {
      "text/plain": [
       "<matplotlib.image.AxesImage at 0x2b0b88dd6f50>"
      ]
     },
     "execution_count": 435,
     "metadata": {},
     "output_type": "execute_result"
    },
    {
     "data": {
      "image/png": "[encoded data removed]",
      "text/plain": [
       "<Figure size 864x288 with 10 Axes>"
      ]
     },
     "metadata": {
      "needs_background": "light"
     },
     "output_type": "display_data"
    },
    {
     "data": {
      "image/png": "[encoded data removed]",
      "text/plain": [
       "<Figure size 432x288 with 1 Axes>"
      ]
     },
     "metadata": {
      "needs_background": "light"
     },
     "output_type": "display_data"
    }
   ],
   "source": [
    "# frame_sample = 1\n",
    "mnist_sym_relative_ind=7001\n",
    "on_off = 2# 0-both,1-on,2-off\n",
    "print(y_train[mnist_sym_start+mnist_sym_relative_ind])\n",
    "# print(len(list_np_fr[1]))\n",
    "\n",
    "frames_n = list_np_fr[on_off][mnist_sym_relative_ind].shape[0]\n",
    "fig, axs = plt.subplots(1, frames_n, figsize=(12,4))\n",
    "image_sum = np.zeros(list_np_fr[on_off][mnist_sym_relative_ind][0,:,:].shape)\n",
    "\n",
    "for frame_sample in range(frames_n):\n",
    "    image = list_np_fr[on_off][mnist_sym_relative_ind][frame_sample,:,:] # list_np_fr_arr_on on events only\n",
    "    if frames_n>1:\n",
    "        axs[frame_sample].imshow(image, cmap='gray')\n",
    "        axs[frame_sample].set_title('frame'+str(frame_sample))\n",
    "    else:\n",
    "        axs.imshow(image, cmap='gray')\n",
    "        axs.set_title('frame'+str(frame_sample))\n",
    "    image_sum += image\n",
    "\n",
    "plt.figure()\n",
    "plt.imshow(image_sum)\n",
    "# plt.savefig('frames_image3000.png')"
   ]
  },
  {
   "cell_type": "code",
   "execution_count": 276,
   "metadata": {},
   "outputs": [
    {
     "name": "stdout",
     "output_type": "stream",
     "text": [
      "18000\n"
     ]
    }
   ],
   "source": [
    "#  generate single matrix with all events\n",
    "on_off = 0\n",
    "\n",
    "list_allevents = []\n",
    "for indx, mnist_sample in enumerate(list_np_fr[on_off]):\n",
    "    image_sum = np.zeros(mnist_sample[0,:,:].shape)\n",
    "    for frame in mnist_sample:\n",
    "        image_sum += frame\n",
    "        \n",
    "    list_allevents.append(image_sum[np.newaxis,:,:])\n",
    "\n",
    "print(len(list_allevents))"
   ]
  },
  {
   "cell_type": "code",
   "execution_count": 439,
   "metadata": {},
   "outputs": [],
   "source": [
    "def dvs_generate_fr_dataset(list_np_fr, on_off = 0, ts = 6):\n",
    "#     on_off = 3 # 0-both,1-on,2-off,3-on,off\n",
    "#     ts = 10\n",
    "\n",
    "    traj = np.zeros([ts,2])\n",
    "    missing_frames_count = 0\n",
    "    \n",
    "    dvs_images = []\n",
    "    trajectories = []\n",
    "    \n",
    "    for ind, samples in enumerate(list_np_fr):\n",
    "        dimim = np.zeros([ts, frame_size, frame_size, 1])\n",
    "        frames = np.min([ts,samples.shape[0]])\n",
    "        dimim[-frames:,:,:,0] = samples[:frames,:,:]\n",
    "\n",
    "#         if samples.shape[0] < ts:\n",
    "#             missing_frames_count += 1\n",
    "        \n",
    "        dvs_images.append(dimim)\n",
    "        trajectories.append(traj)\n",
    "        \n",
    "    # dvs_images = np.array(dvs_images)[:,:,:,:, np.newaxis]\n",
    "    dvs_images = np.array(dvs_images)[:,:,:,:]\n",
    "    trajectories = np.array(trajectories)\n",
    "    x_dvs = (dvs_images, trajectories)\n",
    "        \n",
    "    return x_dvs\n",
    "\n",
    "on_off = 1 # 0-both,1-on,2-off,3-on,off\n",
    "ts = 6\n",
    "first_mnist_indx = 0 # absolute- relative to mnist dataset\n",
    "last_mnist_indx = 11999\n",
    "\n",
    "used_sym_start = 6000 # relative- samples to use to build dataset\n",
    "used_sym_end = 11999\n",
    "\n",
    "y_train_aligned = y_train[first_mnist_indx:last_mnist_indx]\n",
    "val_n = 500\n",
    "rand_perm = np.random.permutation(range(used_sym_start, used_sym_end))\n",
    "train_ind = rand_perm[0:-val_n]\n",
    "test_ind = rand_perm[-val_n:]\n",
    "\n",
    "#train data\n",
    "list_fr_train = [list_np_fr[on_off][i] for i in train_ind]\n",
    "train_x_dvs = dvs_generate_fr_dataset(list_fr_train, on_off, ts)\n",
    "train_y_dvs = y_train_aligned[train_ind]\n",
    "\n",
    "#test data\n",
    "list_fr_test = [list_np_fr[on_off][i] for i in test_ind]\n",
    "test_x_dvs = dvs_generate_fr_dataset(list_fr_test, on_off, ts)\n",
    "test_y_dvs = y_train_aligned[test_ind]\n",
    "\n",
    "#second data set\n",
    "on_off = 2 # 0-both,1-on,2-off,3-on,off\n",
    "#train data\n",
    "list_fr_train = [list_np_fr[on_off][i] for i in train_ind]\n",
    "train_x_dvs_ = dvs_generate_fr_dataset(list_fr_train, on_off, ts)\n",
    "\n",
    "#test data\n",
    "list_fr_test = [list_np_fr[on_off][i] for i in test_ind]\n",
    "test_x_dvs_ = dvs_generate_fr_dataset(list_fr_test, on_off, ts)\n",
    "\n"
   ]
  },
  {
   "cell_type": "code",
   "execution_count": 440,
   "metadata": {},
   "outputs": [],
   "source": [
    "train_x_dvs_onoff = [[],[]]\n",
    "train_x_dvs_onoff[0] = np.stack((train_x_dvs[0].squeeze(),train_x_dvs_[0].squeeze()),axis=4)\n",
    "train_x_dvs_onoff[1] = train_x_dvs[1]\n",
    "\n",
    "test_x_dvs_onoff = [[],[]]\n",
    "test_x_dvs_onoff[0] = np.stack((test_x_dvs[0].squeeze(),test_x_dvs_[0].squeeze()),axis=4)\n",
    "test_x_dvs_onoff[1] = test_x_dvs[1]\n"
   ]
  },
  {
   "cell_type": "code",
   "execution_count": 441,
   "metadata": {},
   "outputs": [
    {
     "name": "stdout",
     "output_type": "stream",
     "text": [
      "(?, 6, 514)\n",
      "Fit model on training data\n",
      "Train on 5499 samples, validate on 500 samples\n",
      "Epoch 1/10\n",
      "5499/5499 [==============================] - 5s 953us/sample - loss: 2.1085 - sparse_categorical_accuracy: 0.2950 - val_loss: 1.8199 - val_sparse_categorical_accuracy: 0.4180\n",
      "Epoch 2/10\n",
      "5499/5499 [==============================] - 2s 438us/sample - loss: 1.5398 - sparse_categorical_accuracy: 0.4841 - val_loss: 1.3511 - val_sparse_categorical_accuracy: 0.4820\n",
      "Epoch 3/10\n",
      "5499/5499 [==============================] - 3s 473us/sample - loss: 1.2081 - sparse_categorical_accuracy: 0.5872 - val_loss: 1.2308 - val_sparse_categorical_accuracy: 0.5400\n",
      "Epoch 4/10\n",
      "5499/5499 [==============================] - 2s 408us/sample - loss: 1.0636 - sparse_categorical_accuracy: 0.6410 - val_loss: 1.1511 - val_sparse_categorical_accuracy: 0.5800\n",
      "Epoch 5/10\n",
      "5499/5499 [==============================] - 3s 478us/sample - loss: 0.9685 - sparse_categorical_accuracy: 0.6703 - val_loss: 1.1200 - val_sparse_categorical_accuracy: 0.5920\n",
      "Epoch 6/10\n",
      "5499/5499 [==============================] - 2s 429us/sample - loss: 0.8966 - sparse_categorical_accuracy: 0.6969 - val_loss: 1.1027 - val_sparse_categorical_accuracy: 0.6140\n",
      "Epoch 7/10\n",
      "5499/5499 [==============================] - 2s 380us/sample - loss: 0.8377 - sparse_categorical_accuracy: 0.7143 - val_loss: 1.1000 - val_sparse_categorical_accuracy: 0.6320\n",
      "Epoch 8/10\n",
      "5499/5499 [==============================] - 2s 431us/sample - loss: 0.7836 - sparse_categorical_accuracy: 0.7347 - val_loss: 1.1195 - val_sparse_categorical_accuracy: 0.6320\n",
      "Epoch 9/10\n",
      "5499/5499 [==============================] - 2s 422us/sample - loss: 0.7385 - sparse_categorical_accuracy: 0.7507 - val_loss: 1.1250 - val_sparse_categorical_accuracy: 0.6180\n",
      "Epoch 10/10\n",
      "5499/5499 [==============================] - 2s 428us/sample - loss: 0.6875 - sparse_categorical_accuracy: 0.7705 - val_loss: 1.1235 - val_sparse_categorical_accuracy: 0.6400\n"
     ]
    }
   ],
   "source": [
    "import keras_networks\n",
    "\n",
    "rnn102 = keras_networks.rnn_model_102(n_timesteps=ts,\n",
    "                                      lr=1e-3,dropout=0.0,\n",
    "                                      rnn_type='gru',\n",
    "                                      input_size=(frame_size, frame_size, 2),\n",
    "                                      conv_fe=False)\n",
    "  \n",
    "\n",
    "print(\"Fit model on training data\")\n",
    "history = rnn102.fit(\n",
    "            train_x_dvs_onoff,\n",
    "            train_y_dvs,\n",
    "            batch_size=128,\n",
    "            epochs=10,\n",
    "            # We pass some validation for\n",
    "            # monitoring validation loss and metrics\n",
    "            # at the end of each epoch\n",
    "            validation_data=(test_x_dvs_onoff, test_y_dvs)) #"
   ]
  },
  {
   "cell_type": "code",
   "execution_count": null,
   "metadata": {},
   "outputs": [],
   "source": [
    "f_path='./'\n",
    "\n",
    "symbols_in_files= [[0, 5999], [6000, 11999], [12000, 17999]]\n",
    "num_of_events = [[] for i in symbols_in_files]\n",
    "for i, symbols in enumerate(symbols_in_files):\n",
    "    \n",
    "    f_name='mnist_'+str(symbols[0])+'_'+str(symbols[1])+'.pkl'\n",
    "    full_path=f_path+f_name\n",
    "    with open(full_path, 'rb') as f:\n",
    "        events = pickle.load(f)\n",
    "    \n",
    "    for sym in events:\n",
    "        num_of_events[i].append(len(sym))\n",
    "        \n",
    "    "
   ]
  },
  {
   "cell_type": "code",
   "execution_count": null,
   "metadata": {},
   "outputs": [],
   "source": [
    "plt.figure()\n",
    "# plt.hist([num_of_events[0], num_of_events[1], num_of_events[2]], density = True)\n",
    "plt.hist(num_of_events[0], density = True)\n",
    "\n",
    "#  plt.figure()\n",
    "plt.hist(num_of_events[1], alpha=0.6, density=True)\n",
    "\n",
    "# plt.figure()\n",
    "plt.hist(num_of_events[2], alpha = 0.6, density=True)"
   ]
  },
  {
   "cell_type": "code",
   "execution_count": 442,
   "metadata": {},
   "outputs": [
    {
     "name": "stdout",
     "output_type": "stream",
     "text": [
      "1.15.0\n"
     ]
    }
   ],
   "source": [
    "print(tf.__version__)"
   ]
  }
 ],
 "metadata": {
  "kernelspec": {
   "display_name": "Python (imagewalker-cpu)",
   "language": "python",
   "name": "imagewalker-cpu"
  },
  "language_info": {
   "codemirror_mode": {
    "name": "ipython",
    "version": 3
   },
   "file_extension": ".py",
   "mimetype": "text/x-python",
   "name": "python",
   "nbconvert_exporter": "python",
   "pygments_lexer": "ipython3",
   "version": "3.7.10"
  }
 },
 "nbformat": 4,
 "nbformat_minor": 5
}
