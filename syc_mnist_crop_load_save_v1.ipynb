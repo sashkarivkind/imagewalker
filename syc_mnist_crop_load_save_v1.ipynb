{
 "cells": [
  {
   "cell_type": "markdown",
   "metadata": {},
   "source": [
    "# Load the MNIST dataset"
   ]
  },
  {
   "cell_type": "markdown",
   "metadata": {},
   "source": [
    "https://www.tensorflow.org/api_docs/python/tf/keras/datasets/mnist/load_data"
   ]
  },
  {
   "cell_type": "code",
   "execution_count": 1,
   "metadata": {},
   "outputs": [],
   "source": [
    "import tensorflow as tf\n",
    "import numpy as np\n",
    "\n",
    "import matplotlib.pyplot as plt\n"
   ]
  },
  {
   "cell_type": "code",
   "execution_count": 2,
   "metadata": {},
   "outputs": [],
   "source": [
    "(x_train, y_train), (x_test, y_test) = tf.keras.datasets.mnist.load_data()\n",
    "assert x_train.shape == (60000, 28, 28)\n",
    "assert x_test.shape == (10000, 28, 28)\n",
    "assert y_train.shape == (60000,)\n",
    "assert y_test.shape == (10000,)"
   ]
  },
  {
   "cell_type": "markdown",
   "metadata": {},
   "source": [
    "# Load recorded events list from .pickle file"
   ]
  },
  {
   "cell_type": "code",
   "execution_count": 170,
   "metadata": {},
   "outputs": [],
   "source": [
    "# Set params value for .pkl file name:\n",
    "\n",
    "fr_ev_th=16\n",
    "mnist_sym_start=15000\n",
    "mnist_sym_end=29999\n",
    "frame_size = 16\n",
    "# list_np_fr = [[] for i in range(3)]"
   ]
  },
  {
   "cell_type": "code",
   "execution_count": 23,
   "metadata": {},
   "outputs": [],
   "source": [
    "import pickle\n",
    "\n",
    "f_path='mnist_dvs/'\n",
    "f_name='mnist_'+str(mnist_sym_start)+'_'+str(mnist_sym_end)+'.pkl'\n",
    "full_path=f_path+f_name\n",
    "with open(full_path, 'rb') as f:\n",
    "    events = pickle.load(f)"
   ]
  },
  {
   "cell_type": "code",
   "execution_count": 176,
   "metadata": {},
   "outputs": [],
   "source": [
    "full_path='mnist_dvs/mnist_15000_29999_6mm_50cm_azel.pkl'\n",
    "with open(full_path, 'rb') as f:\n",
    "    events = pickle.load(f)"
   ]
  },
  {
   "cell_type": "code",
   "execution_count": 171,
   "metadata": {},
   "outputs": [
    {
     "name": "stdout",
     "output_type": "stream",
     "text": [
      "mnist_0_49999_list_np_fr_16_ev_th_8.pkl\n",
      "15000\n",
      "3630\n"
     ]
    }
   ],
   "source": [
    "print(f_name)\n",
    "print(len(events))\n",
    "print(len(events[3]))\n",
    "# print(type(events[0]))"
   ]
  },
  {
   "cell_type": "markdown",
   "metadata": {},
   "source": [
    "# Create a list of numpy frames (with crop) on_off/on/off"
   ]
  },
  {
   "cell_type": "code",
   "execution_count": 177,
   "metadata": {},
   "outputs": [
    {
     "name": "stdout",
     "output_type": "stream",
     "text": [
      "15000\n",
      "5\n",
      "<class 'numpy.ndarray'>\n",
      "(16, 16)\n"
     ]
    },
    {
     "data": {
      "image/png": "[encoded data removed]",
      "text/plain": [
       "<Figure size 432x288 with 1 Axes>"
      ]
     },
     "metadata": {
      "needs_background": "light"
     },
     "output_type": "display_data"
    }
   ],
   "source": [
    "# operational with crop and create a list of 3d numpy arrays = num_of_frames x 2D frame\n",
    "\n",
    "import matplotlib.pyplot as plt\n",
    "%matplotlib inline\n",
    "\n",
    "def to_uint8( data ) :\n",
    "    # maximum pixel\n",
    "    latch = np.zeros_like( data )\n",
    "    latch[:] = 255\n",
    "    # minimum pixel\n",
    "    zeros = np.zeros_like( data )\n",
    "\n",
    "    # unrolled to illustrate steps\n",
    "    d = np.maximum( zeros, data )\n",
    "    d = np.minimum( latch, d )\n",
    "\n",
    "    # cast to uint8\n",
    "    return np.asarray( d, dtype=\"uint8\" )\n",
    "\n",
    "# num_of_mnist_symbols=6000\n",
    "original_frame_size=32\n",
    "\n",
    "# ----------Input parameters:--------\n",
    "max_num_of_frames=100\n",
    "# max_num_of_frames=10\n",
    "frame_size=16\n",
    "# -----------------------------------\n",
    "\n",
    "crop_x_min=(original_frame_size-frame_size)//2+1+(original_frame_size-frame_size)%2\n",
    "crop_x_max=original_frame_size-((original_frame_size-frame_size)//2+1)\n",
    "crop_y_min=crop_x_min\n",
    "crop_y_max=crop_x_max\n",
    "\n",
    "list_np_fr_arr_on_off = []\n",
    "list_np_fr_arr_on = []\n",
    "list_np_fr_arr_off = []\n",
    "# fr_ev_th=8\n",
    "for mnist_sym in events:\n",
    "    np_fr_arr_on_off=np.zeros((max_num_of_frames,frame_size,frame_size))\n",
    "    np_fr_arr_on=np.zeros((max_num_of_frames,frame_size,frame_size))\n",
    "    np_fr_arr_off=np.zeros((max_num_of_frames,frame_size,frame_size))\n",
    "#     ev_cnt=[0,0,0]\n",
    "#     fr_num=[0,0,0]\n",
    "    ev_cnt=0\n",
    "    fr_num=0\n",
    "    for e in mnist_sym:\n",
    "        x=e[1]-crop_x_min\n",
    "        y=e[2]-crop_y_min\n",
    "        if e[1]>=crop_x_min and e[1]<=crop_x_max and e[2]>=crop_y_min and e[2]<=crop_y_max:\n",
    "#             np_fr_arr_on_off[fr_num[0], (frame_size-1)-y,x]=np_fr_arr_on_off[fr_num[0], (frame_size-1)-y,x]+1\n",
    "            np_fr_arr_on_off[fr_num, (frame_size-1)-y,x]=np_fr_arr_on_off[fr_num, (frame_size-1)-y,x]+1\n",
    "            if e[3]==1:\n",
    "#                 if ev_cnt[1]>=fr_ev_th-1 and fr_num[1]<max_num_of_frames-1:\n",
    "#                     fr_num[1]+=1\n",
    "#                     ev_cnt[1]=0\n",
    "#                 else:\n",
    "#                     ev_cnt[1]+=1\n",
    "#                 np_fr_arr_on[fr_num[1], (frame_size-1)-y,x]=np_fr_arr_on[fr_num[1], (frame_size-1)-y,x]+1\n",
    "                np_fr_arr_on[fr_num, (frame_size-1)-y,x]=np_fr_arr_on[fr_num, (frame_size-1)-y,x]+1\n",
    "            else:\n",
    "#                 if ev_cnt[2]>=fr_ev_th-1 and fr_num[2]<max_num_of_frames-1:\n",
    "#                     fr_num[2]+=1\n",
    "#                     ev_cnt[2]=0\n",
    "#                 else:\n",
    "#                     ev_cnt[2]+=1\n",
    "#                 np_fr_arr_off[fr_num[2], (frame_size-1)-y,x]=np_fr_arr_off[fr_num[2], (frame_size-1)-y,x]+1\n",
    "                np_fr_arr_off[fr_num, (frame_size-1)-y,x]=np_fr_arr_off[fr_num, (frame_size-1)-y,x]+1\n",
    "\n",
    "#             if ev_cnt[0]>=fr_ev_th-1 and fr_num[0]<max_num_of_frames-1:\n",
    "#                 fr_num[0]+=1\n",
    "#                 ev_cnt[0]=0\n",
    "#             else:\n",
    "#                 ev_cnt[0]+=1\n",
    "            if ev_cnt>=fr_ev_th-1 and fr_num<max_num_of_frames-1:\n",
    "                fr_num+=1\n",
    "                ev_cnt=0\n",
    "            else:\n",
    "                ev_cnt+=1\n",
    "    \n",
    "#     fr_num[0] += 1\n",
    "#     fr_num[1] += 1\n",
    "#     fr_num[2] += 1\n",
    "    fr_num += 1\n",
    "    \n",
    "#     list_np_fr_arr_on_off.append(np_fr_arr_on_off[:fr_num[0],:,:])\n",
    "#     list_np_fr_arr_on.append(np_fr_arr_on[:fr_num[1],:,:])\n",
    "#     list_np_fr_arr_off.append(np_fr_arr_off[:fr_num[2],:,:])\n",
    "    list_np_fr_arr_on_off.append(np_fr_arr_on_off[:fr_num,:,:]/fr_ev_th)\n",
    "    list_np_fr_arr_on.append(np_fr_arr_on[:fr_num,:,:]/fr_ev_th)\n",
    "    list_np_fr_arr_off.append(np_fr_arr_off[:fr_num,:,:]/fr_ev_th)\n",
    "\n",
    "\n",
    "list_np_fr_6000=[list_np_fr_arr_on_off,list_np_fr_arr_on,list_np_fr_arr_off]\n",
    "\n",
    "# -----Testing parameters:----------    \n",
    "frame_sample = 0\n",
    "mnist_sym_relative_ind=0\n",
    "# ----------------------------------\n",
    "\n",
    "print(len(list_np_fr_arr_on_off))\n",
    "print(y_train[mnist_sym_relative_ind])\n",
    "print(type(list_np_fr_arr_on_off[mnist_sym_relative_ind][frame_sample,:,:]))\n",
    "print(list_np_fr_arr_on_off[mnist_sym_relative_ind][frame_sample,:,:].shape)\n",
    "image = list_np_fr_arr_on_off[mnist_sym_relative_ind][frame_sample,:,:]\n",
    "# plot the sample\n",
    "fig = plt.figure\n",
    "plt.imshow(image, cmap='gray')\n",
    "plt.show()"
   ]
  },
  {
   "cell_type": "markdown",
   "metadata": {},
   "source": [
    "# Load and plot frame samples from the list of 6000 mnist symbol event frames"
   ]
  },
  {
   "cell_type": "code",
   "execution_count": null,
   "metadata": {},
   "outputs": [],
   "source": [
    "# mnist_sym_start=12000\n",
    "frame_sample = 2\n",
    "mnist_sym_relative_ind=2000\n",
    "print(len(list_np_fr_arr_on_off))\n",
    "print(y_train[mnist_sym_start+mnist_sym_relative_ind])\n",
    "print(type(list_np_fr_arr_on[mnist_sym_relative_ind]))\n",
    "print(list_np_fr_arr_on[mnist_sym_relative_ind].shape)\n",
    "for frame_sample in range(list_np_fr_arr_on[mnist_sym_relative_ind].shape[0]):\n",
    "    image = list_np_fr_arr_on[mnist_sym_relative_ind][frame_sample,:,:]\n",
    "    # plot the sample\n",
    "    fig = plt.figure\n",
    "    plt.imshow(image, cmap='gray')\n",
    "    plt.show()\n",
    "    print(np.sum(image))"
   ]
  },
  {
   "cell_type": "markdown",
   "metadata": {},
   "source": [
    "# Save recorded events numpy frame lists to .pickle file"
   ]
  },
  {
   "cell_type": "code",
   "execution_count": 60,
   "metadata": {},
   "outputs": [
    {
     "name": "stdout",
     "output_type": "stream",
     "text": [
      "mnist_dvs/mnist_0_49999_list_np_fr_16_ev_th_1000.pkl\n"
     ]
    }
   ],
   "source": [
    "import pickle\n",
    "\n",
    "# list_np_fr=[list_np_fr_arr_on_off,list_np_fr_arr_on,list_np_fr_arr_off]\n",
    "f_path='mnist_dvs/'\n",
    "f_name='mnist_'+str(mnist_sym_start)+'_'+str(mnist_sym_end)+'_list_np_fr_'+str(frame_size)+'_ev_th_'+str(fr_ev_th)+'.pkl'\n",
    "full_path=f_path+f_name\n",
    "\n",
    "print(full_path)\n",
    "with open(full_path, 'wb') as f:\n",
    "    pickle.dump(list_np_fr, f)"
   ]
  },
  {
   "cell_type": "code",
   "execution_count": null,
   "metadata": {},
   "outputs": [],
   "source": [
    "# list_np_fr_6000=[list_np_fr_arr_on_off,list_np_fr_arr_on,list_np_fr_arr_off]"
   ]
  },
  {
   "cell_type": "markdown",
   "metadata": {},
   "source": [
    "# Load recorded events list from .pickle file"
   ]
  },
  {
   "cell_type": "code",
   "execution_count": null,
   "metadata": {},
   "outputs": [],
   "source": [
    "import pickle\n",
    "\n",
    "mnist_start = 12000\n",
    "mnist_end = 17999\n",
    "\n",
    "f_path='./'\n",
    "f_name='mnist_'+str(mnist_start)+'_'+str(mnist_end)+'_list_np_fr_'+str(frame_size)+'_ev_th_'+str(fr_ev_th)+'.pkl'\n",
    "full_path=f_path+f_name\n",
    "with open(full_path, 'rb') as f:\n",
    "    list_np_fr_6000 = pickle.load(f)\n",
    "    \n",
    "    "
   ]
  },
  {
   "cell_type": "code",
   "execution_count": null,
   "metadata": {},
   "outputs": [],
   "source": [
    "list_np_fr_6000[0][869]"
   ]
  },
  {
   "cell_type": "code",
   "execution_count": 173,
   "metadata": {},
   "outputs": [],
   "source": [
    "list_np_fr = [[] for i in range(3)]\n",
    "\n",
    "mnist_sym_start=0\n",
    "mnist_sym_end=29999"
   ]
  },
  {
   "cell_type": "code",
   "execution_count": 178,
   "metadata": {},
   "outputs": [],
   "source": [
    "for i in range(3):\n",
    "    for frames in list_np_fr_6000[i]:\n",
    "        list_np_fr[i].append(frames)\n"
   ]
  },
  {
   "cell_type": "code",
   "execution_count": 179,
   "metadata": {},
   "outputs": [
    {
     "data": {
      "text/plain": [
       "30000"
      ]
     },
     "execution_count": 179,
     "metadata": {},
     "output_type": "execute_result"
    }
   ],
   "source": [
    "len(list_np_fr[0])"
   ]
  },
  {
   "cell_type": "code",
   "execution_count": null,
   "metadata": {},
   "outputs": [],
   "source": [
    "f_path='mnist_dvs/'\n",
    "f_name='mnist_'+str(mnist_sym_start)+'_'+str(mnist_sym_end)+'_list_np_fr_'+str(frame_size)+'_ev_th_'+str(fr_ev_th)+'.pkl'\n",
    "full_path=f_path+f_name\n",
    "\n",
    "print(full_path)\n",
    "with open(full_path, 'wb') as f:\n",
    "    pickle.dump(list_np_fr, f)\n",
    "    \n",
    "len(list_np_fr[0])"
   ]
  },
  {
   "cell_type": "markdown",
   "metadata": {},
   "source": [
    "# Load and plot frame samples from the list of 6000 mnist symbol event frames"
   ]
  },
  {
   "cell_type": "code",
   "execution_count": 180,
   "metadata": {},
   "outputs": [
    {
     "name": "stdout",
     "output_type": "stream",
     "text": [
      "0\n"
     ]
    },
    {
     "data": {
      "text/plain": [
       "<matplotlib.image.AxesImage at 0x2b08806c1650>"
      ]
     },
     "execution_count": 180,
     "metadata": {},
     "output_type": "execute_result"
    },
    {
     "data": {
      "image/png": "[encoded data removed]",
      "text/plain": [
       "<Figure size 1296x432 with 10 Axes>"
      ]
     },
     "metadata": {
      "needs_background": "light"
     },
     "output_type": "display_data"
    },
    {
     "data": {
      "image/png": "[encoded data removed]",
      "text/plain": [
       "<Figure size 432x288 with 1 Axes>"
      ]
     },
     "metadata": {
      "needs_background": "light"
     },
     "output_type": "display_data"
    }
   ],
   "source": [
    "frame_sample = 2\n",
    "mnist_sym_relative_ind=1\n",
    "on_off = 0# 0-both,1-on,2-off\n",
    "print(y_train[mnist_sym_start+mnist_sym_relative_ind])\n",
    "# print(len(list_np_fr[1]))\n",
    "\n",
    "frames_n = list_np_fr[on_off][mnist_sym_relative_ind].shape[0]\n",
    "frames_n=10\n",
    "fig, axs = plt.subplots(1, frames_n, figsize=(18,6))\n",
    "image_sum = np.zeros(list_np_fr[on_off][mnist_sym_relative_ind][0,:,:].shape)\n",
    "\n",
    "\n",
    "for frame_sample in range(frames_n):\n",
    "    image = list_np_fr[on_off][mnist_sym_relative_ind][-frame_sample-1,:,:] # list_np_fr_arr_on on events only\n",
    "    image = np.squeeze(image)\n",
    "    if frames_n>1:\n",
    "        axs[frame_sample].imshow(image, cmap='gray')\n",
    "        axs[frame_sample].set_title('frame'+str(frame_sample))\n",
    "    else:\n",
    "        axs.imshow(image, cmap='gray')\n",
    "        axs.set_title('frame'+str(frame_sample))\n",
    "    image_sum += image\n",
    "# plt.savefig('frames_image10004.png')\n",
    "\n",
    "plt.figure()\n",
    "plt.imshow(image_sum)\n",
    "# plt.savefig('image_sum7.png')\n"
   ]
  },
  {
   "cell_type": "code",
   "execution_count": 133,
   "metadata": {},
   "outputs": [
    {
     "data": {
      "text/plain": [
       "100"
      ]
     },
     "execution_count": 133,
     "metadata": {},
     "output_type": "execute_result"
    }
   ],
   "source": [
    "list_np_fr[on_off][mnist_sym_relative_ind].shape[0]"
   ]
  },
  {
   "cell_type": "code",
   "execution_count": 150,
   "metadata": {},
   "outputs": [
    {
     "name": "stdout",
     "output_type": "stream",
     "text": [
      "30000\n"
     ]
    }
   ],
   "source": [
    "#  generate single matrix with all events\n",
    "on_off = 0\n",
    "\n",
    "list_allevents = []\n",
    "list_eventsum = []\n",
    "for indx, mnist_sample in enumerate(list_np_fr[on_off]):\n",
    "    image_sum = np.zeros(mnist_sample[0,:,:].shape)\n",
    "    for frame in mnist_sample:\n",
    "        image_sum += frame\n",
    "        \n",
    "    list_allevents.append(image_sum[np.newaxis,:,:])\n",
    "    list_eventsum.append(np.sum(image_sum))\n",
    "\n",
    "print(len(list_allevents))"
   ]
  },
  {
   "cell_type": "code",
   "execution_count": 53,
   "metadata": {},
   "outputs": [],
   "source": [
    "def dvs_generate_fr_dataset(list_np_fr, on_off = 0, ts = 6):\n",
    "\n",
    "    shuffel_frames = 0# 0-no shuffle, 1-random shuffel, 2-fixed shuffel\n",
    "    shuffled_order = []\n",
    "    if shuffel_frames==2:\n",
    "        shuffled_order = np.random.permutation(range(0, ts))\n",
    "    \n",
    "    traj = np.zeros([ts,2])\n",
    "    missing_frames_count = 0\n",
    "    \n",
    "    dvs_images = []\n",
    "    trajectories = []\n",
    "    no_frames_count = 0\n",
    "    for ind, samples in enumerate(list_np_fr):\n",
    "        dimim = np.zeros([ts, frame_size, frame_size, 1])\n",
    "        frames = np.min([ts,samples.shape[0]])#last frame contains less than 'th' events\n",
    "       \n",
    "        if frames > 0:\n",
    "            if shuffel_frames==0:\n",
    "                dimim[-frames:,:,:,0] = samples[:frames,:,:]\n",
    "            elif shuffel_frames==1:\n",
    "                #shuffel frames\n",
    "                frames_perm = np.random.permutation(range(0, frames))\n",
    "                dimim[-frames:,:,:,0] = samples[frames_perm,:,:]    \n",
    "            else: #shuffel_frames==2\n",
    "                dimim[-frames:,:,:,0] = samples[:frames,:,:]\n",
    "                dimim[:,:,:,0] = dimim[shuffled_order,:,:,0]\n",
    "        else:\n",
    "            no_frames_count += 1\n",
    "#         if samples.shape[0] < ts:\n",
    "#             missing_frames_count += 1\n",
    "        \n",
    "        dvs_images.append(dimim)\n",
    "        trajectories.append(traj)\n",
    "        \n",
    "    # dvs_images = np.array(dvs_images)[:,:,:,:, np.newaxis]\n",
    "    dvs_images = np.array(dvs_images)[:,:,:,:]\n",
    "    trajectories = np.array(trajectories)\n",
    "    x_dvs = (dvs_images, trajectories)\n",
    "    \n",
    "    print(\"empty input count: \", no_frames_count)\n",
    "    return x_dvs\n",
    "\n",
    "def dvs_generate_onoff_lasagna(ds1, ds2):\n",
    "    ds_onoff = [[],[]]\n",
    "#     print(ds1[0].shape)\n",
    "#     ds_onoff[0] = np.stack((ds1[0].squeeze(),ds2[0].squeeze()),axis=4)\n",
    "    ds_onoff[0] = np.stack((ds1[0],ds2[0]),axis=4)\n",
    "    print(ds_onoff[0].shape)\n",
    "    ds_onoff[0] = ds_onoff[0][:,:,:,:,:,0]\n",
    "    ds_onoff[1] = ds1[1]\n",
    "\n",
    "    return ds_onoff\n",
    "#     test_x_dvs_onoff = [[],[]]\n",
    "#     test_x_dvs_onoff[0] = np.stack((test_x_dvs[0].squeeze(),test_x_dvs_[0].squeeze()),axis=4)\n",
    "#     # test_x_dvs_onoff[0] = np.stack((test_x_dvs[0].squeeze(),test_x_dvs_[0].squeeze()))\n",
    "#     test_x_dvs_onoff[1] = test_x_dvs[1]\n",
    "\n",
    "def dvs_generate_ds(list_np_fr, on_off = 0, ts = 6, mnist_indx = [0,10000], sym_used = [0,10000], n_val = 1000, lasgna = True):\n",
    "# on_off = 1# 0-both,1-on,2-off,3-on,off\n",
    "# ts = 3\n",
    "# first_mnist_indx = 0 # absolute- relative to mnist dataset\n",
    "# last_mnist_indx = 49999\n",
    "\n",
    "# used_sym_start = 5000 # relative- samples to use to build dataset\n",
    "# used_sym_end = 49999\n",
    "#     val_n = 4000\n",
    "\n",
    "    y_train_aligned = y_train[mnist_indx[0]:mnist_indx[1]]\n",
    "    rand_perm = np.random.permutation(range(sym_used[0], sym_used[1]))\n",
    "    train_ind = rand_perm[0:-n_val]\n",
    "    test_ind = rand_perm[-n_val:]\n",
    "\n",
    "    #train data\n",
    "    list_fr_train = [list_np_fr[on_off[0]][i] for i in train_ind]\n",
    "    train_x_dvs = dvs_generate_fr_dataset(list_fr_train, on_off[0], ts)\n",
    "    train_y_dvs = y_train_aligned[train_ind]\n",
    "\n",
    "    #test data\n",
    "    list_fr_test = [list_np_fr[on_off[0]][i] for i in test_ind]\n",
    "    test_x_dvs = dvs_generate_fr_dataset(list_fr_test, on_off[0], ts)\n",
    "    test_y_dvs = y_train_aligned[test_ind]\n",
    "\n",
    "    if lasgna:\n",
    "       #second data set\n",
    "#        on_off = 2 # 0-both,1-on,2-off,3-on,off\n",
    "       #train data\n",
    "        list_fr_train = [list_np_fr[on_off[1]][i] for i in train_ind]\n",
    "        train_x_dvs_ = dvs_generate_fr_dataset(list_fr_train, on_off[1], ts)\n",
    "       #test data\n",
    "        list_fr_test = [list_np_fr[on_off[1]][i] for i in test_ind]\n",
    "        test_x_dvs_ = dvs_generate_fr_dataset(list_fr_test, on_off[1], ts)\n",
    "        \n",
    "        train_x_dvs = dvs_generate_onoff_lasagna(train_x_dvs, train_x_dvs_)\n",
    "        test_x_dvs = dvs_generate_onoff_lasagna(test_x_dvs, test_x_dvs_)\n",
    "\n",
    "    return train_x_dvs, train_y_dvs, test_x_dvs, test_y_dvs\n"
   ]
  },
  {
   "cell_type": "code",
   "execution_count": null,
   "metadata": {},
   "outputs": [],
   "source": [
    "# train_x_dvs_onoff = [[],[]]\n",
    "# train_x_dvs_onoff[0] = np.stack((train_x_dvs[0].squeeze(),train_x_dvs_[0].squeeze()),axis=4)\n",
    "# # train_x_dvs_onoff[0] = np.stack((train_x_dvs[0].squeeze(),train_x_dvs_[0].squeeze()))\n",
    "# train_x_dvs_onoff[1] = train_x_dvs[1]\n",
    "\n",
    "# test_x_dvs_onoff = [[],[]]\n",
    "# test_x_dvs_onoff[0] = np.stack((test_x_dvs[0].squeeze(),test_x_dvs_[0].squeeze()),axis=4)\n",
    "# # test_x_dvs_onoff[0] = np.stack((test_x_dvs[0].squeeze(),test_x_dvs_[0].squeeze()))\n",
    "# test_x_dvs_onoff[1] = test_x_dvs[1]\n"
   ]
  },
  {
   "cell_type": "code",
   "execution_count": 89,
   "metadata": {},
   "outputs": [],
   "source": [
    "import pickle\n",
    "\n",
    "fr_ev_th = 8\n",
    "frame_size = 16\n",
    "mnist_start = 0\n",
    "mnist_end = 49999\n",
    "\n",
    "f_path='./mnist_dvs/'\n",
    "f_name='mnist_'+str(mnist_start)+'_'+str(mnist_end)+'_list_np_fr_'+str(frame_size)+'_ev_th_'+str(fr_ev_th)+'.pkl'\n",
    "full_path=f_path+f_name\n",
    "with open(full_path, 'rb') as f:\n",
    "    list_np_fr = pickle.load(f)"
   ]
  },
  {
   "cell_type": "code",
   "execution_count": null,
   "metadata": {},
   "outputs": [],
   "source": [
    "print(f_name)"
   ]
  },
  {
   "cell_type": "code",
   "execution_count": null,
   "metadata": {},
   "outputs": [],
   "source": [
    "# import keras_networks\n",
    "import importlib\n",
    "importlib.reload(keras_networks)\n",
    "\n",
    "ts = 10\n",
    "# mnist_indx = [0,49999]\n",
    "# sym_used = [5000,49999]\n",
    "# n_val = 4000\n",
    "# mnist_indx = [7900,19999]\n",
    "# sym_used = [0,12099]\n",
    "# n_val = 1000\n",
    "mnist_indx = [0,29999]\n",
    "sym_used = [0,29999]\n",
    "n_val = 3000\n",
    "\n",
    "frame_size = 16\n",
    "lasgna = True\n",
    "inp_dim = []\n",
    "on_off = []\n",
    "if lasgna:\n",
    "    inp_dim = 2\n",
    "    on_off = [1,2]\n",
    "else:\n",
    "    inp_dim = 1\n",
    "    on_off = [0]\n",
    "    \n",
    "epochs = 100\n",
    "runs = 1\n",
    "val_accuracy_arr = np.zeros(runs)\n",
    "for i in range(0,runs):\n",
    "    train_x_dvs, train_y_dvs, test_x_dvs, test_y_dvs = dvs_generate_ds(list_np_fr, on_off, \n",
    "                                                                  ts, mnist_indx, sym_used, \n",
    "                                                                  n_val, lasgna)\n",
    "    \n",
    "    rnn102 = keras_networks.rnn_model_102(n_timesteps=ts,\n",
    "                                      lr=1e-3,dropout=0.0,\n",
    "                                      ignore_input_B = True,\n",
    "                                      rnn_type='gru',\n",
    "                                      rnn_layers = 1,\n",
    "                                      input_size=(frame_size, frame_size, inp_dim),\n",
    "                                      conv_fe=False,\n",
    "                                      rnn_units = 100)\n",
    "\n",
    "    print(\"Fit model on training data, run \",i)\n",
    "    history = rnn102.fit(\n",
    "            train_x_dvs,\n",
    "            train_y_dvs,\n",
    "            batch_size=128,\n",
    "            epochs=epochs,\n",
    "            # We pass some validation for\n",
    "            # monitoring validation loss and metrics\n",
    "            # at the end of each epoch\n",
    "            validation_data=(test_x_dvs, test_y_dvs)) #\n",
    "\n",
    "    val_accuracy_arr[i] = history.history['val_sparse_categorical_accuracy'][-1:][0]\n",
    "\n",
    "#     train_y_dvs = np.transpose(np.tile(train_y_dvs,(5,1)))\n",
    "#     test_y_dvs = np.transpose(np.tile(test_y_dvs,(5,1)))\n",
    "#     rnn102e = keras_networks.rnn_model_102e(n_timesteps=ts,\n",
    "#                                       lr=1e-3,dropout=0.0,\n",
    "#                                       ignore_input_B = True,\n",
    "#                                       rnn_type='gru',\n",
    "#                                       rnn_layers = 1,\n",
    "#                                       input_size=(frame_size, frame_size, inp_dim),\n",
    "#                                       conv_fe=False)\n",
    "                                \n",
    "#     print(\"Fit model on training data, run \",i)\n",
    "#     history = rnn102e.fit(\n",
    "#             train_x_dvs,\n",
    "#             train_y_dvs,\n",
    "#             batch_size=128,\n",
    "#             epochs=epochs,\n",
    "#             # We pass some validation for\n",
    "#             # monitoring validation loss and metrics\n",
    "#             # at the end of each epoch\n",
    "#             validation_data=(test_x_dvs, test_y_dvs)) #\n",
    "    \n",
    "#     val_accuracy_arr[i] = history.history['val_time_distributed_accuracy_last_step'][-1:][0]"
   ]
  },
  {
   "cell_type": "code",
   "execution_count": null,
   "metadata": {},
   "outputs": [],
   "source": [
    "# print(np.mean(val_accuracy_arr), np.std(val_accuracy_arr))\n",
    "# val_accuracy_arr_2_10 = val_accuracy_arr\n",
    "\n",
    "# val_accuracy_arr_1_24_gpu = [0.713, 0.69050002, 0.70475, 0.70725,  0.70275003, 0.69325, 0.71525002, 0.71074998, 0.70450002, 0.69274998]\n",
    "# val_accuracy_arr_1_48_gpu = [0.70475, 0.69524997, 0.70924997, 0.71775001, 0.7015, 0.70625001, 0.71350002, 0.70975, 0.70450002, 0.69725001]\n",
    "\n",
    "data = [val_accuracy_arr_1_48_gpu, val_accuracy_arr_1_24, val_accuracy_arr_2_24, val_accuracy_arr_2_12, val_accuracy_arr_2_10, val_accuracy_arr_4_12, val_accuracy_arr_8, val_accuracy_arr_16]\n",
    "plt.figure(figsize=(12,6))\n",
    "plt.boxplot(data, labels = [\"ev_th = 1\\nts=48\",\"ev_th = 1\\nts=24\", \"ev_th = 2\\nts=24\", \"ev_th = 2\\nts=12\", \"ev_th = 2\\nts=10\", \"ev_th = 4\\nts=12\", \"ev_th = 8\\nts=6\", \"ev_th = 16\\nts=3\"])\n",
    "plt.ylabel(\"accuracy\")\n",
    "\n",
    "# plt.savefig('performance_vs_ev-th.png')"
   ]
  },
  {
   "cell_type": "code",
   "execution_count": 142,
   "metadata": {},
   "outputs": [
    {
     "data": {
      "image/png": "[encoded data removed]",
      "text/plain": [
       "<Figure size 864x432 with 1 Axes>"
      ]
     },
     "metadata": {
      "needs_background": "light"
     },
     "output_type": "display_data"
    }
   ],
   "source": [
    "#100 epochs\n",
    "\n",
    "val_accuracy_arr_100_1000_1 = [0.540, 0.531, 0.541, 0.525, 0.5272, 0.536, 0.526, 0.534, 0.525, 0.542]\n",
    "val_accuracy_arr_100_16_3 = [0.644, 0.647, 0.6428, 0.648, 0.6513, 0.645, 0.648, 0.643, 0.638, 0.650]\n",
    "val_accuracy_arr_100_8_6 = [0.700, 0.702, 0.688, 0.693, 0.700, 0.676, 0.695, 0.695, 0.691, 0.703]\n",
    "val_accuracy_arr_100_2_24 = [0.743, 0.730, 0.728, 0.728, 0.739, 0.739, 0.733, 0.739, 0.728, 0.744]\n",
    "val_accuracy_arr_100_4_12 = [0.718, 0.733, 0.720, 0.711, 0.726, 0.723, 0.722, 0.721, 0.724, 0.720]\n",
    "val_accuracy_arr_100_2_24_shuffle = [0.609, 0.608, 0.603, 0.607, 0.618]\n",
    "\n",
    "val_accuracy_arr_100_8_6_remove_last_fr = [0.647, 0.646, 0.667, 0.660, 0.660, 0.654, 0.648, 0.655, 0.650, 0.644]\n",
    "val_accuracy_arr_100_2_24_remove_last_fr = [0.729, 0.727, 0.734, 0.734, 0.730, 0.726, 0.727, 0.719, 0.740, 0.739]\n",
    "val_accuracy_arr_100_16_3_remove_last_fr = [0.551, 0.551, 0.544, 0.543, 0.540, 0.544, 0.545, 0.543, 0.550, 0.548]\n",
    "\n",
    "data = [ val_accuracy_arr_100_2_24_shuffle, val_accuracy_arr_100_2_24, val_accuracy_arr_100_2_24_remove_last_fr, val_accuracy_arr_100_4_12, \n",
    "        val_accuracy_arr_100_8_6, val_accuracy_arr_100_8_6_remove_last_fr, \n",
    "        val_accuracy_arr_100_16_3, val_accuracy_arr_100_16_3_remove_last_fr, val_accuracy_arr_100_1000_1]\n",
    "plt.figure(figsize=(12,6))\n",
    "plt.boxplot(data, labels = [\"ev_th = 2\\nts=24 shuffle\", \"ev_th = 2\\nts=24\", \"ev_th = 2\\nts=24 nlf\", \"ev_th = 4\\nts=12\", \"ev_th = 8\\nts=6\", \"ev_th = 8\\nts=6 nlf\",\n",
    "                            \"ev_th = 16\\nts=3\", \"ev_th = 16\\nts=3 nlf\",  \"ev_th = 1000\\nts=1\"])\n",
    "plt.ylabel(\"accuracy\")\n",
    "\n",
    "# plt.savefig('performance_vs_ev-th_100epochs.png')"
   ]
  },
  {
   "cell_type": "code",
   "execution_count": 156,
   "metadata": {},
   "outputs": [
    {
     "data": {
      "image/png": "[encoded data removed]",
      "text/plain": [
       "<Figure size 864x432 with 1 Axes>"
      ]
     },
     "metadata": {
      "needs_background": "light"
     },
     "output_type": "display_data"
    }
   ],
   "source": [
    "val_accuracy_arr_100_8_6 = [0.700, 0.702, 0.688, 0.693, 0.700, 0.676, 0.695, 0.695, 0.691, 0.703]\n",
    "val_accuracy_arr_100_2_24 = [0.743, 0.730, 0.728, 0.728, 0.739, 0.739, 0.733, 0.739, 0.728, 0.744]\n",
    "val_accuracy_arr_100_16_3 = [0.644, 0.647, 0.6428, 0.648, 0.6513, 0.645, 0.648, 0.643, 0.638, 0.650]\n",
    "\n",
    "val_accuracy_arr_100_8_6_remove_last_fr = [0.647, 0.646, 0.667, 0.660, 0.660, 0.654, 0.648, 0.655, 0.650, 0.644]\n",
    "val_accuracy_arr_100_2_24_remove_last_fr = [0.729, 0.727, 0.734, 0.734, 0.730, 0.726, 0.727, 0.719, 0.740, 0.739]\n",
    "val_accuracy_arr_100_16_3_remove_last_fr = [0.551, 0.551, 0.544, 0.543, 0.540, 0.544, 0.545, 0.543, 0.550, 0.548]\n",
    "\n",
    "data = [ val_accuracy_arr_100_2_24, val_accuracy_arr_100_2_24_remove_last_fr,\n",
    "        val_accuracy_arr_100_8_6, val_accuracy_arr_100_8_6_remove_last_fr, \n",
    "        val_accuracy_arr_100_16_3, val_accuracy_arr_100_16_3_remove_last_fr]\n",
    "\n",
    "plt.figure(figsize=(12,6))\n",
    "plt.boxplot(data, labels = [\"ev_th = 2\\nts=24\", \"ev_th = 2\\nts=24 nlf\", \"ev_th = 8\\nts=6\", \"ev_th = 8\\nts=6 nlf\",\n",
    "                            \"ev_th = 16\\nts=3\", \"ev_th = 16\\nts=3 nlf\"])\n",
    "plt.ylabel(\"accuracy\")\n",
    "\n",
    "plt.savefig('performance_vs_ev-th_100epochs_w_wo_last_frame.png')"
   ]
  },
  {
   "cell_type": "code",
   "execution_count": 187,
   "metadata": {},
   "outputs": [
    {
     "data": {
      "text/plain": [
       "Text(0, 0.5, 'accuracy')"
      ]
     },
     "execution_count": 187,
     "metadata": {},
     "output_type": "execute_result"
    },
    {
     "data": {
      "image/png": "[encoded data removed]",
      "text/plain": [
       "<Figure size 864x432 with 1 Axes>"
      ]
     },
     "metadata": {
      "needs_background": "light"
     },
     "output_type": "display_data"
    }
   ],
   "source": [
    "#50cm azel dataset\n",
    "val_acc_100_32_5 = [0.866, 0.864, 0.868, 0.872, 0.860, 0.870, 0.869, 0.867, 0.877, 0.867]\n",
    "val_acc_100_16_10 = [0.873, 0.881, 0.888, 0.886, 0.879, 0.885, 0.880,  0.887, 0.868, 0.879]\n",
    "val_acc_250_10000_1 = [0.664, 0.669, 0.659, 0.653, 0.656, 0.663, 0.661, 0.661, 0.662, 0.663]\n",
    "val_acc_100_8_20 = [0.890, 0.893, 0.890, 0.886, 0.888, 0.894, 0.893, 0.893, 0.889, 0.891]\n",
    "val_acc_100_4_40 = [0.887, 0.881, 0.880, 0.870, 0.887, 0.893, 0.883, 0.887, 0.887, 0.899]\n",
    "val_acc_100_2_80 = [0.882, 0.864, 0.870]\n",
    "\n",
    "# data = [val_acc_100_8_20, val_acc_100_16_10, val_acc_100_32_5, val_acc_250_10000_1]\n",
    "# lbls = ['ev_th=8\\nts=20', 'ev_th=16\\nts=10', 'ev_th=32\\nts=5', 'ev_th=10000\\nts=1 250e']\n",
    "\n",
    "data = [val_acc_100_2_80, val_acc_100_4_40, val_acc_100_8_20, val_acc_100_16_10, val_acc_100_32_5]\n",
    "lbls = ['ev_th=2\\nts=80', 'ev_th=4\\nts=40', 'ev_th=8\\nts=20', 'ev_th=16\\nts=10', 'ev_th=32\\nts=5']\n",
    "\n",
    "plt.figure(figsize=(12,6))\n",
    "plt.boxplot(data, labels = lbls)\n",
    "plt.ylabel(\"accuracy\")"
   ]
  },
  {
   "cell_type": "code",
   "execution_count": null,
   "metadata": {},
   "outputs": [],
   "source": [
    "pred102 = rnn102.predict(test_x_dvs[0])\n",
    "\n",
    "# plt.figure(figsize=[4,1])\n",
    "# plt.bar(['0', '1' , '2', '3', '4', '5', '6', '7', '8', '9'], height = pred102[110])\n",
    "\n",
    "# plt.savefig('network_output.png')"
   ]
  },
  {
   "cell_type": "code",
   "execution_count": null,
   "metadata": {},
   "outputs": [],
   "source": [
    "f_path='mnist_dvs/'\n",
    "\n",
    "symbols_in_files= [[0, 5999], [6000, 11999], [12000, 17999], [18000, 23999], [24000, 29999]]\n",
    "num_of_events = [[] for i in symbols_in_files]\n",
    "for i, symbols in enumerate(symbols_in_files):\n",
    "    \n",
    "    f_name='mnist_'+str(symbols[0])+'_'+str(symbols[1])+'.pkl'\n",
    "    full_path=f_path+f_name\n",
    "    with open(full_path, 'rb') as f:\n",
    "        events = pickle.load(f)\n",
    "    \n",
    "    for sym in events:\n",
    "        num_of_events[i].append(len(sym))\n",
    "        \n",
    "    "
   ]
  },
  {
   "cell_type": "code",
   "execution_count": null,
   "metadata": {},
   "outputs": [],
   "source": [
    "plt.figure()\n",
    "# plt.hist([num_of_events[0], num_of_events[1], num_of_events[2]], density = True)\n",
    "plt.hist(num_of_events[0], density = True)\n",
    "\n",
    "#  plt.figure()\n",
    "plt.hist(num_of_events[1], alpha=0.6, density=True)\n",
    "\n",
    "# plt.figure()\n",
    "plt.hist(num_of_events[2], alpha = 0.6, density=True)\n",
    "\n",
    "plt.hist(num_of_events[3], alpha = 0.6, density=True)\n",
    "\n",
    "plt.hist(num_of_events[4], alpha = 0.6, density=True)"
   ]
  },
  {
   "cell_type": "code",
   "execution_count": null,
   "metadata": {},
   "outputs": [],
   "source": [
    "print(np.mean(num_of_events[0]), np.mean(num_of_events[1]), np.mean(num_of_events[2]))\n",
    "print(np.std(num_of_events[0]), np.std(num_of_events[1]), np.std(num_of_events[2]))\n",
    "# print(tf.__version__)"
   ]
  },
  {
   "cell_type": "code",
   "execution_count": 153,
   "metadata": {},
   "outputs": [
    {
     "data": {
      "text/plain": [
       "(array([[8.85935770e-06, 8.85935770e-06, 3.65448505e-04, 5.08748616e-03,\n",
       "         1.30631229e-02, 1.03145072e-02, 3.45293466e-03, 8.23920266e-04,\n",
       "         8.85935770e-05, 8.85935770e-06],\n",
       "        [2.21483942e-06, 2.21483942e-05, 3.34440753e-03, 1.54219269e-02,\n",
       "         1.22325581e-02, 2.14396456e-03, 5.53709856e-05, 0.00000000e+00,\n",
       "         0.00000000e+00, 0.00000000e+00]]),\n",
       " array([  2. ,  32.1,  62.2,  92.3, 122.4, 152.5, 182.6, 212.7, 242.8,\n",
       "        272.9, 303. ]),\n",
       " <a list of 2 BarContainer objects>)"
      ]
     },
     "execution_count": 153,
     "metadata": {},
     "output_type": "execute_result"
    },
    {
     "data": {
      "image/png": "[encoded data removed]",
      "text/plain": [
       "<Figure size 432x288 with 1 Axes>"
      ]
     },
     "metadata": {
      "needs_background": "light"
     },
     "output_type": "display_data"
    }
   ],
   "source": [
    "plt.figure()\n",
    "# plt.hist([num_of_events[0], num_of_events[1], num_of_events[2]], density = True)\n",
    "# plt.hist(list_eventsum[0:6000], density = True)\n",
    "\n",
    "# list_eventsum_ = list_eventsum\n",
    "# plt.hist(list_eventsum_, density = True)\n",
    "plt.hist([list_eventsum[0:15000], list_eventsum[15000:30000]], density = True)\n",
    "# list_eventsum[0]"
   ]
  },
  {
   "cell_type": "code",
   "execution_count": null,
   "metadata": {},
   "outputs": [],
   "source": [
    "list_eventsum_zero = [i==0.0 for i in list_eventsum[24000:36000]]\n",
    "all(list_eventsum_zero)"
   ]
  },
  {
   "cell_type": "code",
   "execution_count": null,
   "metadata": {},
   "outputs": [],
   "source": [
    "models_path = 'models/'\n",
    "model_name = 'mnist_dvs_keras_lowres_notraj'\n",
    "\n",
    "rnn102.save(models_path+model_name+'.h5')\n",
    "\n",
    "# Recreate the exact same model, including its weights and the optimizer\n",
    "# new_model = tf.keras.models.load_model(models_path+model_name+'.h5')\n",
    "\n",
    "# Show the model architecture\n",
    "# new_model.summary()\n",
    "rnn102.summary()"
   ]
  },
  {
   "cell_type": "code",
   "execution_count": null,
   "metadata": {},
   "outputs": [],
   "source": [
    "mnist_img = x_train[36100, :, :]\n",
    "\n",
    "plt.figure()\n",
    "plt.imshow(mnist_img)\n",
    "plt.savefig('mnist_fig_36100.png')"
   ]
  },
  {
   "cell_type": "code",
   "execution_count": null,
   "metadata": {},
   "outputs": [],
   "source": [
    "import run_mnist_dvs_classifier\n",
    "import importlib\n",
    "importlib.reload(run_mnist_dvs_classifier)\n",
    "\n",
    "run_mnist_dvs_classifier.main()\n"
   ]
  },
  {
   "cell_type": "code",
   "execution_count": 105,
   "metadata": {},
   "outputs": [
    {
     "data": {
      "text/plain": [
       "(array([6.000e+00, 1.100e+01, 6.220e+02, 3.485e+03, 5.792e+03, 3.529e+03,\n",
       "        1.213e+03, 3.020e+02, 3.600e+01, 4.000e+00]),\n",
       " array([ 6., 13., 20., 27., 34., 41., 48., 55., 62., 69., 76.]),\n",
       " <BarContainer object of 10 artists>)"
      ]
     },
     "execution_count": 105,
     "metadata": {},
     "output_type": "execute_result"
    },
    {
     "data": {
      "image/png": "[encoded data removed]",
      "text/plain": [
       "<Figure size 432x288 with 1 Axes>"
      ]
     },
     "metadata": {
      "needs_background": "light"
     },
     "output_type": "display_data"
    }
   ],
   "source": [
    "frames = []\n",
    "for sample in list_np_fr[0]:\n",
    "    frames.append(sample.shape[0])\n",
    "\n",
    "# single_frame_indxs = (np.array(frames) == 1).nonzero()\n",
    "# single_frame_indxs[0].shape\n",
    "plt.figure()\n",
    "plt.hist(frames)"
   ]
  },
  {
   "cell_type": "code",
   "execution_count": null,
   "metadata": {},
   "outputs": [],
   "source": [
    "from matplotlib.animation import FuncAnimation\n",
    "# plt.style.use('seaborn-pastel')\n",
    "\n",
    "sample_pos = list_np_fr[1][0]\n",
    "sample_neg = list_np_fr[2][0]\n",
    "\n",
    "fig = plt.figure()\n",
    "ax = plt.axes(xlim=(0, 15), ylim=(0, 15))\n",
    "frame = np.zeros([16,16])\n",
    "frame[0,0]=1\n",
    "implt = ax.imshow(frame)\n",
    "\n",
    "# def init():\n",
    "#     implt.set_data(frame)\n",
    "#     return [implt]\n",
    "def animate(i):\n",
    "#     frame[0,i]=1\n",
    "#     implt.set_data(frame)\n",
    "    implt.set_data(sample_pos[i,:,:]-sample_neg[i,:,:]  )\n",
    "    return [implt]\n",
    "\n",
    "# anim = FuncAnimation(fig, animate, init_func=init,\n",
    "#                                frames=10, interval=200, blit=True)\n",
    "anim = FuncAnimation(fig, animate, frames=sample_pos.shape[0], interval=100, blit=True)\n",
    "\n",
    "# anim.save('test_anim.mp4', fps=10, extra_args=['-vcodec', 'libx264'])\n",
    "anim.save('test_anim.gif', fps=10)\n",
    "print('Done!')\n",
    "\n",
    "# plt.show()\n",
    "\n"
   ]
  }
 ],
 "metadata": {
  "kernelspec": {
   "display_name": "Python (imagewalker-cpu)",
   "language": "python",
   "name": "imagewalker-cpu"
  },
  "language_info": {
   "codemirror_mode": {
    "name": "ipython",
    "version": 3
   },
   "file_extension": ".py",
   "mimetype": "text/x-python",
   "name": "python",
   "nbconvert_exporter": "python",
   "pygments_lexer": "ipython3",
   "version": "3.7.10"
  }
 },
 "nbformat": 4,
 "nbformat_minor": 5
}
