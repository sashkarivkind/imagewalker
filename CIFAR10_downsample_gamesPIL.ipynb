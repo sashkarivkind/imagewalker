{
 "cells": [
  {
   "cell_type": "code",
   "execution_count": 2,
   "metadata": {},
   "outputs": [],
   "source": [
    "import numpy as np\n",
    "import matplotlib.pyplot as plt\n",
    "%matplotlib notebook\n",
    "\n",
    "\n",
    "import pickle\n",
    "import cv2\n",
    "import misc\n",
    "import pickle"
   ]
  },
  {
   "cell_type": "code",
   "execution_count": 4,
   "metadata": {},
   "outputs": [],
   "source": [
    "images=[]\n",
    "labels=[]\n",
    "\n",
    "for ii in range(1,2):    \n",
    "    file = '/home/bnapp/datasets/cifar-10-batches-py/data_batch_'+str(ii)\n",
    "    with open(file, 'rb') as fo:\n",
    "        db = pickle.load(fo, encoding='bytes')\n",
    "        images.append(db[b'data'])\n",
    "        labels.append(db[b'labels'])\n",
    "\n",
    "images = np.concatenate(images,axis=0)\n",
    "labels = np.concatenate(labels,axis=0)\n",
    "\n",
    "images = misc.cifar_shape_fun(images,grayscale=False)\n",
    "\n",
    "# train_images = images[:validation_index]\n",
    "# validation_images = images[validation_index:]\n",
    "\n",
    "# train_labels = labels[:validation_index]\n",
    "# validation_labels = labels[validation_index:]"
   ]
  },
  {
   "cell_type": "code",
   "execution_count": 5,
   "metadata": {
    "scrolled": true
   },
   "outputs": [
    {
     "data": {
      "text/plain": [
       "<matplotlib.image.AxesImage at 0x7f735a838128>"
      ]
     },
     "execution_count": 5,
     "metadata": {},
     "output_type": "execute_result"
    },
    {
     "data": {
      "image/png": "[encoded data removed]",
      "text/plain": [
       "<Figure size 432x288 with 1 Axes>"
      ]
     },
     "metadata": {
      "needs_background": "light"
     },
     "output_type": "display_data"
    }
   ],
   "source": [
    "plt.imshow(images[0])"
   ]
  },
  {
   "cell_type": "code",
   "execution_count": 33,
   "metadata": {},
   "outputs": [],
   "source": [
    "r1 = cv2.resize(images[2],(8,8))\n",
    "r2 = cv2.resize(images[2],(8,8),interpolation=cv2.INTER_AREA)\n",
    "r3 = cv2.resize(images[2],(8,8),interpolation=cv2.INTER_CUBIC)\n",
    "\n",
    "plt.imshow(r2)\n",
    "plt.title('no-biq')\n",
    "\n",
    "plt.figure()\n",
    "plt.imshow(r3)\n",
    "plt.title('biq')\n",
    "# plt.figure()\n",
    "# plt.imshow(r3-r2)"
   ]
  },
  {
   "cell_type": "code",
   "execution_count": 50,
   "metadata": {},
   "outputs": [
    {
     "data": {
      "text/plain": [
       "Text(0.5, 1.0, 'biq')"
      ]
     },
     "execution_count": 50,
     "metadata": {},
     "output_type": "execute_result"
    },
    {
     "data": {
      "image/png": "[encoded data removed]",
      "text/plain": [
       "<Figure size 432x288 with 1 Axes>"
      ]
     },
     "metadata": {
      "needs_background": "light"
     },
     "output_type": "display_data"
    },
    {
     "data": {
      "image/png": "[encoded data removed]",
      "text/plain": [
       "<Figure size 432x288 with 1 Axes>"
      ]
     },
     "metadata": {
      "needs_background": "light"
     },
     "output_type": "display_data"
    },
    {
     "data": {
      "image/png": "[encoded data removed]",
      "text/plain": [
       "<Figure size 432x288 with 1 Axes>"
      ]
     },
     "metadata": {
      "needs_background": "light"
     },
     "output_type": "display_data"
    }
   ],
   "source": [
    "edge_im = np.random.normal(size=[32,32])\n",
    "# edge_im[13:]=1\n",
    "# edge_im[:,13:]=1\n",
    "\n",
    "r1 = cv2.resize(edge_im,(8,8))\n",
    "r2 = cv2.resize(edge_im,(8,8),interpolation=cv2.INTER_AREA)\n",
    "r3 = cv2.resize(edge_im,(8,8),interpolation=cv2.INTER_CUBIC)\n",
    "\n",
    "plt.imshow(edge_im)\n",
    "plt.figure()\n",
    "\n",
    "plt.imshow(r2)\n",
    "plt.title('no-biq')\n",
    "\n",
    "plt.figure()\n",
    "plt.imshow(r3)\n",
    "plt.title('biq')\n",
    "# plt.figure()\n",
    "# plt.imshow(r3-r2)"
   ]
  },
  {
   "cell_type": "code",
   "execution_count": 51,
   "metadata": {},
   "outputs": [
    {
     "data": {
      "text/plain": [
       "array([-0.2851324 ,  1.0455095 ,  0.58309712,  0.46919963,  0.10978335,\n",
       "        0.07408989,  0.64101108, -0.89031214])"
      ]
     },
     "execution_count": 51,
     "metadata": {},
     "output_type": "execute_result"
    }
   ],
   "source": [
    "r3[0]"
   ]
  },
  {
   "cell_type": "code",
   "execution_count": 52,
   "metadata": {},
   "outputs": [
    {
     "data": {
      "text/plain": [
       "array([ 0.33597383,  0.09343777,  0.25328857, -0.16743298,  0.00573955,\n",
       "        0.53886771, -0.38391114,  0.26008261])"
      ]
     },
     "execution_count": 52,
     "metadata": {},
     "output_type": "execute_result"
    }
   ],
   "source": [
    "r2[0]"
   ]
  },
  {
   "cell_type": "code",
   "execution_count": 53,
   "metadata": {},
   "outputs": [],
   "source": [
    "uu=zz.tolist()"
   ]
  },
  {
   "cell_type": "code",
   "execution_count": 54,
   "metadata": {},
   "outputs": [
    {
     "data": {
      "text/plain": [
       "False"
      ]
     },
     "execution_count": 54,
     "metadata": {},
     "output_type": "execute_result"
    }
   ],
   "source": [
    "type(zz) is list"
   ]
  },
  {
   "cell_type": "code",
   "execution_count": 55,
   "metadata": {},
   "outputs": [
    {
     "data": {
      "text/plain": [
       "Text(0.5, 1.0, 'biq')"
      ]
     },
     "execution_count": 55,
     "metadata": {},
     "output_type": "execute_result"
    },
    {
     "data": {
      "image/png": "[encoded data removed]",
      "text/plain": [
       "<Figure size 432x288 with 1 Axes>"
      ]
     },
     "metadata": {
      "needs_background": "light"
     },
     "output_type": "display_data"
    },
    {
     "data": {
      "image/png": "[encoded data removed]",
      "text/plain": [
       "<Figure size 432x288 with 1 Axes>"
      ]
     },
     "metadata": {
      "needs_background": "light"
     },
     "output_type": "display_data"
    }
   ],
   "source": [
    "plt.imshow(np.abs(np.fft.fft2(r2)))\n",
    "plt.title('no-biq')\n",
    "\n",
    "plt.figure()\n",
    "plt.imshow(np.abs(np.fft.fft2(r3)))\n",
    "plt.title('biq')\n",
    "\n"
   ]
  },
  {
   "cell_type": "code",
   "execution_count": null,
   "metadata": {},
   "outputs": [],
   "source": []
  },
  {
   "cell_type": "code",
   "execution_count": null,
   "metadata": {},
   "outputs": [],
   "source": []
  },
  {
   "cell_type": "code",
   "execution_count": null,
   "metadata": {},
   "outputs": [],
   "source": []
  },
  {
   "cell_type": "code",
   "execution_count": 57,
   "metadata": {},
   "outputs": [],
   "source": [
    "ff_nobiq=0\n",
    "ff_biq = 0\n",
    "for uu in range(10000):\n",
    "    edge_im = np.random.normal(size=[32,32])\n",
    "# edge_im[13:]=1\n",
    "# edge_im[:,13:]=1\n",
    "\n",
    "    r1 = cv2.resize(edge_im,(8,8))\n",
    "    r2 = cv2.resize(edge_im,(8,8),interpolation=cv2.INTER_AREA)\n",
    "    r3 = cv2.resize(edge_im,(8,8),interpolation=cv2.INTER_CUBIC)\n",
    "\n",
    "    ff_nobiq+=np.abs(np.fft.fft2(r2))\n",
    "    # plt.title('no-biq')\n",
    "    ff_biq+=np.abs(np.fft.fft2(r3))"
   ]
  },
  {
   "cell_type": "code",
   "execution_count": 58,
   "metadata": {},
   "outputs": [
    {
     "data": {
      "text/plain": [
       "Text(0.5, 1.0, 'biq')"
      ]
     },
     "execution_count": 58,
     "metadata": {},
     "output_type": "execute_result"
    },
    {
     "data": {
      "image/png": "[encoded data removed]",
      "text/plain": [
       "<Figure size 432x288 with 1 Axes>"
      ]
     },
     "metadata": {
      "needs_background": "light"
     },
     "output_type": "display_data"
    },
    {
     "data": {
      "image/png": "[encoded data removed]",
      "text/plain": [
       "<Figure size 432x288 with 1 Axes>"
      ]
     },
     "metadata": {
      "needs_background": "light"
     },
     "output_type": "display_data"
    }
   ],
   "source": [
    "\n",
    "\n",
    "plt.imshow(ff_nobiq)\n",
    "plt.title('no-biq')\n",
    "\n",
    "plt.figure()\n",
    "plt.imshow(ff_biq)\n",
    "plt.title('biq')"
   ]
  },
  {
   "cell_type": "code",
   "execution_count": 3,
   "metadata": {},
   "outputs": [
    {
     "data": {
      "text/plain": [
       "False"
      ]
     },
     "execution_count": 3,
     "metadata": {},
     "output_type": "execute_result"
    }
   ],
   "source": [
    "None is ''"
   ]
  },
  {
   "cell_type": "code",
   "execution_count": null,
   "metadata": {},
   "outputs": [],
   "source": []
  }
 ],
 "metadata": {
  "kernelspec": {
   "display_name": "Python 3",
   "language": "python",
   "name": "python3"
  },
  "language_info": {
   "codemirror_mode": {
    "name": "ipython",
    "version": 3
   },
   "file_extension": ".py",
   "mimetype": "text/x-python",
   "name": "python",
   "nbconvert_exporter": "python",
   "pygments_lexer": "ipython3",
   "version": "3.5.2"
  }
 },
 "nbformat": 4,
 "nbformat_minor": 2
}
