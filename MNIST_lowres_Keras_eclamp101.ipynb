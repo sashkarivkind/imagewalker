{
 "cells": [
  {
   "cell_type": "code",
   "execution_count": 15,
   "metadata": {},
   "outputs": [],
   "source": [
    "import numpy as np\n",
    "import cv2\n",
    "import misc\n",
    "# from RL_networks import Stand_alone_net\n",
    "# import pickle\n",
    "# import random\n",
    "\n",
    "import tensorflow as tf\n",
    "import tensorflow.keras as keras\n",
    "\n",
    "# from tensorflow.python.client import device_lib\n",
    "# print(device_lib.list_local_devices())\n",
    "\n",
    "# np.__version__\n",
    "\n",
    "import matplotlib.pyplot as plt\n",
    "# %matplotlib notebook\n",
    "%matplotlib inline\n",
    "import SYCLOP_env as syc\n",
    "\n",
    "from torch.utils.data import Dataset, DataLoader"
   ]
  },
  {
   "cell_type": "code",
   "execution_count": 11,
   "metadata": {
    "scrolled": true
   },
   "outputs": [],
   "source": [
    "from mnist import MNIST\n",
    "\n",
    "mnist = MNIST('/home/labs/ahissarlab/bnassa/datasets/mnist/')\n",
    "images, labels = mnist.load_training()"
   ]
  },
  {
   "cell_type": "code",
   "execution_count": 162,
   "metadata": {},
   "outputs": [],
   "source": [
    "#Define function for low resolution lens on syclop\n",
    "def bad_res101(img,res):\n",
    "    sh=np.shape(img)\n",
    "    dwnsmp=cv2.resize(img,res, interpolation = cv2.INTER_CUBIC)\n",
    "    upsmp = cv2.resize(dwnsmp,sh, interpolation = cv2.INTER_CUBIC)\n",
    "    \n",
    "    return upsmp"
   ]
  },
  {
   "cell_type": "code",
   "execution_count": null,
   "metadata": {},
   "outputs": [],
   "source": [
    "def generate_eclamp_traj(timesteps = 5 ,res = 6, random_dir = True):\n",
    "    fixed_dir = [0, np.pi/2, np.pi, -np.pi/2, np.pi]\n",
    "    traj_list = []\n",
    "\n",
    "    #Set the sensor and the agent\n",
    "    img=misc.build_mnist_padded(1./256*np.reshape(images[0],[1,28,28]))\n",
    "    scene = syc.Scene(image_matrix=img)\n",
    "    sensor = syc.Sensor(winx=56,winy=56,centralwinx=28,centralwiny=28)\n",
    "    agent = syc.Agent(max_q = [scene.maxx-sensor.hp.winx,scene.maxy-sensor.hp.winy])\n",
    "    sensor.hp.resolution_fun = lambda x: bad_res101(x,(res,res))\n",
    "\n",
    "\n",
    "    for img_num,img in enumerate(images):\n",
    "        #Set the padded image\n",
    "        img=misc.build_mnist_padded(1./256*np.reshape(img,[1,28,28]))\n",
    "    #     print(\"img: \", img_num)\n",
    "\n",
    "        #Set the scene\n",
    "        scene = syc.Scene(image_matrix=img)\n",
    "\n",
    "        #Set the agent\n",
    "        agent.reset()\n",
    "        starting_point = np.array([agent.max_q[0]//2,agent.max_q[1]//2],dtype=int)\n",
    "#         starting_point += np.random.randint(-5,5,2)\n",
    "\n",
    "        q1 = [0,0]\n",
    "        steps  = []\n",
    "        steps.append(starting_point*1)\n",
    "        for j in range(timesteps):\n",
    "            if random_dir:\n",
    "                ssteps = sensor.eclamp_max_substeps\n",
    "                while ssteps == sensor.eclamp_max_substeps:\n",
    "                    agent.set_manual_q(steps[-1])\n",
    "                    phi = 2 * np.pi * random.random()\n",
    "                    q1, ssteps = sensor.eclamp_step(scene, agent, phi)\n",
    "            else:\n",
    "                agent.set_manual_q(steps[-1])\n",
    "                phi = fixed_dir[j]\n",
    "                q1, ssteps = sensor.eclamp_step(scene, agent, phi)\n",
    "\n",
    "            steps.append( q1 )\n",
    "\n",
    "        q_sequence = np.array(steps).astype(int)\n",
    "        traj_list.append(q_sequence)\n",
    "        \n",
    "    return traj_list"
   ]
  },
  {
   "cell_type": "code",
   "execution_count": null,
   "metadata": {},
   "outputs": [],
   "source": [
    "def generate_fixed_traj(q_sequence):\n",
    "    \n",
    "    traj_list = []\n",
    "    for img_num,img in enumerate(images):\n",
    "        traj_list.append(q_sequence)\n",
    "    \n",
    "    return traj_list"
   ]
  },
  {
   "cell_type": "code",
   "execution_count": null,
   "metadata": {},
   "outputs": [],
   "source": [
    "def generate_fixed_traj_rand_start_point():\n",
    "     \n",
    "    traj_diff = [[2,0], [0,2], [-2,0], [0,-3]]\n",
    "    traj_list = []\n",
    "\n",
    "    for img_num,img in enumerate(images):\n",
    "        starting_point = np.array([agent.max_q[0]//2,agent.max_q[1]//2])\n",
    "        starting_point += np.random.randint(-5,5,2)\n",
    "        \n",
    "        steps = []\n",
    "        steps.append(starting_point*1)\n",
    "        for j in range(4):\n",
    "            starting_point += traj_diff[j]\n",
    "            steps.append(starting_point*1)\n",
    "                \n",
    "        \n",
    "        traj_list.append(steps)\n",
    "    \n",
    "    return traj_list"
   ]
  },
  {
   "cell_type": "code",
   "execution_count": 33,
   "metadata": {},
   "outputs": [],
   "source": [
    "def rnn_model(n_timesteps = 5):\n",
    "    inputA = keras.layers.Input(shape=(n_timesteps,28,28,1))\n",
    "    inputB = keras.layers.Input(shape=(n_timesteps,2))\n",
    "\n",
    "    # define CNN model\n",
    "    x1=keras.layers.TimeDistributed(keras.layers.Conv2D(16,(3,3),activation='relu'))(inputA)\n",
    "    x1=keras.layers.TimeDistributed(keras.layers.BatchNormalization())(x1)\n",
    "    x1=keras.layers.TimeDistributed(keras.layers.MaxPooling2D(pool_size=(2, 2)))(x1)\n",
    "\n",
    "    x1=keras.layers.TimeDistributed(keras.layers.Conv2D(32,(3,3),activation='relu'))(x1)\n",
    "    x1=keras.layers.TimeDistributed(keras.layers.BatchNormalization())(x1)\n",
    "    x1=keras.layers.TimeDistributed(keras.layers.MaxPooling2D(pool_size=(2, 2)))(x1)\n",
    "\n",
    "    x1=keras.layers.TimeDistributed(keras.layers.Conv2D(16,(3,3),activation='relu'))(x1)\n",
    "    print(x1.shape)\n",
    "\n",
    "    x1=keras.layers.TimeDistributed(keras.layers.MaxPooling2D(pool_size=(2, 2)))(x1)\n",
    "    print(x1.shape)\n",
    "\n",
    "    x1=keras.layers.TimeDistributed(keras.layers.Flatten())(x1)\n",
    "    print(x1.shape)\n",
    "\n",
    "    x = keras.layers.Concatenate()([x1,inputB])\n",
    "    print(x.shape)\n",
    "    # define LSTM model\n",
    "    x = keras.layers.GRU(100,input_shape=(n_timesteps, None),return_sequences=False)(x)\n",
    "    x = keras.layers.Dense(10,activation=\"softmax\")(x)\n",
    "    model = keras.models.Model(inputs=[inputA,inputB],outputs=x)\n",
    "    opt=tf.keras.optimizers.Adam(lr=1e-3)\n",
    " \n",
    "    model.compile(\n",
    "        optimizer=opt,\n",
    "        loss=\"sparse_categorical_crossentropy\",\n",
    "        metrics=[\"sparse_categorical_accuracy\"],\n",
    "    )\n",
    "    return model"
   ]
  },
  {
   "cell_type": "code",
   "execution_count": 13,
   "metadata": {},
   "outputs": [],
   "source": [
    "def create_dataset(images, labels, res, sample = 5, mixed_state = True, add_traject = True,\n",
    "                   trajectory_list=None,return_datasets=False):\n",
    "    '''\n",
    "    Creates a torch dataloader object of syclop outputs \n",
    "    from a list of images and labels.\n",
    "    \n",
    "    Parameters\n",
    "    ----------\n",
    "    images : List object holding the images to proces\n",
    "    labels : List object holding the labels\n",
    "    res : resolution dawnsampling factor - to be used in cv.resize(orig_img, res)\n",
    "    sample: the number of samples to have in syclop\n",
    "    mixed_state : if False, use the same trajectory on every image.\n",
    "    return_datasets: rerutns datasets rather than dataloaders\n",
    "    Returns\n",
    "    -------\n",
    "    train_dataloader, test_dataloader - torch DataLoader class objects\n",
    "\n",
    "    '''\n",
    "    count = 0\n",
    "    ts_images = []\n",
    "    dvs_images = []\n",
    "    q_seq = []\n",
    "    count = 0\n",
    "    #create subplot to hold examples from the dataset\n",
    "    fig, ax = plt.subplots(2,5)\n",
    "    i = 0 #indexises for the subplot for image and for syclop vision\n",
    "    for img_num,img in enumerate(images):\n",
    "        orig_img = np.reshape(img,[28,28])\n",
    "        #Set the padded image\n",
    "        img=misc.build_mnist_padded(1./256*np.reshape(img,[1,28,28]))\n",
    "        \n",
    "        if count < 5:\n",
    "            ax[0,i].imshow(orig_img) \n",
    "            plt.title(labels[count])\n",
    "        #Set the sensor and the agent\n",
    "        scene = syc.Scene(image_matrix=img)\n",
    "        sensor = syc.Sensor(winx=56,winy=56,centralwinx=28,centralwiny=28)\n",
    "        agent = syc.Agent(max_q = [scene.maxx-sensor.hp.winx,scene.maxy-sensor.hp.winy])\n",
    "        #Setting the coordinates to visit\n",
    "        if trajectory_list is None:\n",
    "            starting_point = np.array([agent.max_q[0]//2,agent.max_q[1]//2])\n",
    "            starting_point += np.random.randint(-5,5,2)#eldad\n",
    "            steps  = []\n",
    "            for j in range(5):\n",
    "                steps.append(starting_point*1)\n",
    "                starting_point += np.random.randint(-5,5,2) \n",
    "\n",
    "            if mixed_state:\n",
    "                q_sequence = np.array(steps).astype(int)\n",
    "            else:\n",
    "                if count == 0:\n",
    "                    q_sequence = np.array(steps).astype(int)\n",
    "        else:\n",
    "            q_sequence = np.array(trajectory_list[img_num]).astype(int)\n",
    "        #Setting the resolution function - starting with the regular resolution\n",
    "        sensor.hp.resolution_fun = lambda x: bad_res101(x,(res,res))\n",
    "        #Create empty lists to store the syclops outputs\n",
    "        imim=[]\n",
    "        dimim=[]\n",
    "        agent.set_manual_trajectory(manual_q_sequence=q_sequence)\n",
    "        #Run Syclop for 20 time steps\n",
    "        for t in range(5):\n",
    "            agent.manual_act()\n",
    "            sensor.update(scene, agent)\n",
    "            imim.append(sensor.central_frame_view)\n",
    "            dimim.append(sensor.central_dvs_view)\n",
    "        #Create a unified matrix from the list\n",
    "        if count < 5:\n",
    "            ax[1,i].imshow(imim[0]) \n",
    "            plt.title(labels[count])\n",
    "            i+=1\n",
    "            \n",
    "\n",
    "        imim = np.array(imim)\n",
    "        dimim = np.array(dimim)\n",
    "        #Add current proccessed image to lists\n",
    "        ts_images.append(imim)\n",
    "        dvs_images.append(dimim)\n",
    "        q_seq.append(q_sequence)\n",
    "        count += 1\n",
    "        \n",
    "\n",
    "    \n",
    "    if add_traject: #If we add the trjectories the train list will become a list of lists, the images and the \n",
    "        #corrosponding trajectories, we will change the dataset structure as well. Note the the labels stay the same.\n",
    "        ts_train = [ts_images[:55000], q_seq[:55000]] \n",
    "#         ts_train = [dvs_images[:55000], q_seq[:55000]] \n",
    "        train_labels = labels[:55000]\n",
    "        ts_val = [ts_images[55000:], q_seq[55000:]]\n",
    "#         ts_val = [dvs_images[55000:], q_seq[55000:]]\n",
    "        val_labels = labels[55000:]\n",
    "\n",
    "    else:\n",
    "        ts_train = ts_images[:55000]\n",
    "        train_labels = labels[:55000]\n",
    "        ts_val = ts_images[55000:]\n",
    "        val_labels = labels[55000:]\n",
    "\n",
    "    dvs_train = dvs_images[:55000]\n",
    "    dvs_val = dvs_images[55000:]\n",
    "    \n",
    "    class mnist_dataset(Dataset):\n",
    "        def __init__(self, data, labels, add_traject = False, transform = None):\n",
    "\n",
    "            self.data = data\n",
    "            self.labels = labels\n",
    "\n",
    "            self.add_traject = add_traject\n",
    "            self.transform = transform\n",
    "        def __len__(self):\n",
    "            if self.add_traject: \n",
    "                return len(self.data[0]) \n",
    "            else: return len(self.data[0])\n",
    "\n",
    "\n",
    "        def __getitem__(self, idx):\n",
    "            '''\n",
    "            args idx (int) :  index\n",
    "\n",
    "            returns: tuple(data, label)\n",
    "            '''\n",
    "            if self.add_traject:\n",
    "                img_data = self.data[0][idx] \n",
    "                traject_data = self.data[1][idx]\n",
    "                label = self.labels[idx]\n",
    "                return img_data, traject_data, label\n",
    "            else:\n",
    "                data = self.data[idx]\n",
    "\n",
    "\n",
    "\n",
    "            if self.transform:\n",
    "                data = self.transform(data)\n",
    "                return data, label\n",
    "            else:\n",
    "                return data, label\n",
    "\n",
    "        def dataset(self):\n",
    "            return self.data\n",
    "        def labels(self):\n",
    "            return self.labels\n",
    "        \n",
    "    train_dataset = mnist_dataset(ts_train, train_labels,add_traject = True)\n",
    "    test_dataset = mnist_dataset(ts_val, val_labels,add_traject = True)\n",
    "    batch = 64\n",
    "#     train_dataloader = torch.utils.data.DataLoader(train_dataset, batch_size = batch, shuffle = True)\n",
    "#     test_dataloader = torch.utils.data.DataLoader(test_dataset, batch_size = batch, shuffle = True)\n",
    "\n",
    "    if return_datasets:\n",
    "        return train_dataset, test_dataset\n",
    "    else:\n",
    "        return train_dataloader, test_dataloader, ts_train, train_labels\n"
   ]
  },
  {
   "cell_type": "code",
   "execution_count": 17,
   "metadata": {},
   "outputs": [],
   "source": [
    "def split_dataset_xy(dataset, timesteps = 5):\n",
    "    dataset_x1 = [uu[0] for uu in dataset]\n",
    "    dataset_x2 = [uu[1] for uu in dataset]\n",
    "    dataset_y = [uu[-1] for uu in dataset]\n",
    "    return (np.array(dataset_x1)[...,np.newaxis],np.array(dataset_x2)[:,:timesteps,:]),np.array(dataset_y)"
   ]
  },
  {
   "cell_type": "code",
   "execution_count": 149,
   "metadata": {},
   "outputs": [
    {
     "name": "stdout",
     "output_type": "stream",
     "text": [
      "(?, 5, 3, 3, 16)\n",
      "(?, 5, 144)\n",
      "(?, 5, 144)\n",
      "Fit model on training data\n",
      "Train on 55000 samples, validate on 5000 samples\n",
      "55000/55000 [==============================] - 44s 798us/sample - loss: 1.2474 - sparse_categorical_accuracy: 0.5843 - val_loss: 0.9249 - val_sparse_categorical_accuracy: 0.6988\n"
     ]
    },
    {
     "data": {
      "image/png": "[encoded data removed]",
      "text/plain": [
       "<Figure size 432x288 with 10 Axes>"
      ]
     },
     "metadata": {
      "needs_background": "light"
     },
     "output_type": "display_data"
    }
   ],
   "source": [
    "# RES_LIST = [4, 6, 8, 10, 12]\n",
    "RES_LIST = [6]\n",
    "TIMESTEPS = 5\n",
    "\n",
    "# traj_l = []\n",
    "q_seq = [[36,36],[38,36],[38,38],[36,38],[36,35]]\n",
    "acc = np.zeros(len(RES_LIST))\n",
    "val_acc = np.zeros(len(RES_LIST))\n",
    "for indx,res in enumerate(RES_LIST):\n",
    "\n",
    "#     traj_l = generate_fixed_traj(q_seq)\n",
    "#     traj_l = generate_eclamp_traj(TIMESTEPS, res)\n",
    "#     traj_l = generate_eclamp_traj(TIMESTEPS, res, random_dir = False)\n",
    "#     traj_l = generate_fixed_traj_rand_start_point()\n",
    "\n",
    "    train_dataset, test_dataset = create_dataset(images, labels,res = res,return_datasets=True, trajectory_list = traj_l)\n",
    "#     train_dataset, test_dataset = create_dataset(images, labels,res = res,return_datasets=True)\n",
    "  \n",
    "    train_dataset_x, train_dataset_y = split_dataset_xy(train_dataset, TIMESTEPS)\n",
    "    test_dataset_x, test_dataset_y = split_dataset_xy(test_dataset, TIMESTEPS)\n",
    "    train_dataset_x = train_dataset_x[0]\n",
    "    test_dataset_x = test_dataset_x[0]\n",
    "\n",
    "    rnn = rnn_model(TIMESTEPS)\n",
    "    print(\"Fit model on training data\")\n",
    "    history = rnn.fit(\n",
    "        train_dataset_x,\n",
    "        train_dataset_y,\n",
    "        batch_size=64,\n",
    "        epochs=1,\n",
    "        # We pass some validation for\n",
    "        # monitoring validation loss and metrics\n",
    "        # at the end of each epoch\n",
    "        validation_data=(test_dataset_x, test_dataset_y)) #(validation_images, validation_labels)\n",
    "\n",
    "\n",
    "    acc[indx] = history.history['sparse_categorical_accuracy'][0]\n",
    "    val_acc[indx] = history.history['val_sparse_categorical_accuracy'][0]\n"
   ]
  },
  {
   "cell_type": "markdown",
   "metadata": {},
   "source": [
    "### Analysis and testing"
   ]
  },
  {
   "cell_type": "code",
   "execution_count": null,
   "metadata": {},
   "outputs": [],
   "source": [
    "agent.set_manual_q(starting_point)\n",
    "view0 = sensor.get_view(scene,agent)\n",
    "# view0.shape\n",
    "\n",
    "agent.set_manual_q(starting_point + [10,10])\n",
    "view1 = sensor.get_view(scene,agent)\n",
    "\n",
    "dvs_view = sensor.dvs_fun(view1,view0)\n",
    "\n",
    "plt.figure()\n",
    "plt.imshow(view0)\n",
    "plt.figure()\n",
    "plt.imshow(view1)\n",
    "plt.figure()\n",
    "plt.imshow(dvs_view)\n",
    "# view0"
   ]
  },
  {
   "cell_type": "code",
   "execution_count": null,
   "metadata": {},
   "outputs": [],
   "source": [
    "# val_acc_eclamp_fixed = val_acc\n",
    "# acc_eclamp_fixed = acc\n",
    "# train_dataset_x_eclamp_fixed = train_dataset_x"
   ]
  },
  {
   "cell_type": "code",
   "execution_count": null,
   "metadata": {},
   "outputs": [],
   "source": [
    "plt.figure()\n",
    "plt.plot(RES_LIST, val_acc_random, 'ob')\n",
    "plt.plot(RES_LIST, val_acc_eclamp, 'or')\n",
    "plt.plot(RES_LIST, val_acc_eclamp_fixed, 'ok')\n",
    "plt.plot(RES_LIST, val_acc_fixed, 'og')\n",
    "plt.legend(['random','random eclamp', 'fixed eclamp', 'fixed traj'])\n",
    "plt.xlabel('res')\n",
    "plt.ylabel('val acc')\n",
    "plt.savefig('eclamp_accuracy.png')"
   ]
  },
  {
   "cell_type": "code",
   "execution_count": 19,
   "metadata": {},
   "outputs": [
    {
     "data": {
      "text/plain": [
       "(31.6, 40.4, 19.85, 45.15)"
      ]
     },
     "execution_count": 19,
     "metadata": {},
     "output_type": "execute_result"
    },
    {
     "data": {
      "image/png": "[encoded data removed]",
      "text/plain": [
       "<Figure size 432x288 with 1 Axes>"
      ]
     },
     "metadata": {
      "needs_background": "light"
     },
     "output_type": "display_data"
    }
   ],
   "source": [
    "# im=misc.build_mnist_padded(1./256*np.reshape(images[3],[1,28,28]))\n",
    "plt.figure()\n",
    "# plt.imshow(im)\n",
    "\n",
    "traj_1 = train_dataset_x[1][train_dataset_y==1,:,:]\n",
    "traj_0 = train_dataset_x[1][train_dataset_y==0,:,:]\n",
    "for seq in traj_1[:10]:\n",
    "    plt.plot(seq[:,0],seq[:,1], 'r')\n",
    "for seq in traj_0[:10]:\n",
    "    plt.plot(seq[:,0],seq[:,1], 'b')\n",
    "\n",
    "plt.axis('equal')"
   ]
  },
  {
   "cell_type": "code",
   "execution_count": null,
   "metadata": {},
   "outputs": [],
   "source": [
    "plt.figure()\n",
    "plt.hist(train_dataset_x[1][train_dataset_y==0,4,1], bins=20)\n",
    "\n",
    "plt.figure()\n",
    "plt.hist(train_dataset_x[1][train_dataset_y==1,4,1], bins=20)\n",
    "\n",
    "plt.figure()\n",
    "plt.hist(train_dataset_x[1][train_dataset_y==2,4,1], bins=20)\n",
    "\n",
    "plt.figure()\n",
    "plt.hist(train_dataset_x[1][train_dataset_y==3,4,1], bins=20)\n",
    "\n",
    "plt.figure()\n",
    "plt.hist(train_dataset_x[1][train_dataset_y==4,4,1], bins=20)\n",
    "\n",
    "plt.figure()\n",
    "plt.hist(train_dataset_x[1][train_dataset_y==5,4,1], bins=20)"
   ]
  },
  {
   "cell_type": "code",
   "execution_count": 150,
   "metadata": {},
   "outputs": [
    {
     "data": {
      "text/plain": [
       "<matplotlib.image.AxesImage at 0x2b0e415ee650>"
      ]
     },
     "execution_count": 150,
     "metadata": {},
     "output_type": "execute_result"
    },
    {
     "data": {
      "image/png": "[encoded data removed]",
      "text/plain": [
       "<Figure size 432x288 with 1 Axes>"
      ]
     },
     "metadata": {
      "needs_background": "light"
     },
     "output_type": "display_data"
    },
    {
     "data": {
      "image/png": "[encoded data removed]",
      "text/plain": [
       "<Figure size 432x288 with 1 Axes>"
      ]
     },
     "metadata": {
      "needs_background": "light"
     },
     "output_type": "display_data"
    }
   ],
   "source": [
    "img_ind = 8\n",
    "# print(train_dataset_x[1][img_ind,:,:]-22)\n",
    "\n",
    "plt.figure()\n",
    "plt.imshow(train_dataset_x[img_ind,0,:,:,0])\n",
    "plt.figure()\n",
    "plt.imshow(train_dataset_x[img_ind,1,:,:,0])\n",
    "# plt.figure()\n",
    "# plt.imshow(train_dataset_x[0][img_ind,2,:,:,0])\n",
    "# plt.figure()\n",
    "# plt.imshow(train_dataset_x[0][img_ind,3,:,:,0])\n",
    "# plt.figure()\n",
    "# plt.imshow(train_dataset_x[0][img_ind,4,:,:,0])"
   ]
  },
  {
   "cell_type": "code",
   "execution_count": 172,
   "metadata": {},
   "outputs": [
    {
     "name": "stdout",
     "output_type": "stream",
     "text": [
      "False\n"
     ]
    },
    {
     "data": {
      "image/png": "[encoded data removed]",
      "text/plain": [
       "<Figure size 432x288 with 1 Axes>"
      ]
     },
     "metadata": {
      "needs_background": "light"
     },
     "output_type": "display_data"
    }
   ],
   "source": [
    "img = misc.build_mnist_padded(1./256*np.reshape(images[8],[1,28,28]))\n",
    "\n",
    "q = [36,36]\n",
    "view =  img[128 - q[1] - 56: 128 - q[1], q[0]: q[0] + 56]\n",
    "view_bad_res = bad_res101(view,(28,28))\n",
    "\n",
    "plt.figure()\n",
    "plt.imshow(view_bad_res)\n",
    "print((view_bad_res==0.0).all())"
   ]
  },
  {
   "cell_type": "code",
   "execution_count": 153,
   "metadata": {},
   "outputs": [
    {
     "name": "stdout",
     "output_type": "stream",
     "text": [
      "0\n"
     ]
    }
   ],
   "source": [
    "indxs_empty = []\n",
    "sum_empty = 0\n",
    "for tx_ind, tx in enumerate(train_dataset_x):\n",
    "    for view in tx[:1]:\n",
    "#     for view in tx:\n",
    "#         plt.figure()\n",
    "#         plt.imshow(view)\n",
    "         sum_empty += (view==0).all()\n",
    "         if (view==0).all():\n",
    "             indxs_empty.append(tx_ind)\n",
    "\n",
    "print(sum_empty) "
   ]
  },
  {
   "cell_type": "markdown",
   "metadata": {},
   "source": [
    "## sensor.hp.winx"
   ]
  },
  {
   "cell_type": "code",
   "execution_count": 155,
   "metadata": {},
   "outputs": [],
   "source": [
    "test_predictions = rnn.predict(test_dataset_x)"
   ]
  },
  {
   "cell_type": "code",
   "execution_count": 156,
   "metadata": {},
   "outputs": [],
   "source": [
    "predicted_digit = []\n",
    "for sample_pred in test_predictions:\n",
    "    pred = np.where(sample_pred == np.max(sample_pred))\n",
    "    predicted_digit.append(pred[0][0])\n",
    "\n",
    "predicted_digit = np.array(predicted_digit)"
   ]
  },
  {
   "cell_type": "code",
   "execution_count": 157,
   "metadata": {},
   "outputs": [
    {
     "data": {
      "text/plain": [
       "0.9584905660377359"
      ]
     },
     "execution_count": 157,
     "metadata": {},
     "output_type": "execute_result"
    }
   ],
   "source": [
    "digit = 1\n",
    "np.sum(predicted_digit[test_dataset_y==digit]==digit)/np.sum(test_dataset_y==digit)"
   ]
  },
  {
   "cell_type": "code",
   "execution_count": null,
   "metadata": {},
   "outputs": [],
   "source": [
    "train_dataset_x[0][img_ind,0,:,:,0]"
   ]
  }
 ],
 "metadata": {
  "kernelspec": {
   "display_name": "Python (imagewalker-cpu)",
   "language": "python",
   "name": "imagewalker-cpu"
  },
  "language_info": {
   "codemirror_mode": {
    "name": "ipython",
    "version": 3
   },
   "file_extension": ".py",
   "mimetype": "text/x-python",
   "name": "python",
   "nbconvert_exporter": "python",
   "pygments_lexer": "ipython3",
   "version": "3.7.10"
  }
 },
 "nbformat": 4,
 "nbformat_minor": 4
}
