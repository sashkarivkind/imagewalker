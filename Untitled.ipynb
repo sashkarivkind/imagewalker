{
 "cells": [
  {
   "cell_type": "code",
   "execution_count": 3,
   "metadata": {},
   "outputs": [],
   "source": [
    "\n",
    "import numpy as np\n",
    "import torch"
   ]
  },
  {
   "cell_type": "code",
   "execution_count": 8,
   "metadata": {},
   "outputs": [
    {
     "name": "stdout",
     "output_type": "stream",
     "text": [
      "6\n",
      "9\n",
      "4\n",
      "2\n",
      "11\n",
      "6\n",
      "10\n",
      "19\n",
      "11\n",
      "11\n",
      "9\n",
      "12\n",
      "15\n",
      "19\n",
      "2\n",
      "9\n",
      "6\n",
      "10\n",
      "9\n",
      "11\n"
     ]
    }
   ],
   "source": [
    "for i in range(20):\n",
    "    np.random.seed(torch.randint(1,20,(1,)))\n",
    "    print(np.random.randint(1,20))"
   ]
  }
 ],
 "metadata": {
  "kernelspec": {
   "display_name": "Python 3",
   "language": "python",
   "name": "python3"
  },
  "language_info": {
   "codemirror_mode": {
    "name": "ipython",
    "version": 3
   },
   "file_extension": ".py",
   "mimetype": "text/x-python",
   "name": "python",
   "nbconvert_exporter": "python",
   "pygments_lexer": "ipython3",
   "version": "3.8.5"
  }
 },
 "nbformat": 4,
 "nbformat_minor": 4
}
