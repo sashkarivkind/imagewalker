{
 "cells": [
  {
   "cell_type": "code",
   "execution_count": 1,
   "metadata": {},
   "outputs": [],
   "source": [
    "from misc import HP\n",
    "import argparse\n",
    "import random\n",
    "import time\n",
    "import pickle\n",
    "import copy\n",
    "import SYCLOP_env as syc\n",
    "from misc import *\n",
    "import sys\n",
    "import os\n",
    "import cv2\n",
    "import argparse\n",
    "import tensorflow.keras as keras\n",
    "\n",
    "from keras_networks import rnn_model_102, rnn_model_multicore_201, rnn_model_multicore_202\n",
    "from curriculum_utils import create_mnist_dataset, bad_res102"
   ]
  },
  {
   "cell_type": "code",
   "execution_count": 2,
   "metadata": {},
   "outputs": [],
   "source": [
    "\n",
    "def generate_trajectory(n_steps,max_q,acceleration_mode):\n",
    "    starting_point = np.array([max_q[0] // 2, max_q[1] // 2])\n",
    "    steps = []\n",
    "    qdot=0\n",
    "    for j in range(n_steps):\n",
    "        steps.append(starting_point * 1)\n",
    "        if acceleration_mode:\n",
    "            qdot += np.random.randint(-1, 2, 2)\n",
    "            starting_point += qdot\n",
    "        else:\n",
    "            starting_point += np.random.randint(-5, 6, 2)\n",
    "    return np.array(steps)"
   ]
  },
  {
   "cell_type": "code",
   "execution_count": 3,
   "metadata": {},
   "outputs": [
    {
     "name": "stdout",
     "output_type": "stream",
     "text": [
      "WARNING:tensorflow:From /home/bnapp/.local/lib/python3.5/site-packages/tensorflow_core/python/ops/init_ops.py:97: calling GlorotUniform.__init__ (from tensorflow.python.ops.init_ops) with dtype is deprecated and will be removed in a future version.\n",
      "Instructions for updating:\n",
      "Call initializer instance with the dtype argument instead of passing it to the constructor\n",
      "WARNING:tensorflow:From /home/bnapp/.local/lib/python3.5/site-packages/tensorflow_core/python/ops/init_ops.py:97: calling Zeros.__init__ (from tensorflow.python.ops.init_ops) with dtype is deprecated and will be removed in a future version.\n",
      "Instructions for updating:\n",
      "Call initializer instance with the dtype argument instead of passing it to the constructor\n",
      "WARNING:tensorflow:From /home/bnapp/.local/lib/python3.5/site-packages/tensorflow_core/python/ops/init_ops.py:97: calling Ones.__init__ (from tensorflow.python.ops.init_ops) with dtype is deprecated and will be removed in a future version.\n",
      "Instructions for updating:\n",
      "Call initializer instance with the dtype argument instead of passing it to the constructor\n",
      "WARNING:tensorflow:From /home/bnapp/.local/lib/python3.5/site-packages/tensorflow_core/python/ops/init_ops.py:97: calling Orthogonal.__init__ (from tensorflow.python.ops.init_ops) with dtype is deprecated and will be removed in a future version.\n",
      "Instructions for updating:\n",
      "Call initializer instance with the dtype argument instead of passing it to the constructor\n",
      "WARNING:tensorflow:From /home/bnapp/.local/lib/python3.5/site-packages/tensorflow_core/python/ops/resource_variable_ops.py:1630: calling BaseResourceVariable.__init__ (from tensorflow.python.ops.resource_variable_ops) with constraint is deprecated and will be removed in a future version.\n",
      "Instructions for updating:\n",
      "If using Keras pass *_constraint arguments to layers.\n",
      "WARNING:tensorflow:From /home/bnapp/.local/lib/python3.5/site-packages/tensorflow_core/python/ops/math_grad.py:1424: where (from tensorflow.python.ops.array_ops) is deprecated and will be removed in a future version.\n",
      "Instructions for updating:\n",
      "Use tf.where in 2.0, which has the same broadcast rule as np.where\n"
     ]
    }
   ],
   "source": [
    "def split_dataset_xy(dataset):\n",
    "    dataset_x1 = [uu[0] for uu in dataset]\n",
    "    dataset_x2 = [uu[1] for uu in dataset]\n",
    "    dataset_y = [uu[-1] for uu in dataset]\n",
    "    return (np.array(dataset_x1)[...,np.newaxis],np.array(dataset_x2)[:,:n_timesteps,:]),np.array(dataset_y)\n",
    "\n",
    "#parse hyperparameters\n",
    "\n",
    "lsbjob = os.getenv('LSB_JOBID')\n",
    "lsbjob = '' if lsbjob is None else lsbjob\n",
    "\n",
    "hp = HP()\n",
    "hp.save_path = 'saved_runs'\n",
    "hp.description=''\n",
    "parser = argparse.ArgumentParser()\n",
    "parser.add_argument('--tau_int', default=4., type=float, help='Integration timescale for adaaptation')\n",
    "parser.add_argument('--resize', default=1.0, type=float, help='resize of images')\n",
    "parser.add_argument('--run_name_suffix', default='', type=str, help='suffix for runname')\n",
    "parser.add_argument('--eval_dir', default=None, type=str, help='eval dir')\n",
    "\n",
    "parser.add_argument('--dqn_initial_network', default=None, type=str, help='dqn_initial_network')\n",
    "parser.add_argument('--decoder_initial_network', default=None, type=str, help='decoder_initial_network')\n",
    "parser.add_argument('--decoder_arch', default='default', type=str, help='decoder_network architecture: default / multicore_201')\n",
    "parser.add_argument('--decoder_n_cores',  default=1, type=int, help='decoder number of cores')\n",
    "\n",
    "parser.add_argument('--decoder_learning_rate',  default=1e-3, type=float, help='decoder learning rate')\n",
    "parser.add_argument('--decoder_dropout',  default=0.0, type=float, help='decoder dropout')\n",
    "parser.add_argument('--decoder_rnn_type',  default='gru', type=str, help='gru or rnn')\n",
    "parser.add_argument('--decoder_rnn_units',  default=100, type=int, help='decoder rnn units')\n",
    "parser.add_argument('--decoder_rnn_layers',  default=1, type=int, help='decoder rnn units')\n",
    "\n",
    "\n",
    "parser.add_argument('--decoder_ignore_position', dest='decoder_ignore_position', action='store_true')\n",
    "parser.add_argument('--no-decoder_ignore_position', dest='decoder_ignore_position', action='store_false')\n",
    "\n",
    "parser.add_argument('--syclop_learning_rate',  default=2.5e-3, type=float, help='syclop (RL) learning rate')\n",
    "\n",
    "parser.add_argument('--color', default='grayscale', type=str, help='grayscale/rgb')\n",
    "parser.add_argument('--speed_reward',  default=0.0, type=float, help='speed reward, typically negative')\n",
    "parser.add_argument('--intensity_reward',  default=0.0, type=float, help='speed penalty reward')\n",
    "parser.add_argument('--loss_reward',  default=-1.0, type=float, help='reward for loss, typically negative')\n",
    "parser.add_argument('--resolution',  default=28, type=int, help='resolution')\n",
    "parser.add_argument('--max_eval_episodes',  default=10000, type=int, help='episodes for evaluation mode')\n",
    "parser.add_argument('--steps_per_episode',  default=9, type=int, help='time steps in each episode in ')\n",
    "parser.add_argument('--fit_verbose',  default=1, type=int, help='verbose level for model.fit                        ')\n",
    "parser.add_argument('--steps_between_learnings',  default=100, type=int, help='steps_between_learnings')\n",
    "parser.add_argument('--num_epochs',  default=100, type=int, help='steps_between_learnings')\n",
    "\n",
    "parser.add_argument('--alpha_increment',  default=0.01, type=float, help='reward for loss, typically negative')\n",
    "\n",
    "\n",
    "parser.add_argument('--beta_t1',  default=400000, type=int, help='time rising bete')\n",
    "parser.add_argument('--beta_t2',  default=700000, type=int, help='end rising beta')\n",
    "parser.add_argument('--beta_b1',  default=0.1, type=float, help='beta initial value')\n",
    "parser.add_argument('--beta_b2',  default=1.0, type=float, help='beta final value')\n",
    "\n",
    "parser.add_argument('--curriculum_enable', dest='curriculum_enable', action='store_true')\n",
    "parser.add_argument('--no-curriculum_enable', dest='curriculum_enable', action='store_false')\n",
    "\n",
    "parser.add_argument('--conv_fe', dest='conv_fe', action='store_true')\n",
    "parser.add_argument('--no-conv_fe', dest='conv_fe', action='store_false')\n",
    "\n",
    "parser.add_argument('--acceleration_mode', dest='acceleration_mode', action='store_true')\n",
    "parser.add_argument('--no-acceleration_mode', dest='acceleration_mode', action='store_false')\n",
    "\n",
    "\n",
    "parser.set_defaults(eval_mode=False, decode_from_dvs=False,test_mode=False,rising_beta_schedule=True,decoder_ignore_position=False, curriculum_enable=True, conv_fe=False,\n",
    "                    acceleration_mode=True)\n",
    "config = parser.parse_args('')\n",
    "\n",
    "# config = parser.parse_args()\n",
    "config = vars(config)\n",
    "hp.upadte_from_dict(config)\n",
    "hp.this_run_name = sys.argv[0] + '_noname_' + hp.run_name_suffix + '_' + lsbjob + '_' + str(int(time.time()))\n",
    "\n",
    "#define model\n",
    "n_timesteps = hp.steps_per_episode\n",
    "\n",
    "##\n",
    "# deploy_logs()\n",
    "##\n",
    "# if hp.decoder_arch == 'multicore_201':\n",
    "#     decoder = rnn_model_multicore_201(n_cores=hp.decoder_n_cores,lr=hp.decoder_learning_rate,ignore_input_B=hp.decoder_ignore_position,dropout=hp.decoder_dropout,rnn_type=hp.decoder_rnn_type,\n",
    "#                                 input_size=(hp.resolution,hp.resolution, 1),rnn_layers=hp.decoder_rnn_layers,conv_fe=hp.conv_fe, rnn_units=hp.decoder_rnn_units, n_timesteps=hp.steps_per_episode)\n",
    "# if hp.decoder_arch == 'multicore_202':\n",
    "#     decoder = rnn_model_multicore_202(n_cores=hp.decoder_n_cores, lr=hp.decoder_learning_rate,\n",
    "#                                       ignore_input_B=hp.decoder_ignore_position, dropout=hp.decoder_dropout,\n",
    "#                                       rnn_type=hp.decoder_rnn_type,\n",
    "#                                       input_size=(hp.resolution, hp.resolution, 1),\n",
    "#                                       rnn_layers=hp.decoder_rnn_layers, conv_fe=hp.conv_fe,\n",
    "#                                       rnn_units=hp.decoder_rnn_units, n_timesteps=hp.steps_per_episode)\n",
    "# elif hp.decoder_arch == 'default':\n",
    "#     decoder = rnn_model_102(lr=hp.decoder_learning_rate,ignore_input_B=hp.decoder_ignore_position,dropout=hp.decoder_dropout,rnn_type=hp.decoder_rnn_type,\n",
    "#                                 input_size=(hp.resolution,hp.resolution, 1),rnn_layers=hp.decoder_rnn_layers,conv_fe=hp.conv_fe,rnn_units=hp.decoder_rnn_units, n_timesteps=hp.steps_per_episode)\n",
    "decoder_initial_network = 'saved_runs/trajectory_curriculum101.py_noname__200012_1624129553_1/final_decoder.nwk'\n",
    "decoder = keras.models.load_model(decoder_initial_network)\n",
    "    #define dataset\n",
    "(images, labels), (images_test, labels_test) = keras.datasets.mnist.load_data(path=\"mnist.npz\")\n",
    "\n",
    "\n",
    "#fit one epoch in a  time\n",
    "# scheduler = Scheduler(hp.lambda_schedule)\n",
    "# for epoch in range(hp.num_epochs):\n",
    "#     lambda_epoch = scheduler.step(epoch)"
   ]
  },
  {
   "cell_type": "code",
   "execution_count": 4,
   "metadata": {},
   "outputs": [
    {
     "data": {
      "text/plain": [
       "True"
      ]
     },
     "execution_count": 4,
     "metadata": {},
     "output_type": "execute_result"
    }
   ],
   "source": [
    "hp.acceleration_mode"
   ]
  },
  {
   "cell_type": "code",
   "execution_count": 5,
   "metadata": {},
   "outputs": [
    {
     "name": "stdout",
     "output_type": "stream",
     "text": [
      "Are we random? 16\n",
      "evaluating trajectory   0\n",
      "55000/55000 [==============================] - 23s 412us/sample\n",
      "5000/5000 [==============================] - 2s 403us/sample\n",
      "accuracy: 0.7894\n",
      "Are we random? 19\n",
      "evaluating trajectory   1\n",
      "55000/55000 [==============================] - 22s 405us/sample\n",
      "5000/5000 [==============================] - 2s 392us/sample\n",
      "accuracy: 0.8456\n",
      "Are we random? 5\n",
      "evaluating trajectory   2\n",
      "55000/55000 [==============================] - 22s 403us/sample\n",
      "5000/5000 [==============================] - 2s 403us/sample\n",
      "accuracy: 0.8606\n",
      "Are we random? 9\n",
      "evaluating trajectory   3\n",
      "55000/55000 [==============================] - 22s 396us/sample\n",
      "5000/5000 [==============================] - 2s 396us/sample\n",
      "accuracy: 0.8654\n",
      "Are we random? 4\n",
      "evaluating trajectory   4\n",
      "55000/55000 [==============================] - 22s 395us/sample\n",
      "5000/5000 [==============================] - 2s 398us/sample\n",
      "accuracy: 0.8108\n",
      "Are we random? 10\n",
      "evaluating trajectory   5\n",
      "55000/55000 [==============================] - 22s 394us/sample\n",
      "5000/5000 [==============================] - 2s 395us/sample\n",
      "accuracy: 0.893\n",
      "Are we random? 19\n",
      "evaluating trajectory   6\n",
      "55000/55000 [==============================] - 21s 389us/sample\n",
      "5000/5000 [==============================] - 2s 392us/sample\n",
      "accuracy: 0.8592\n",
      "Are we random? 16\n",
      "evaluating trajectory   7\n",
      "55000/55000 [==============================] - 21s 388us/sample\n",
      "5000/5000 [==============================] - 2s 385us/sample\n",
      "accuracy: 0.8212\n",
      "Are we random? 3\n",
      "evaluating trajectory   8\n",
      "55000/55000 [==============================] - 22s 401us/sample\n",
      "5000/5000 [==============================] - 2s 434us/sample\n",
      "accuracy: 0.8566\n",
      "Are we random? 10\n",
      "evaluating trajectory   9\n",
      "55000/55000 [==============================] - 23s 416us/sample\n",
      "5000/5000 [==============================] - 2s 411us/sample\n",
      "accuracy: 0.8694\n",
      "Are we random? 3\n",
      "evaluating trajectory   10\n",
      "55000/55000 [==============================] - 23s 420us/sample\n",
      "5000/5000 [==============================] - 2s 415us/sample\n",
      "accuracy: 0.8248\n",
      "Are we random? 13\n",
      "evaluating trajectory   11\n",
      "55000/55000 [==============================] - 24s 430us/sample\n",
      "5000/5000 [==============================] - 2s 436us/sample\n",
      "accuracy: 0.8738\n",
      "Are we random? 11\n",
      "evaluating trajectory   12\n",
      "55000/55000 [==============================] - 23s 424us/sample\n",
      "5000/5000 [==============================] - 2s 441us/sample\n",
      "accuracy: 0.8484\n",
      "Are we random? 12\n",
      "evaluating trajectory   13\n",
      "55000/55000 [==============================] - 23s 420us/sample\n",
      "5000/5000 [==============================] - 2s 425us/sample\n",
      "accuracy: 0.894\n",
      "Are we random? 18\n",
      "evaluating trajectory   14\n",
      "55000/55000 [==============================] - 23s 415us/sample\n",
      "5000/5000 [==============================] - 2s 417us/sample\n",
      "accuracy: 0.8906\n",
      "Are we random? 6\n",
      "evaluating trajectory   15\n",
      "55000/55000 [==============================] - 23s 416us/sample\n",
      "5000/5000 [==============================] - 2s 420us/sample\n",
      "accuracy: 0.858\n",
      "Are we random? 12\n",
      "evaluating trajectory   16\n",
      "55000/55000 [==============================] - 23s 417us/sample\n",
      "5000/5000 [==============================] - 2s 422us/sample\n",
      "accuracy: 0.8664\n",
      "Are we random? 11\n",
      "evaluating trajectory   17\n",
      "55000/55000 [==============================] - 23s 412us/sample\n",
      "5000/5000 [==============================] - 2s 427us/sample\n",
      "accuracy: 0.892\n",
      "Are we random? 15\n",
      "evaluating trajectory   18\n",
      "55000/55000 [==============================] - 23s 420us/sample\n",
      "5000/5000 [==============================] - 2s 406us/sample\n",
      "accuracy: 0.8836\n",
      "Are we random? 8\n",
      "evaluating trajectory   19\n",
      "55000/55000 [==============================] - 23s 412us/sample\n",
      "5000/5000 [==============================] - 2s 420us/sample\n",
      "accuracy: 0.8756\n",
      "Are we random? 6\n",
      "evaluating trajectory   20\n",
      "55000/55000 [==============================] - 23s 416us/sample\n",
      "5000/5000 [==============================] - 2s 420us/sample\n",
      "accuracy: 0.865\n",
      "Are we random? 12\n",
      "evaluating trajectory   21\n",
      "55000/55000 [==============================] - 23s 426us/sample\n",
      "5000/5000 [==============================] - 2s 421us/sample\n",
      "accuracy: 0.8516\n",
      "Are we random? 18\n",
      "evaluating trajectory   22\n",
      "55000/55000 [==============================] - 23s 417us/sample\n",
      "5000/5000 [==============================] - 2s 415us/sample\n",
      "accuracy: 0.8028\n",
      "Are we random? 4\n",
      "evaluating trajectory   23\n",
      "55000/55000 [==============================] - 23s 414us/sample\n",
      "5000/5000 [==============================] - 2s 414us/sample\n",
      "accuracy: 0.8508\n",
      "Are we random? 14\n",
      "evaluating trajectory   24\n",
      "55000/55000 [==============================] - 23s 414us/sample\n",
      "5000/5000 [==============================] - 2s 420us/sample\n",
      "accuracy: 0.844\n",
      "Are we random? 7\n",
      "evaluating trajectory   25\n",
      "55000/55000 [==============================] - 21s 387us/sample\n",
      "5000/5000 [==============================] - 2s 400us/sample\n",
      "accuracy: 0.8312\n",
      "Are we random? 1\n",
      "evaluating trajectory   26\n",
      "55000/55000 [==============================] - 22s 407us/sample\n",
      "5000/5000 [==============================] - 2s 431us/sample\n",
      "accuracy: 0.8106\n",
      "Are we random? 4\n",
      "evaluating trajectory   27\n",
      "55000/55000 [==============================] - 23s 417us/sample\n",
      "5000/5000 [==============================] - 2s 427us/sample\n",
      "accuracy: 0.8508\n",
      "Are we random? 5\n",
      "evaluating trajectory   28\n",
      "55000/55000 [==============================] - 23s 413us/sample\n",
      "5000/5000 [==============================] - 2s 440us/sample\n",
      "accuracy: 0.8814\n",
      "Are we random? 10\n",
      "evaluating trajectory   29\n",
      "55000/55000 [==============================] - 23s 421us/sample\n",
      "5000/5000 [==============================] - 2s 394us/sample\n",
      "accuracy: 0.871\n",
      "Are we random? 10\n",
      "evaluating trajectory   30\n",
      "55000/55000 [==============================] - 23s 413us/sample\n",
      "5000/5000 [==============================] - 2s 426us/sample\n",
      "accuracy: 0.8462\n",
      "Are we random? 19\n",
      "evaluating trajectory   31\n",
      "55000/55000 [==============================] - 23s 416us/sample\n",
      "5000/5000 [==============================] - 2s 409us/sample\n",
      "accuracy: 0.8052\n",
      "Are we random? 13\n",
      "evaluating trajectory   32\n",
      "55000/55000 [==============================] - 23s 413us/sample\n",
      "5000/5000 [==============================] - 2s 412us/sample\n",
      "accuracy: 0.8072\n",
      "Are we random? 2\n",
      "evaluating trajectory   33\n",
      "55000/55000 [==============================] - 23s 413us/sample\n",
      "5000/5000 [==============================] - 2s 413us/sample\n",
      "accuracy: 0.8764\n",
      "Are we random? 2\n",
      "evaluating trajectory   34\n",
      "55000/55000 [==============================] - 23s 424us/sample\n",
      "5000/5000 [==============================] - 2s 417us/sample\n",
      "accuracy: 0.8556\n",
      "Are we random? 16\n",
      "evaluating trajectory   35\n",
      "55000/55000 [==============================] - 23s 410us/sample\n",
      "5000/5000 [==============================] - 2s 413us/sample\n",
      "accuracy: 0.788\n",
      "Are we random? 11\n",
      "evaluating trajectory   36\n",
      "55000/55000 [==============================] - 23s 412us/sample\n",
      "5000/5000 [==============================] - 2s 410us/sample\n",
      "accuracy: 0.8488\n",
      "Are we random? 14\n",
      "evaluating trajectory   37\n",
      "55000/55000 [==============================] - 23s 417us/sample\n",
      "5000/5000 [==============================] - 2s 418us/sample\n",
      "accuracy: 0.8454\n",
      "Are we random? 15\n",
      "evaluating trajectory   38\n",
      "55000/55000 [==============================] - 23s 412us/sample\n",
      "5000/5000 [==============================] - 2s 406us/sample\n",
      "accuracy: 0.8328\n",
      "Are we random? 5\n",
      "evaluating trajectory   39\n",
      "55000/55000 [==============================] - 23s 413us/sample\n",
      "5000/5000 [==============================] - 2s 386us/sample\n",
      "accuracy: 0.844\n",
      "Are we random? 7\n",
      "evaluating trajectory   40\n",
      "55000/55000 [==============================] - 21s 381us/sample\n",
      "5000/5000 [==============================] - 2s 385us/sample\n",
      "accuracy: 0.8824\n",
      "Are we random? 19\n",
      "evaluating trajectory   41\n",
      "55000/55000 [==============================] - 23s 413us/sample\n",
      "5000/5000 [==============================] - 2s 415us/sample\n",
      "accuracy: 0.8376\n",
      "Are we random? 12\n",
      "evaluating trajectory   42\n",
      "55000/55000 [==============================] - 23s 410us/sample\n",
      "5000/5000 [==============================] - 2s 405us/sample\n",
      "accuracy: 0.8178\n",
      "Are we random? 11\n",
      "evaluating trajectory   43\n",
      "55000/55000 [==============================] - 22s 406us/sample\n",
      "5000/5000 [==============================] - 2s 407us/sample\n",
      "accuracy: 0.8652\n",
      "Are we random? 4\n"
     ]
    },
    {
     "name": "stdout",
     "output_type": "stream",
     "text": [
      "evaluating trajectory   44\n",
      "55000/55000 [==============================] - 23s 414us/sample\n",
      "5000/5000 [==============================] - 2s 412us/sample\n",
      "accuracy: 0.8654\n",
      "Are we random? 18\n",
      "evaluating trajectory   45\n",
      "55000/55000 [==============================] - 23s 410us/sample\n",
      "5000/5000 [==============================] - 2s 419us/sample\n",
      "accuracy: 0.7956\n",
      "Are we random? 11\n",
      "evaluating trajectory   46\n",
      "55000/55000 [==============================] - 23s 411us/sample\n",
      "5000/5000 [==============================] - 2s 418us/sample\n",
      "accuracy: 0.7628\n",
      "Are we random? 10\n",
      "evaluating trajectory   47\n",
      "55000/55000 [==============================] - 23s 415us/sample\n",
      "5000/5000 [==============================] - 2s 382us/sample\n",
      "accuracy: 0.8\n",
      "Are we random? 4\n",
      "evaluating trajectory   48\n",
      "55000/55000 [==============================] - 21s 386us/sample\n",
      "5000/5000 [==============================] - 2s 391us/sample\n",
      "accuracy: 0.8468\n",
      "Are we random? 18\n",
      "evaluating trajectory   49\n",
      "55000/55000 [==============================] - 23s 415us/sample\n",
      "5000/5000 [==============================] - 2s 420us/sample\n",
      "accuracy: 0.8114\n",
      "Are we random? 13\n",
      "evaluating trajectory   50\n",
      "55000/55000 [==============================] - 23s 411us/sample\n",
      "5000/5000 [==============================] - 2s 415us/sample\n",
      "accuracy: 0.8492\n",
      "Are we random? 15\n",
      "evaluating trajectory   51\n",
      "55000/55000 [==============================] - 23s 411us/sample\n",
      "5000/5000 [==============================] - 2s 420us/sample\n",
      "accuracy: 0.82\n",
      "Are we random? 17\n",
      "evaluating trajectory   52\n",
      "55000/55000 [==============================] - 23s 413us/sample\n",
      "5000/5000 [==============================] - 2s 418us/sample\n",
      "accuracy: 0.8628\n",
      "Are we random? 16\n",
      "evaluating trajectory   53\n",
      "55000/55000 [==============================] - 23s 412us/sample\n",
      "5000/5000 [==============================] - 2s 418us/sample\n",
      "accuracy: 0.8684\n",
      "Are we random? 16\n",
      "evaluating trajectory   54\n",
      "55000/55000 [==============================] - 23s 411us/sample\n",
      "5000/5000 [==============================] - 2s 414us/sample\n",
      "accuracy: 0.8346\n",
      "Are we random? 3\n",
      "evaluating trajectory   55\n",
      "55000/55000 [==============================] - 23s 410us/sample\n",
      "5000/5000 [==============================] - 2s 419us/sample\n",
      "accuracy: 0.8564\n",
      "Are we random? 5\n",
      "evaluating trajectory   56\n",
      "55000/55000 [==============================] - 23s 414us/sample\n",
      "5000/5000 [==============================] - 2s 415us/sample\n",
      "accuracy: 0.8754\n",
      "Are we random? 10\n",
      "evaluating trajectory   57\n",
      "55000/55000 [==============================] - 23s 412us/sample\n",
      "5000/5000 [==============================] - 2s 419us/sample\n",
      "accuracy: 0.8342\n",
      "Are we random? 1\n",
      "evaluating trajectory   58\n",
      "55000/55000 [==============================] - 23s 413us/sample\n",
      "5000/5000 [==============================] - 2s 450us/sample\n",
      "accuracy: 0.8656\n",
      "Are we random? 6\n",
      "evaluating trajectory   59\n",
      "55000/55000 [==============================] - 23s 415us/sample\n",
      "5000/5000 [==============================] - 2s 421us/sample\n",
      "accuracy: 0.788\n",
      "Are we random? 17\n",
      "evaluating trajectory   60\n",
      "55000/55000 [==============================] - 23s 414us/sample\n",
      "5000/5000 [==============================] - 2s 416us/sample\n",
      "accuracy: 0.8348\n",
      "Are we random? 2\n",
      "evaluating trajectory   61\n",
      "55000/55000 [==============================] - 23s 411us/sample\n",
      "5000/5000 [==============================] - 2s 414us/sample\n",
      "accuracy: 0.793\n",
      "Are we random? 8\n",
      "evaluating trajectory   62\n",
      "55000/55000 [==============================] - 23s 411us/sample\n",
      "5000/5000 [==============================] - 2s 416us/sample\n",
      "accuracy: 0.8464\n",
      "Are we random? 17\n",
      "evaluating trajectory   63\n",
      "55000/55000 [==============================] - 23s 412us/sample\n",
      "5000/5000 [==============================] - 2s 413us/sample\n",
      "accuracy: 0.8762\n",
      "Are we random? 12\n",
      "evaluating trajectory   64\n",
      "55000/55000 [==============================] - 23s 411us/sample\n",
      "5000/5000 [==============================] - 2s 415us/sample\n",
      "accuracy: 0.8952\n",
      "Are we random? 18\n",
      "evaluating trajectory   65\n",
      "55000/55000 [==============================] - 23s 412us/sample\n",
      "5000/5000 [==============================] - 2s 418us/sample\n",
      "accuracy: 0.8348\n",
      "Are we random? 2\n",
      "evaluating trajectory   66\n",
      "55000/55000 [==============================] - 23s 410us/sample\n",
      "5000/5000 [==============================] - 2s 417us/sample\n",
      "accuracy: 0.8648\n",
      "Are we random? 19\n",
      "evaluating trajectory   67\n",
      "55000/55000 [==============================] - 23s 413us/sample\n",
      "5000/5000 [==============================] - 2s 411us/sample\n",
      "accuracy: 0.8658\n",
      "Are we random? 17\n",
      "evaluating trajectory   68\n",
      "55000/55000 [==============================] - 23s 412us/sample\n",
      "5000/5000 [==============================] - 2s 409us/sample\n",
      "accuracy: 0.8664\n",
      "Are we random? 12\n",
      "evaluating trajectory   69\n",
      "55000/55000 [==============================] - 23s 410us/sample\n",
      "5000/5000 [==============================] - 2s 413us/sample\n",
      "accuracy: 0.8694\n",
      "Are we random? 9\n",
      "evaluating trajectory   70\n",
      "55000/55000 [==============================] - 23s 411us/sample\n",
      "5000/5000 [==============================] - 2s 413us/sample\n",
      "accuracy: 0.8516\n",
      "Are we random? 3\n",
      "evaluating trajectory   71\n",
      "55000/55000 [==============================] - 22s 407us/sample\n",
      "5000/5000 [==============================] - 2s 415us/sample\n",
      "accuracy: 0.8716\n",
      "Are we random? 5\n",
      "evaluating trajectory   72\n",
      "55000/55000 [==============================] - 22s 409us/sample\n",
      "5000/5000 [==============================] - 2s 414us/sample\n",
      "accuracy: 0.8384\n",
      "Are we random? 3\n",
      "evaluating trajectory   73\n",
      "55000/55000 [==============================] - 22s 407us/sample\n",
      "5000/5000 [==============================] - 2s 416us/sample\n",
      "accuracy: 0.8708\n",
      "Are we random? 1\n",
      "evaluating trajectory   74\n",
      "55000/55000 [==============================] - 22s 408us/sample\n",
      "5000/5000 [==============================] - 2s 416us/sample\n",
      "accuracy: 0.8682\n",
      "Are we random? 5\n",
      "evaluating trajectory   75\n",
      "55000/55000 [==============================] - 22s 408us/sample\n",
      "5000/5000 [==============================] - 2s 409us/sample\n",
      "accuracy: 0.8\n",
      "Are we random? 11\n",
      "evaluating trajectory   76\n",
      "55000/55000 [==============================] - 22s 406us/sample\n",
      "5000/5000 [==============================] - 2s 413us/sample\n",
      "accuracy: 0.8532\n",
      "Are we random? 6\n",
      "evaluating trajectory   77\n",
      "55000/55000 [==============================] - 22s 407us/sample\n",
      "5000/5000 [==============================] - 2s 415us/sample\n",
      "accuracy: 0.8366\n",
      "Are we random? 18\n",
      "evaluating trajectory   78\n",
      "55000/55000 [==============================] - 23s 409us/sample\n",
      "5000/5000 [==============================] - 2s 414us/sample\n",
      "accuracy: 0.7844\n",
      "Are we random? 5\n",
      "evaluating trajectory   79\n",
      "55000/55000 [==============================] - 23s 409us/sample\n",
      "5000/5000 [==============================] - 2s 416us/sample\n",
      "accuracy: 0.8414\n",
      "Are we random? 12\n",
      "evaluating trajectory   80\n",
      "55000/55000 [==============================] - 22s 406us/sample\n",
      "5000/5000 [==============================] - 2s 417us/sample\n",
      "accuracy: 0.8788\n",
      "Are we random? 8\n",
      "evaluating trajectory   81\n",
      "55000/55000 [==============================] - 22s 409us/sample\n",
      "5000/5000 [==============================] - 2s 413us/sample\n",
      "accuracy: 0.8746\n",
      "Are we random? 4\n",
      "evaluating trajectory   82\n",
      "55000/55000 [==============================] - 22s 406us/sample\n",
      "5000/5000 [==============================] - 2s 409us/sample\n",
      "accuracy: 0.8354\n",
      "Are we random? 6\n",
      "evaluating trajectory   83\n",
      "55000/55000 [==============================] - 22s 406us/sample\n",
      "5000/5000 [==============================] - 2s 413us/sample\n",
      "accuracy: 0.8858\n",
      "Are we random? 16\n",
      "evaluating trajectory   84\n",
      "55000/55000 [==============================] - 22s 407us/sample\n",
      "5000/5000 [==============================] - 2s 410us/sample\n",
      "accuracy: 0.862\n",
      "Are we random? 15\n",
      "evaluating trajectory   85\n",
      "55000/55000 [==============================] - 22s 407us/sample\n",
      "5000/5000 [==============================] - 2s 412us/sample\n",
      "accuracy: 0.8482\n",
      "Are we random? 19\n",
      "evaluating trajectory   86\n",
      "55000/55000 [==============================] - 22s 407us/sample\n",
      "5000/5000 [==============================] - 2s 419us/sample\n",
      "accuracy: 0.8712\n",
      "Are we random? 19\n",
      "evaluating trajectory   87\n",
      "55000/55000 [==============================] - 22s 407us/sample\n",
      "5000/5000 [==============================] - 2s 413us/sample\n",
      "accuracy: 0.6962\n",
      "Are we random? 5\n"
     ]
    },
    {
     "name": "stdout",
     "output_type": "stream",
     "text": [
      "evaluating trajectory   88\n",
      "55000/55000 [==============================] - 22s 406us/sample\n",
      "5000/5000 [==============================] - 2s 413us/sample\n",
      "accuracy: 0.79\n",
      "Are we random? 17\n",
      "evaluating trajectory   89\n",
      "55000/55000 [==============================] - 22s 406us/sample\n",
      "5000/5000 [==============================] - 2s 408us/sample\n",
      "accuracy: 0.8242\n",
      "Are we random? 11\n",
      "evaluating trajectory   90\n",
      "55000/55000 [==============================] - 22s 406us/sample\n",
      "5000/5000 [==============================] - 2s 412us/sample\n",
      "accuracy: 0.8368\n",
      "Are we random? 4\n",
      "evaluating trajectory   91\n",
      "55000/55000 [==============================] - 22s 407us/sample\n",
      "5000/5000 [==============================] - 2s 415us/sample\n",
      "accuracy: 0.8696\n",
      "Are we random? 6\n",
      "evaluating trajectory   92\n",
      "55000/55000 [==============================] - 22s 407us/sample\n",
      "5000/5000 [==============================] - 2s 410us/sample\n",
      "accuracy: 0.8628\n",
      "Are we random? 1\n",
      "evaluating trajectory   93\n",
      "55000/55000 [==============================] - 22s 408us/sample\n",
      "5000/5000 [==============================] - 2s 411us/sample\n",
      "accuracy: 0.6566\n",
      "Are we random? 4\n",
      "evaluating trajectory   94\n",
      "55000/55000 [==============================] - 22s 409us/sample\n",
      "5000/5000 [==============================] - 2s 407us/sample\n",
      "accuracy: 0.8286\n",
      "Are we random? 16\n",
      "evaluating trajectory   95\n",
      "55000/55000 [==============================] - 22s 406us/sample\n",
      "5000/5000 [==============================] - 2s 409us/sample\n",
      "accuracy: 0.7714\n",
      "Are we random? 3\n",
      "evaluating trajectory   96\n",
      "55000/55000 [==============================] - 22s 407us/sample\n",
      "5000/5000 [==============================] - 2s 411us/sample\n",
      "accuracy: 0.821\n",
      "Are we random? 19\n",
      "evaluating trajectory   97\n",
      "55000/55000 [==============================] - 22s 407us/sample\n",
      "5000/5000 [==============================] - 2s 415us/sample\n",
      "accuracy: 0.8446\n",
      "Are we random? 4\n",
      "evaluating trajectory   98\n",
      "55000/55000 [==============================] - 22s 409us/sample\n",
      "5000/5000 [==============================] - 2s 413us/sample\n",
      "accuracy: 0.8396\n",
      "Are we random? 10\n",
      "evaluating trajectory   99\n",
      "55000/55000 [==============================] - 22s 408us/sample\n",
      "5000/5000 [==============================] - 2s 415us/sample\n",
      "accuracy: 0.794\n"
     ]
    }
   ],
   "source": [
    "alpha=0\n",
    "hp.num_trials = 100\n",
    "trajectories = []\n",
    "train_pred_pred = []\n",
    "val_pred_pred = []\n",
    "for trial in range(hp.num_trials):\n",
    "    this_trajectory=generate_trajectory(hp.steps_per_episode,[72,72],hp.acceleration_mode)\n",
    "#     this_trajectory=trajectories[trial]\n",
    "    train_dataset, test_dataset = create_mnist_dataset(images, labels, 6, sample=hp.steps_per_episode, bad_res_func=bad_res102,\n",
    "                                                           return_datasets=True, q_0=this_trajectory, alpha=0.0,\n",
    "                                                           random_trajectories=True,acceleration_mode=hp.acceleration_mode)\n",
    "    train_dataset_x, train_dataset_y = split_dataset_xy(train_dataset)\n",
    "    test_dataset_x, test_dataset_y = split_dataset_xy(test_dataset)\n",
    "    q_prime = train_dataset_x[1][0]\n",
    "#     print('epoch', epoch, '  CONTROL!!!',' first q --', q_prime.reshape([-1]))\n",
    "\n",
    "    print(\"evaluating trajectory  \", trial)\n",
    "    train_preds = decoder.predict(\n",
    "        train_dataset_x,\n",
    "        batch_size=64,\n",
    "        verbose=hp.fit_verbose,\n",
    "        # We pass some validation for\n",
    "        # monitoring validation loss and metrics\n",
    "        # at the end of each epoch\n",
    "        )\n",
    "    val_preds = decoder.predict(\n",
    "        test_dataset_x,\n",
    "        batch_size=64,\n",
    "        verbose=hp.fit_verbose,\n",
    "        # We pass some validation for\n",
    "        # monitoring validation loss and metrics\n",
    "        # at the end of each epoch\n",
    "        )\n",
    "    accuracy =  np.mean(np.argmax(val_preds, axis=1)==test_dataset_y)\n",
    "    print('accuracy:', accuracy)\n",
    "    trajectories.append(this_trajectory+0.)\n",
    "    train_pred_pred.append(train_preds+0.0)\n",
    "    val_pred_pred.append(val_preds+0.0)"
   ]
  },
  {
   "cell_type": "code",
   "execution_count": 7,
   "metadata": {},
   "outputs": [
    {
     "ename": "NameError",
     "evalue": "name 'preds' is not defined",
     "output_type": "error",
     "traceback": [
      "\u001b[0;31m---------------------------------------------------------------------------\u001b[0m",
      "\u001b[0;31mNameError\u001b[0m                                 Traceback (most recent call last)",
      "\u001b[0;32m<ipython-input-7-7a5e85ffecd4>\u001b[0m in \u001b[0;36m<module>\u001b[0;34m\u001b[0m\n\u001b[0;32m----> 1\u001b[0;31m \u001b[0maccuracy\u001b[0m \u001b[0;34m=\u001b[0m  \u001b[0mnp\u001b[0m\u001b[0;34m.\u001b[0m\u001b[0mmean\u001b[0m\u001b[0;34m(\u001b[0m\u001b[0mnp\u001b[0m\u001b[0;34m.\u001b[0m\u001b[0margmax\u001b[0m\u001b[0;34m(\u001b[0m\u001b[0mpreds\u001b[0m\u001b[0;34m,\u001b[0m \u001b[0maxis\u001b[0m\u001b[0;34m=\u001b[0m\u001b[0;36m1\u001b[0m\u001b[0;34m)\u001b[0m\u001b[0;34m==\u001b[0m\u001b[0mtest_dataset_y\u001b[0m\u001b[0;34m)\u001b[0m\u001b[0;34m\u001b[0m\u001b[0m\n\u001b[0m",
      "\u001b[0;31mNameError\u001b[0m: name 'preds' is not defined"
     ]
    }
   ],
   "source": [
    "accuracy =  np.mean(np.argmax(preds, axis=1)==test_dataset_y)"
   ]
  },
  {
   "cell_type": "code",
   "execution_count": 8,
   "metadata": {},
   "outputs": [
    {
     "data": {
      "text/plain": [
       "0.794"
      ]
     },
     "execution_count": 8,
     "metadata": {},
     "output_type": "execute_result"
    }
   ],
   "source": [
    "accuracy"
   ]
  },
  {
   "cell_type": "code",
   "execution_count": 10,
   "metadata": {},
   "outputs": [],
   "source": [
    "ent = np.zeros([np.shape(test_dataset_y)[0],hp.num_trials])\n",
    "lablab = np.zeros([np.shape(test_dataset_y)[0],hp.num_trials])\n",
    "for jj,preds in enumerate(val_pred_pred):\n",
    "    ent[:,jj]=np.sum(-preds*np.log(preds),axis=1)\n",
    "    lablab[:,jj]=np.argmax(preds, axis=1)"
   ]
  },
  {
   "cell_type": "code",
   "execution_count": 50,
   "metadata": {},
   "outputs": [],
   "source": [
    "ii=np.argmin(ent,axis=1)"
   ]
  },
  {
   "cell_type": "code",
   "execution_count": 71,
   "metadata": {},
   "outputs": [],
   "source": [
    "best_lbl=[]\n",
    "for jj,uu in enumerate(ii):\n",
    "    best_lbl.append(lablab[jj,uu])\n"
   ]
  },
  {
   "cell_type": "code",
   "execution_count": 73,
   "metadata": {},
   "outputs": [
    {
     "data": {
      "text/plain": [
       "0.9106"
      ]
     },
     "execution_count": 73,
     "metadata": {},
     "output_type": "execute_result"
    }
   ],
   "source": [
    "np.mean(best_lbl==test_dataset_y)"
   ]
  },
  {
   "cell_type": "code",
   "execution_count": 58,
   "metadata": {},
   "outputs": [
    {
     "data": {
      "text/plain": [
       "0.8463933333333333"
      ]
     },
     "execution_count": 58,
     "metadata": {},
     "output_type": "execute_result"
    }
   ],
   "source": [
    "np.mean(lablab==test_dataset_y.reshape([-1,1]))"
   ]
  },
  {
   "cell_type": "code",
   "execution_count": 60,
   "metadata": {},
   "outputs": [
    {
     "data": {
      "text/plain": [
       "array([0.8198, 0.8732, 0.8654, 0.8316, 0.8712, 0.8718, 0.8754, 0.8258,\n",
       "       0.8574, 0.8618, 0.8706, 0.8418, 0.85  , 0.8206, 0.8236, 0.8408,\n",
       "       0.7978, 0.8508, 0.8704, 0.8428, 0.793 , 0.8672, 0.8152, 0.84  ,\n",
       "       0.8158, 0.8992, 0.8418, 0.8696, 0.8614, 0.826 ])"
      ]
     },
     "execution_count": 60,
     "metadata": {},
     "output_type": "execute_result"
    }
   ],
   "source": [
    "np.mean(lablab==test_dataset_y.reshape([-1,1]),axis=0)"
   ]
  },
  {
   "cell_type": "code",
   "execution_count": 63,
   "metadata": {},
   "outputs": [],
   "source": [
    "best_ii=np.argmax(np.mean(lablab==test_dataset_y.reshape([-1,1]),axis=0))"
   ]
  },
  {
   "cell_type": "code",
   "execution_count": 65,
   "metadata": {},
   "outputs": [
    {
     "data": {
      "text/plain": [
       "0.0772"
      ]
     },
     "execution_count": 65,
     "metadata": {},
     "output_type": "execute_result"
    }
   ],
   "source": [
    "np.mean(ii==best_ii)"
   ]
  },
  {
   "cell_type": "code",
   "execution_count": 70,
   "metadata": {},
   "outputs": [
    {
     "data": {
      "text/plain": [
       "0.9932"
      ]
     },
     "execution_count": 70,
     "metadata": {},
     "output_type": "execute_result"
    }
   ],
   "source": [
    "np.mean(np.any(lablab==test_dataset_y.reshape([-1,1]),axis=1))"
   ]
  },
  {
   "cell_type": "code",
   "execution_count": 74,
   "metadata": {},
   "outputs": [],
   "source": [
    "best_ent=np.min(ent,axis=1)"
   ]
  },
  {
   "cell_type": "code",
   "execution_count": 77,
   "metadata": {},
   "outputs": [
    {
     "data": {
      "text/plain": [
       "(array([3.054e+03, 7.410e+02, 3.950e+02, 2.450e+02, 1.690e+02, 1.170e+02,\n",
       "        9.000e+01, 6.600e+01, 3.500e+01, 3.100e+01, 2.000e+01, 1.300e+01,\n",
       "        1.200e+01, 5.000e+00, 0.000e+00, 2.000e+00, 2.000e+00, 1.000e+00,\n",
       "        0.000e+00, 2.000e+00]),\n",
       " array([0.0018796 , 0.05121257, 0.10054555, 0.14987852, 0.19921149,\n",
       "        0.24854446, 0.29787743, 0.34721041, 0.39654338, 0.44587635,\n",
       "        0.49520932, 0.54454229, 0.59387527, 0.64320824, 0.69254121,\n",
       "        0.74187418, 0.79120715, 0.84054012, 0.8898731 , 0.93920607,\n",
       "        0.98853904]),\n",
       " <a list of 20 Patch objects>)"
      ]
     },
     "execution_count": 77,
     "metadata": {},
     "output_type": "execute_result"
    },
    {
     "data": {
      "image/png": "[encoded data removed]",
      "text/plain": [
       "<Figure size 432x288 with 1 Axes>"
      ]
     },
     "metadata": {
      "needs_background": "light"
     },
     "output_type": "display_data"
    }
   ],
   "source": [
    "_=plt.hist(best_ent,bins=20)"
   ]
  },
  {
   "cell_type": "code",
   "execution_count": 78,
   "metadata": {},
   "outputs": [
    {
     "data": {
      "image/png": "[encoded data removed]",
      "text/plain": [
       "<Figure size 432x288 with 1 Axes>"
      ]
     },
     "metadata": {
      "needs_background": "light"
     },
     "output_type": "display_data"
    }
   ],
   "source": [
    "_=plt.hist(best_ent[best_lbl!=test_dataset_y],bins=20)"
   ]
  },
  {
   "cell_type": "code",
   "execution_count": 79,
   "metadata": {},
   "outputs": [
    {
     "data": {
      "image/png": "[encoded data removed]",
      "text/plain": [
       "<Figure size 432x288 with 1 Axes>"
      ]
     },
     "metadata": {
      "needs_background": "light"
     },
     "output_type": "display_data"
    }
   ],
   "source": [
    "_=plt.hist(best_ent[best_lbl==test_dataset_y],bins=20)"
   ]
  },
  {
   "cell_type": "code",
   "execution_count": 85,
   "metadata": {},
   "outputs": [],
   "source": [
    "super_pred=np.sum(pred_pred,axis=0)"
   ]
  },
  {
   "cell_type": "code",
   "execution_count": 86,
   "metadata": {},
   "outputs": [],
   "source": [
    "super_label=np.argmax(super_pred,axis=1)"
   ]
  },
  {
   "cell_type": "code",
   "execution_count": 87,
   "metadata": {},
   "outputs": [
    {
     "data": {
      "text/plain": [
       "0.942"
      ]
     },
     "execution_count": 87,
     "metadata": {},
     "output_type": "execute_result"
    }
   ],
   "source": [
    "np.mean(super_label==test_dataset_y)"
   ]
  },
  {
   "cell_type": "code",
   "execution_count": 84,
   "metadata": {},
   "outputs": [
    {
     "data": {
      "text/plain": [
       "(30,)"
      ]
     },
     "execution_count": 84,
     "metadata": {},
     "output_type": "execute_result"
    }
   ],
   "source": [
    "super_label.shape"
   ]
  },
  {
   "cell_type": "code",
   "execution_count": 88,
   "metadata": {},
   "outputs": [],
   "source": [
    "with open('committee103_traj_30.pkl','wb') as f:\n",
    "    pickle.dump(trajectories,f)"
   ]
  },
  {
   "cell_type": "code",
   "execution_count": 90,
   "metadata": {},
   "outputs": [
    {
     "data": {
      "text/plain": [
       "[array([[36., 36.],\n",
       "        [36., 36.],\n",
       "        [36., 36.],\n",
       "        [35., 35.],\n",
       "        [35., 34.],\n",
       "        [34., 34.],\n",
       "        [34., 35.],\n",
       "        [33., 37.],\n",
       "        [31., 38.]]), array([[36., 36.],\n",
       "        [37., 37.],\n",
       "        [39., 39.],\n",
       "        [41., 40.],\n",
       "        [43., 40.],\n",
       "        [46., 40.],\n",
       "        [49., 39.],\n",
       "        [53., 38.],\n",
       "        [58., 37.]]), array([[36., 36.],\n",
       "        [35., 36.],\n",
       "        [33., 35.],\n",
       "        [30., 34.],\n",
       "        [28., 32.],\n",
       "        [25., 30.],\n",
       "        [21., 29.],\n",
       "        [18., 27.],\n",
       "        [15., 24.]]), array([[36., 36.],\n",
       "        [35., 35.],\n",
       "        [35., 34.],\n",
       "        [36., 32.],\n",
       "        [38., 29.],\n",
       "        [40., 25.],\n",
       "        [43., 21.],\n",
       "        [47., 18.],\n",
       "        [50., 15.]]), array([[36., 36.],\n",
       "        [36., 37.],\n",
       "        [37., 39.],\n",
       "        [38., 41.],\n",
       "        [39., 44.],\n",
       "        [40., 46.],\n",
       "        [40., 48.],\n",
       "        [39., 50.],\n",
       "        [39., 51.]]), array([[36., 36.],\n",
       "        [35., 37.],\n",
       "        [33., 38.],\n",
       "        [31., 38.],\n",
       "        [30., 38.],\n",
       "        [30., 38.],\n",
       "        [31., 39.],\n",
       "        [31., 40.],\n",
       "        [30., 41.]]), array([[36., 36.],\n",
       "        [36., 35.],\n",
       "        [37., 35.],\n",
       "        [39., 36.],\n",
       "        [41., 38.],\n",
       "        [43., 40.],\n",
       "        [45., 42.],\n",
       "        [46., 44.],\n",
       "        [47., 45.]]), array([[36., 36.],\n",
       "        [36., 36.],\n",
       "        [37., 37.],\n",
       "        [39., 38.],\n",
       "        [41., 40.],\n",
       "        [43., 43.],\n",
       "        [45., 46.],\n",
       "        [46., 49.],\n",
       "        [47., 52.]]), array([[36., 36.],\n",
       "        [35., 37.],\n",
       "        [35., 39.],\n",
       "        [34., 40.],\n",
       "        [33., 42.],\n",
       "        [31., 43.],\n",
       "        [28., 43.],\n",
       "        [24., 44.],\n",
       "        [21., 46.]]), array([[36., 36.],\n",
       "        [36., 37.],\n",
       "        [35., 38.],\n",
       "        [33., 38.],\n",
       "        [31., 37.],\n",
       "        [29., 37.],\n",
       "        [26., 38.],\n",
       "        [24., 40.],\n",
       "        [22., 41.]]), array([[36., 36.],\n",
       "        [35., 35.],\n",
       "        [33., 35.],\n",
       "        [32., 36.],\n",
       "        [31., 37.],\n",
       "        [29., 38.],\n",
       "        [28., 40.],\n",
       "        [27., 43.],\n",
       "        [27., 47.]]), array([[36., 36.],\n",
       "        [35., 37.],\n",
       "        [35., 39.],\n",
       "        [36., 42.],\n",
       "        [38., 44.],\n",
       "        [41., 47.],\n",
       "        [45., 51.],\n",
       "        [48., 54.],\n",
       "        [51., 56.]]), array([[36., 36.],\n",
       "        [36., 36.],\n",
       "        [37., 37.],\n",
       "        [38., 37.],\n",
       "        [39., 36.],\n",
       "        [39., 35.],\n",
       "        [39., 33.],\n",
       "        [38., 32.],\n",
       "        [37., 30.]]), array([[36., 36.],\n",
       "        [37., 35.],\n",
       "        [37., 34.],\n",
       "        [37., 34.],\n",
       "        [37., 35.],\n",
       "        [38., 36.],\n",
       "        [40., 37.],\n",
       "        [43., 37.],\n",
       "        [47., 36.]]), array([[36., 36.],\n",
       "        [36., 37.],\n",
       "        [35., 39.],\n",
       "        [34., 42.],\n",
       "        [33., 46.],\n",
       "        [33., 49.],\n",
       "        [34., 53.],\n",
       "        [35., 58.],\n",
       "        [35., 63.]]), array([[36., 36.],\n",
       "        [37., 35.],\n",
       "        [37., 33.],\n",
       "        [37., 30.],\n",
       "        [36., 26.],\n",
       "        [34., 22.],\n",
       "        [33., 19.],\n",
       "        [32., 15.],\n",
       "        [32., 11.]]), array([[36., 36.],\n",
       "        [35., 36.],\n",
       "        [35., 36.],\n",
       "        [36., 37.],\n",
       "        [36., 38.],\n",
       "        [35., 38.],\n",
       "        [35., 38.],\n",
       "        [35., 39.],\n",
       "        [36., 41.]]), array([[36., 36.],\n",
       "        [37., 35.],\n",
       "        [39., 33.],\n",
       "        [41., 32.],\n",
       "        [43., 32.],\n",
       "        [44., 33.],\n",
       "        [44., 35.],\n",
       "        [43., 37.],\n",
       "        [43., 40.]]), array([[36., 36.],\n",
       "        [35., 36.],\n",
       "        [34., 37.],\n",
       "        [34., 38.],\n",
       "        [35., 40.],\n",
       "        [37., 42.],\n",
       "        [39., 43.],\n",
       "        [40., 44.],\n",
       "        [41., 46.]]), array([[36., 36.],\n",
       "        [35., 37.],\n",
       "        [34., 39.],\n",
       "        [34., 41.],\n",
       "        [35., 43.],\n",
       "        [37., 45.],\n",
       "        [39., 48.],\n",
       "        [41., 51.],\n",
       "        [44., 53.]]), array([[36., 36.],\n",
       "        [37., 35.],\n",
       "        [38., 35.],\n",
       "        [39., 35.],\n",
       "        [40., 34.],\n",
       "        [40., 33.],\n",
       "        [40., 33.],\n",
       "        [40., 33.],\n",
       "        [41., 34.]]), array([[36., 36.],\n",
       "        [35., 35.],\n",
       "        [35., 35.],\n",
       "        [35., 34.],\n",
       "        [36., 34.],\n",
       "        [37., 33.],\n",
       "        [39., 32.],\n",
       "        [41., 32.],\n",
       "        [43., 31.]]), array([[36., 36.],\n",
       "        [35., 35.],\n",
       "        [33., 34.],\n",
       "        [32., 33.],\n",
       "        [30., 33.],\n",
       "        [27., 34.],\n",
       "        [25., 34.],\n",
       "        [24., 33.],\n",
       "        [24., 31.]]), array([[36., 36.],\n",
       "        [35., 35.],\n",
       "        [34., 33.],\n",
       "        [34., 32.],\n",
       "        [35., 30.],\n",
       "        [37., 28.],\n",
       "        [39., 26.],\n",
       "        [42., 23.],\n",
       "        [46., 21.]]), array([[36., 36.],\n",
       "        [35., 37.],\n",
       "        [35., 38.],\n",
       "        [35., 38.],\n",
       "        [35., 39.],\n",
       "        [35., 41.],\n",
       "        [35., 43.],\n",
       "        [36., 46.],\n",
       "        [36., 48.]]), array([[36., 36.],\n",
       "        [37., 35.],\n",
       "        [37., 34.],\n",
       "        [38., 32.],\n",
       "        [40., 31.],\n",
       "        [42., 30.],\n",
       "        [43., 29.],\n",
       "        [44., 28.],\n",
       "        [46., 27.]]), array([[36., 36.],\n",
       "        [37., 37.],\n",
       "        [37., 39.],\n",
       "        [38., 41.],\n",
       "        [39., 42.],\n",
       "        [41., 44.],\n",
       "        [44., 45.],\n",
       "        [46., 47.],\n",
       "        [47., 50.]]), array([[36., 36.],\n",
       "        [37., 37.],\n",
       "        [37., 39.],\n",
       "        [36., 40.],\n",
       "        [35., 40.],\n",
       "        [33., 39.],\n",
       "        [32., 37.],\n",
       "        [32., 34.],\n",
       "        [33., 30.]]), array([[36., 36.],\n",
       "        [37., 37.],\n",
       "        [38., 39.],\n",
       "        [38., 42.],\n",
       "        [39., 45.],\n",
       "        [40., 49.],\n",
       "        [42., 53.],\n",
       "        [44., 57.],\n",
       "        [46., 60.]]), array([[36., 36.],\n",
       "        [36., 36.],\n",
       "        [37., 36.],\n",
       "        [37., 35.],\n",
       "        [37., 33.],\n",
       "        [36., 31.],\n",
       "        [36., 28.],\n",
       "        [35., 24.],\n",
       "        [34., 19.]])]"
      ]
     },
     "execution_count": 90,
     "metadata": {},
     "output_type": "execute_result"
    }
   ],
   "source": [
    "trajectories"
   ]
  },
  {
   "cell_type": "code",
   "execution_count": 92,
   "metadata": {},
   "outputs": [
    {
     "data": {
      "text/plain": [
       "array([[36., 36.],\n",
       "       [37., 35.],\n",
       "       [37., 34.],\n",
       "       [38., 32.],\n",
       "       [40., 31.],\n",
       "       [42., 30.],\n",
       "       [43., 29.],\n",
       "       [44., 28.],\n",
       "       [46., 27.]])"
      ]
     },
     "execution_count": 92,
     "metadata": {},
     "output_type": "execute_result"
    }
   ],
   "source": [
    "trajectories[25]"
   ]
  },
  {
   "cell_type": "code",
   "execution_count": 15,
   "metadata": {},
   "outputs": [],
   "source": [
    "def super_pred_fun(pred,T=1):\n",
    "    logits = np.log(pred)\n",
    "    pred_T = np.exp(1./T*logits)\n",
    "    pred_T = pred_T/np.sum(pred_T,axis=-1)[...,np.newaxis]\n",
    "    super_pred=np.sum(pred_T,axis=0)\n",
    "    return super_pred"
   ]
  },
  {
   "cell_type": "code",
   "execution_count": null,
   "metadata": {},
   "outputs": [],
   "source": []
  },
  {
   "cell_type": "code",
   "execution_count": 16,
   "metadata": {},
   "outputs": [],
   "source": [
    "super_pred = super_pred_fun(train_pred_pred)"
   ]
  },
  {
   "cell_type": "code",
   "execution_count": 17,
   "metadata": {},
   "outputs": [
    {
     "name": "stdout",
     "output_type": "stream",
     "text": [
      "0.9458\n"
     ]
    }
   ],
   "source": [
    "super_pred = super_pred_fun(val_pred_pred,T=1000)\n",
    "super_label=np.argmax(super_pred,axis=1)\n",
    "print(np.mean(super_label==test_dataset_y))"
   ]
  },
  {
   "cell_type": "code",
   "execution_count": 109,
   "metadata": {
    "collapsed": true
   },
   "outputs": [
    {
     "data": {
      "text/plain": [
       "array([0.1       , 0.14949495, 0.1989899 , 0.24848485, 0.2979798 ,\n",
       "       0.34747475, 0.3969697 , 0.44646465, 0.4959596 , 0.54545455,\n",
       "       0.59494949, 0.64444444, 0.69393939, 0.74343434, 0.79292929,\n",
       "       0.84242424, 0.89191919, 0.94141414, 0.99090909, 1.04040404,\n",
       "       1.08989899, 1.13939394, 1.18888889, 1.23838384, 1.28787879,\n",
       "       1.33737374, 1.38686869, 1.43636364, 1.48585859, 1.53535354,\n",
       "       1.58484848, 1.63434343, 1.68383838, 1.73333333, 1.78282828,\n",
       "       1.83232323, 1.88181818, 1.93131313, 1.98080808, 2.03030303,\n",
       "       2.07979798, 2.12929293, 2.17878788, 2.22828283, 2.27777778,\n",
       "       2.32727273, 2.37676768, 2.42626263, 2.47575758, 2.52525253,\n",
       "       2.57474747, 2.62424242, 2.67373737, 2.72323232, 2.77272727,\n",
       "       2.82222222, 2.87171717, 2.92121212, 2.97070707, 3.02020202,\n",
       "       3.06969697, 3.11919192, 3.16868687, 3.21818182, 3.26767677,\n",
       "       3.31717172, 3.36666667, 3.41616162, 3.46565657, 3.51515152,\n",
       "       3.56464646, 3.61414141, 3.66363636, 3.71313131, 3.76262626,\n",
       "       3.81212121, 3.86161616, 3.91111111, 3.96060606, 4.01010101,\n",
       "       4.05959596, 4.10909091, 4.15858586, 4.20808081, 4.25757576,\n",
       "       4.30707071, 4.35656566, 4.40606061, 4.45555556, 4.50505051,\n",
       "       4.55454545, 4.6040404 , 4.65353535, 4.7030303 , 4.75252525,\n",
       "       4.8020202 , 4.85151515, 4.9010101 , 4.95050505, 5.        ])"
      ]
     },
     "execution_count": 109,
     "metadata": {},
     "output_type": "execute_result"
    }
   ],
   "source": [
    "np.linspace(0.1,5.0,100)"
   ]
  },
  {
   "cell_type": "code",
   "execution_count": 18,
   "metadata": {},
   "outputs": [
    {
     "name": "stdout",
     "output_type": "stream",
     "text": [
      "0.9426\n"
     ]
    }
   ],
   "source": [
    "super_pred = super_pred_fun(val_pred_pred[:15],T=1000)\n",
    "super_label=np.argmax(super_pred,axis=1)\n",
    "print(np.mean(super_label==test_dataset_y))"
   ]
  },
  {
   "cell_type": "code",
   "execution_count": 19,
   "metadata": {},
   "outputs": [
    {
     "name": "stdout",
     "output_type": "stream",
     "text": [
      "0.9272\n"
     ]
    }
   ],
   "source": [
    "super_pred = super_pred_fun(val_pred_pred[:5],T=1000)\n",
    "super_label=np.argmax(super_pred,axis=1)\n",
    "print(np.mean(super_label==test_dataset_y))"
   ]
  },
  {
   "cell_type": "code",
   "execution_count": 20,
   "metadata": {},
   "outputs": [
    {
     "name": "stdout",
     "output_type": "stream",
     "text": [
      "0.8874\n"
     ]
    }
   ],
   "source": [
    "super_pred = super_pred_fun(val_pred_pred[:2],T=1000)\n",
    "super_label=np.argmax(super_pred,axis=1)\n",
    "print(np.mean(super_label==test_dataset_y))"
   ]
  },
  {
   "cell_type": "code",
   "execution_count": 12,
   "metadata": {},
   "outputs": [],
   "source": [
    "accuracies=np.mean(lablab==test_dataset_y.reshape([-1,1]),axis=0)"
   ]
  },
  {
   "cell_type": "code",
   "execution_count": 13,
   "metadata": {},
   "outputs": [
    {
     "data": {
      "image/png": "[encoded data removed]",
      "text/plain": [
       "<Figure size 432x288 with 1 Axes>"
      ]
     },
     "metadata": {
      "needs_background": "light"
     },
     "output_type": "display_data"
    }
   ],
   "source": [
    "n = hp.num_trials\n",
    "# colors = plt.cm.jet(accuracies)\n",
    "colors = plt.cm.RdYlGn((accuracies-np.min(accuracies))/(np.max(accuracies)-np.min(accuracies)))\n",
    "# \n",
    "for trial in range(hp.num_trials):\n",
    "    plt.plot(trajectories[trial][:,0],trajectories[trial][:,1],  color=colors[trial],linewidth=3)"
   ]
  },
  {
   "cell_type": "code",
   "execution_count": 22,
   "metadata": {},
   "outputs": [
    {
     "data": {
      "text/plain": [
       "(array([ 1.,  0.,  0.,  0.,  1.,  0.,  0.,  0.,  0.,  0.,  0.,  0.,  0.,\n",
       "         1.,  1.,  0.,  5.,  3.,  5.,  3.,  4.,  4., 10., 10.,  9.,  9.,\n",
       "        17.,  8.,  4.,  5.]),\n",
       " array([0.6566    , 0.66455333, 0.67250667, 0.68046   , 0.68841333,\n",
       "        0.69636667, 0.70432   , 0.71227333, 0.72022667, 0.72818   ,\n",
       "        0.73613333, 0.74408667, 0.75204   , 0.75999333, 0.76794667,\n",
       "        0.7759    , 0.78385333, 0.79180667, 0.79976   , 0.80771333,\n",
       "        0.81566667, 0.82362   , 0.83157333, 0.83952667, 0.84748   ,\n",
       "        0.85543333, 0.86338667, 0.87134   , 0.87929333, 0.88724667,\n",
       "        0.8952    ]),\n",
       " <a list of 30 Patch objects>)"
      ]
     },
     "execution_count": 22,
     "metadata": {},
     "output_type": "execute_result"
    },
    {
     "data": {
      "image/png": "[encoded data removed]",
      "text/plain": [
       "<Figure size 432x288 with 1 Axes>"
      ]
     },
     "metadata": {
      "needs_background": "light"
     },
     "output_type": "display_data"
    }
   ],
   "source": [
    "plt.hist(accuracies,bins=30)"
   ]
  },
  {
   "cell_type": "code",
   "execution_count": 26,
   "metadata": {},
   "outputs": [
    {
     "data": {
      "text/plain": [
       "0.8952"
      ]
     },
     "execution_count": 26,
     "metadata": {},
     "output_type": "execute_result"
    }
   ],
   "source": [
    "accuracies.max()"
   ]
  },
  {
   "cell_type": "code",
   "execution_count": 40,
   "metadata": {},
   "outputs": [
    {
     "name": "stdout",
     "output_type": "stream",
     "text": [
      "Train on 55000 samples, validate on 5000 samples\n",
      "Epoch 1/100\n",
      "55000/55000 [==============================] - 3s 54us/sample - loss: 0.3135 - acc: 0.9235 - val_loss: 0.1593 - val_acc: 0.9570\n",
      "Epoch 2/100\n",
      "55000/55000 [==============================] - 2s 42us/sample - loss: 0.1827 - acc: 0.9558 - val_loss: 0.1321 - val_acc: 0.9618\n",
      "Epoch 3/100\n",
      "55000/55000 [==============================] - 2s 42us/sample - loss: 0.1525 - acc: 0.9610 - val_loss: 0.1263 - val_acc: 0.9662\n",
      "Epoch 4/100\n",
      "55000/55000 [==============================] - 2s 42us/sample - loss: 0.1359 - acc: 0.9648 - val_loss: 0.1284 - val_acc: 0.9650\n",
      "Epoch 5/100\n",
      "55000/55000 [==============================] - 2s 42us/sample - loss: 0.1261 - acc: 0.9667 - val_loss: 0.1162 - val_acc: 0.9686\n",
      "Epoch 6/100\n",
      "55000/55000 [==============================] - 2s 43us/sample - loss: 0.1157 - acc: 0.9703 - val_loss: 0.1144 - val_acc: 0.9680\n",
      "Epoch 7/100\n",
      "55000/55000 [==============================] - 2s 41us/sample - loss: 0.1050 - acc: 0.9722 - val_loss: 0.1168 - val_acc: 0.9692\n",
      "Epoch 8/100\n",
      "55000/55000 [==============================] - 2s 42us/sample - loss: 0.0984 - acc: 0.9729 - val_loss: 0.1141 - val_acc: 0.9708\n",
      "Epoch 9/100\n",
      "55000/55000 [==============================] - 2s 41us/sample - loss: 0.0915 - acc: 0.9748 - val_loss: 0.1114 - val_acc: 0.9698\n",
      "Epoch 10/100\n",
      "55000/55000 [==============================] - 2s 40us/sample - loss: 0.0854 - acc: 0.9772 - val_loss: 0.1077 - val_acc: 0.9724\n",
      "Epoch 11/100\n",
      "55000/55000 [==============================] - 2s 41us/sample - loss: 0.0779 - acc: 0.9790 - val_loss: 0.1113 - val_acc: 0.9740\n",
      "Epoch 12/100\n",
      "55000/55000 [==============================] - 2s 43us/sample - loss: 0.0732 - acc: 0.9803 - val_loss: 0.1105 - val_acc: 0.9710\n",
      "Epoch 13/100\n",
      "55000/55000 [==============================] - 2s 41us/sample - loss: 0.0709 - acc: 0.9814 - val_loss: 0.1116 - val_acc: 0.9714\n",
      "Epoch 14/100\n",
      "55000/55000 [==============================] - 2s 41us/sample - loss: 0.0657 - acc: 0.9823 - val_loss: 0.1125 - val_acc: 0.9718\n",
      "Epoch 15/100\n",
      "55000/55000 [==============================] - 2s 42us/sample - loss: 0.0610 - acc: 0.9836 - val_loss: 0.1173 - val_acc: 0.9706\n",
      "Epoch 16/100\n",
      "55000/55000 [==============================] - 2s 41us/sample - loss: 0.0574 - acc: 0.9847 - val_loss: 0.1213 - val_acc: 0.9712\n",
      "Epoch 17/100\n",
      "55000/55000 [==============================] - 2s 41us/sample - loss: 0.0548 - acc: 0.9849 - val_loss: 0.1189 - val_acc: 0.9704\n",
      "Epoch 18/100\n",
      "55000/55000 [==============================] - 2s 41us/sample - loss: 0.0521 - acc: 0.9857 - val_loss: 0.1233 - val_acc: 0.9716\n",
      "Epoch 19/100\n",
      "55000/55000 [==============================] - 2s 40us/sample - loss: 0.0495 - acc: 0.9860 - val_loss: 0.1262 - val_acc: 0.9728\n",
      "Epoch 20/100\n",
      "55000/55000 [==============================] - 2s 41us/sample - loss: 0.0458 - acc: 0.9871 - val_loss: 0.1167 - val_acc: 0.9732\n",
      "Epoch 21/100\n",
      "55000/55000 [==============================] - 2s 41us/sample - loss: 0.0459 - acc: 0.9869 - val_loss: 0.1283 - val_acc: 0.9714\n",
      "Epoch 22/100\n",
      "55000/55000 [==============================] - 2s 42us/sample - loss: 0.0424 - acc: 0.9878 - val_loss: 0.1231 - val_acc: 0.9712\n",
      "Epoch 23/100\n",
      "55000/55000 [==============================] - 2s 42us/sample - loss: 0.0401 - acc: 0.9888 - val_loss: 0.1326 - val_acc: 0.9716\n",
      "Epoch 24/100\n",
      "55000/55000 [==============================] - 2s 41us/sample - loss: 0.0410 - acc: 0.9885 - val_loss: 0.1326 - val_acc: 0.9714\n",
      "Epoch 25/100\n",
      "55000/55000 [==============================] - 2s 41us/sample - loss: 0.0358 - acc: 0.9901 - val_loss: 0.1316 - val_acc: 0.9698\n",
      "Epoch 26/100\n",
      "55000/55000 [==============================] - 2s 42us/sample - loss: 0.0354 - acc: 0.9903 - val_loss: 0.1397 - val_acc: 0.9708\n",
      "Epoch 27/100\n",
      "55000/55000 [==============================] - 2s 43us/sample - loss: 0.0344 - acc: 0.9903 - val_loss: 0.1432 - val_acc: 0.9710\n",
      "Epoch 28/100\n",
      "55000/55000 [==============================] - 2s 42us/sample - loss: 0.0349 - acc: 0.9900 - val_loss: 0.1425 - val_acc: 0.9708\n",
      "Epoch 29/100\n",
      "55000/55000 [==============================] - 2s 43us/sample - loss: 0.0334 - acc: 0.9906 - val_loss: 0.1489 - val_acc: 0.9708\n",
      "Epoch 30/100\n",
      "55000/55000 [==============================] - 2s 42us/sample - loss: 0.0291 - acc: 0.9916 - val_loss: 0.1531 - val_acc: 0.9700\n",
      "Epoch 31/100\n",
      "55000/55000 [==============================] - 2s 41us/sample - loss: 0.0279 - acc: 0.9919 - val_loss: 0.1572 - val_acc: 0.9718\n",
      "Epoch 32/100\n",
      "55000/55000 [==============================] - 2s 41us/sample - loss: 0.0329 - acc: 0.9908 - val_loss: 0.1360 - val_acc: 0.9708\n",
      "Epoch 33/100\n",
      "55000/55000 [==============================] - 2s 40us/sample - loss: 0.0292 - acc: 0.9920 - val_loss: 0.1461 - val_acc: 0.9704\n",
      "Epoch 34/100\n",
      "55000/55000 [==============================] - 2s 42us/sample - loss: 0.0272 - acc: 0.9923 - val_loss: 0.1544 - val_acc: 0.9706\n",
      "Epoch 35/100\n",
      "55000/55000 [==============================] - 2s 41us/sample - loss: 0.0268 - acc: 0.9928 - val_loss: 0.1395 - val_acc: 0.9724\n",
      "Epoch 36/100\n",
      "55000/55000 [==============================] - 2s 41us/sample - loss: 0.0267 - acc: 0.9927 - val_loss: 0.1487 - val_acc: 0.9710\n",
      "Epoch 37/100\n",
      "55000/55000 [==============================] - 2s 42us/sample - loss: 0.0257 - acc: 0.9928 - val_loss: 0.1515 - val_acc: 0.9696\n",
      "Epoch 38/100\n",
      "55000/55000 [==============================] - 2s 42us/sample - loss: 0.0244 - acc: 0.9933 - val_loss: 0.1607 - val_acc: 0.9714\n",
      "Epoch 39/100\n",
      "55000/55000 [==============================] - 2s 42us/sample - loss: 0.0233 - acc: 0.9935 - val_loss: 0.1536 - val_acc: 0.9722\n",
      "Epoch 40/100\n",
      "55000/55000 [==============================] - 2s 42us/sample - loss: 0.0228 - acc: 0.9938 - val_loss: 0.1491 - val_acc: 0.9716\n",
      "Epoch 41/100\n",
      "55000/55000 [==============================] - 2s 42us/sample - loss: 0.0256 - acc: 0.9929 - val_loss: 0.1599 - val_acc: 0.9708\n",
      "Epoch 42/100\n",
      "55000/55000 [==============================] - 2s 42us/sample - loss: 0.0200 - acc: 0.9945 - val_loss: 0.1559 - val_acc: 0.9706\n",
      "Epoch 43/100\n",
      "55000/55000 [==============================] - 2s 41us/sample - loss: 0.0209 - acc: 0.9940 - val_loss: 0.1677 - val_acc: 0.9694\n",
      "Epoch 44/100\n",
      "55000/55000 [==============================] - 2s 42us/sample - loss: 0.0220 - acc: 0.9938 - val_loss: 0.1621 - val_acc: 0.9698\n",
      "Epoch 45/100\n",
      "55000/55000 [==============================] - 2s 42us/sample - loss: 0.0218 - acc: 0.9939 - val_loss: 0.1652 - val_acc: 0.9724\n",
      "Epoch 46/100\n",
      "55000/55000 [==============================] - 2s 41us/sample - loss: 0.0221 - acc: 0.9938 - val_loss: 0.1618 - val_acc: 0.9712\n",
      "Epoch 47/100\n",
      "55000/55000 [==============================] - 2s 42us/sample - loss: 0.0193 - acc: 0.9944 - val_loss: 0.1610 - val_acc: 0.9708\n",
      "Epoch 48/100\n",
      "55000/55000 [==============================] - 2s 42us/sample - loss: 0.0202 - acc: 0.9943 - val_loss: 0.1547 - val_acc: 0.9700\n",
      "Epoch 49/100\n",
      "55000/55000 [==============================] - 2s 42us/sample - loss: 0.0198 - acc: 0.9943 - val_loss: 0.1683 - val_acc: 0.9712\n",
      "Epoch 50/100\n",
      "55000/55000 [==============================] - 2s 42us/sample - loss: 0.0193 - acc: 0.9946 - val_loss: 0.1608 - val_acc: 0.9724\n",
      "Epoch 51/100\n",
      "55000/55000 [==============================] - 2s 41us/sample - loss: 0.0187 - acc: 0.9947 - val_loss: 0.1561 - val_acc: 0.9722\n",
      "Epoch 52/100\n",
      "55000/55000 [==============================] - 2s 41us/sample - loss: 0.0203 - acc: 0.9943 - val_loss: 0.1614 - val_acc: 0.9726\n",
      "Epoch 53/100\n",
      "55000/55000 [==============================] - 2s 41us/sample - loss: 0.0159 - acc: 0.9951 - val_loss: 0.1755 - val_acc: 0.9726\n",
      "Epoch 54/100\n",
      "55000/55000 [==============================] - 2s 41us/sample - loss: 0.0176 - acc: 0.9951 - val_loss: 0.1613 - val_acc: 0.9716\n",
      "Epoch 55/100\n",
      "55000/55000 [==============================] - 2s 41us/sample - loss: 0.0193 - acc: 0.9943 - val_loss: 0.1713 - val_acc: 0.9722\n",
      "Epoch 56/100\n",
      "55000/55000 [==============================] - 2s 41us/sample - loss: 0.0174 - acc: 0.9950 - val_loss: 0.1630 - val_acc: 0.9714\n",
      "Epoch 57/100\n",
      "55000/55000 [==============================] - 2s 42us/sample - loss: 0.0179 - acc: 0.9948 - val_loss: 0.1676 - val_acc: 0.9720\n",
      "Epoch 58/100\n",
      "55000/55000 [==============================] - 2s 41us/sample - loss: 0.0186 - acc: 0.9948 - val_loss: 0.1801 - val_acc: 0.9692\n"
     ]
    },
    {
     "name": "stdout",
     "output_type": "stream",
     "text": [
      "Epoch 59/100\n",
      "55000/55000 [==============================] - 2s 43us/sample - loss: 0.0195 - acc: 0.9941 - val_loss: 0.1649 - val_acc: 0.9714\n",
      "Epoch 60/100\n",
      "55000/55000 [==============================] - 2s 43us/sample - loss: 0.0147 - acc: 0.9957 - val_loss: 0.1890 - val_acc: 0.9710\n",
      "Epoch 61/100\n",
      "55000/55000 [==============================] - 2s 42us/sample - loss: 0.0155 - acc: 0.9956 - val_loss: 0.1865 - val_acc: 0.9714\n",
      "Epoch 62/100\n",
      "55000/55000 [==============================] - 2s 42us/sample - loss: 0.0166 - acc: 0.9950 - val_loss: 0.1781 - val_acc: 0.9700\n",
      "Epoch 63/100\n",
      "55000/55000 [==============================] - 2s 42us/sample - loss: 0.0140 - acc: 0.9959 - val_loss: 0.1823 - val_acc: 0.9718\n",
      "Epoch 64/100\n",
      "55000/55000 [==============================] - 2s 43us/sample - loss: 0.0167 - acc: 0.9954 - val_loss: 0.1855 - val_acc: 0.9724\n",
      "Epoch 65/100\n",
      "55000/55000 [==============================] - 2s 41us/sample - loss: 0.0172 - acc: 0.9952 - val_loss: 0.1734 - val_acc: 0.9712\n",
      "Epoch 66/100\n",
      "55000/55000 [==============================] - 2s 43us/sample - loss: 0.0147 - acc: 0.9957 - val_loss: 0.1759 - val_acc: 0.9714\n",
      "Epoch 67/100\n",
      "55000/55000 [==============================] - 2s 42us/sample - loss: 0.0132 - acc: 0.9965 - val_loss: 0.1833 - val_acc: 0.9728\n",
      "Epoch 68/100\n",
      "55000/55000 [==============================] - 2s 43us/sample - loss: 0.0164 - acc: 0.9956 - val_loss: 0.1772 - val_acc: 0.9724\n",
      "Epoch 69/100\n",
      "55000/55000 [==============================] - 2s 43us/sample - loss: 0.0139 - acc: 0.9960 - val_loss: 0.1874 - val_acc: 0.9718\n",
      "Epoch 70/100\n",
      "55000/55000 [==============================] - 2s 43us/sample - loss: 0.0156 - acc: 0.9955 - val_loss: 0.1880 - val_acc: 0.9716\n",
      "Epoch 71/100\n",
      "55000/55000 [==============================] - 2s 43us/sample - loss: 0.0137 - acc: 0.9963 - val_loss: 0.1966 - val_acc: 0.9734\n",
      "Epoch 72/100\n",
      "55000/55000 [==============================] - 2s 42us/sample - loss: 0.0148 - acc: 0.9954 - val_loss: 0.1883 - val_acc: 0.9692\n",
      "Epoch 73/100\n",
      "55000/55000 [==============================] - 2s 42us/sample - loss: 0.0127 - acc: 0.9964 - val_loss: 0.1972 - val_acc: 0.9706\n",
      "Epoch 74/100\n",
      "55000/55000 [==============================] - 2s 43us/sample - loss: 0.0148 - acc: 0.9959 - val_loss: 0.1945 - val_acc: 0.9702\n",
      "Epoch 75/100\n",
      "55000/55000 [==============================] - 2s 42us/sample - loss: 0.0132 - acc: 0.9961 - val_loss: 0.2025 - val_acc: 0.9708\n",
      "Epoch 76/100\n",
      "55000/55000 [==============================] - 2s 42us/sample - loss: 0.0140 - acc: 0.9960 - val_loss: 0.1889 - val_acc: 0.9718\n",
      "Epoch 77/100\n",
      "55000/55000 [==============================] - 2s 42us/sample - loss: 0.0144 - acc: 0.9959 - val_loss: 0.1816 - val_acc: 0.9708\n",
      "Epoch 78/100\n",
      "55000/55000 [==============================] - 2s 42us/sample - loss: 0.0137 - acc: 0.9960 - val_loss: 0.2115 - val_acc: 0.9698\n",
      "Epoch 79/100\n",
      "55000/55000 [==============================] - 2s 41us/sample - loss: 0.0136 - acc: 0.9964 - val_loss: 0.1883 - val_acc: 0.9720\n",
      "Epoch 80/100\n",
      "55000/55000 [==============================] - 2s 43us/sample - loss: 0.0131 - acc: 0.9959 - val_loss: 0.1768 - val_acc: 0.9722\n",
      "Epoch 81/100\n",
      "55000/55000 [==============================] - 2s 43us/sample - loss: 0.0121 - acc: 0.9966 - val_loss: 0.1806 - val_acc: 0.9734\n",
      "Epoch 82/100\n",
      "55000/55000 [==============================] - 2s 42us/sample - loss: 0.0108 - acc: 0.9970 - val_loss: 0.2088 - val_acc: 0.9730\n",
      "Epoch 83/100\n",
      "55000/55000 [==============================] - 2s 42us/sample - loss: 0.0127 - acc: 0.9965 - val_loss: 0.1964 - val_acc: 0.9706\n",
      "Epoch 84/100\n",
      "55000/55000 [==============================] - 2s 42us/sample - loss: 0.0131 - acc: 0.9963 - val_loss: 0.1974 - val_acc: 0.9738\n",
      "Epoch 85/100\n",
      "55000/55000 [==============================] - 2s 42us/sample - loss: 0.0116 - acc: 0.9963 - val_loss: 0.1898 - val_acc: 0.9740\n",
      "Epoch 86/100\n",
      "55000/55000 [==============================] - 2s 41us/sample - loss: 0.0112 - acc: 0.9967 - val_loss: 0.2050 - val_acc: 0.9724\n",
      "Epoch 87/100\n",
      "55000/55000 [==============================] - 2s 42us/sample - loss: 0.0137 - acc: 0.9960 - val_loss: 0.1907 - val_acc: 0.9716\n",
      "Epoch 88/100\n",
      "55000/55000 [==============================] - 2s 42us/sample - loss: 0.0122 - acc: 0.9965 - val_loss: 0.1804 - val_acc: 0.9726\n",
      "Epoch 89/100\n",
      "55000/55000 [==============================] - 2s 42us/sample - loss: 0.0114 - acc: 0.9966 - val_loss: 0.1818 - val_acc: 0.9730\n",
      "Epoch 90/100\n",
      "55000/55000 [==============================] - 2s 43us/sample - loss: 0.0132 - acc: 0.9965 - val_loss: 0.1929 - val_acc: 0.9724\n",
      "Epoch 91/100\n",
      "55000/55000 [==============================] - 2s 43us/sample - loss: 0.0118 - acc: 0.9967 - val_loss: 0.1978 - val_acc: 0.9720\n",
      "Epoch 92/100\n",
      "55000/55000 [==============================] - 2s 42us/sample - loss: 0.0108 - acc: 0.9972 - val_loss: 0.1931 - val_acc: 0.9720\n",
      "Epoch 93/100\n",
      "55000/55000 [==============================] - 2s 42us/sample - loss: 0.0107 - acc: 0.9970 - val_loss: 0.2139 - val_acc: 0.9718\n",
      "Epoch 94/100\n",
      "55000/55000 [==============================] - 2s 42us/sample - loss: 0.0117 - acc: 0.9966 - val_loss: 0.1847 - val_acc: 0.9730\n",
      "Epoch 95/100\n",
      "55000/55000 [==============================] - 2s 43us/sample - loss: 0.0103 - acc: 0.9974 - val_loss: 0.2092 - val_acc: 0.9728\n",
      "Epoch 96/100\n",
      "55000/55000 [==============================] - 2s 42us/sample - loss: 0.0099 - acc: 0.9971 - val_loss: 0.2167 - val_acc: 0.9716\n",
      "Epoch 97/100\n",
      "55000/55000 [==============================] - 2s 43us/sample - loss: 0.0099 - acc: 0.9972 - val_loss: 0.2217 - val_acc: 0.9716\n",
      "Epoch 98/100\n",
      "55000/55000 [==============================] - 2s 42us/sample - loss: 0.0108 - acc: 0.9967 - val_loss: 0.2111 - val_acc: 0.9710\n",
      "Epoch 99/100\n",
      "55000/55000 [==============================] - 2s 43us/sample - loss: 0.0112 - acc: 0.9970 - val_loss: 0.1996 - val_acc: 0.9738\n",
      "Epoch 100/100\n",
      "55000/55000 [==============================] - 2s 41us/sample - loss: 0.0100 - acc: 0.9972 - val_loss: 0.2149 - val_acc: 0.9710\n"
     ]
    },
    {
     "data": {
      "text/plain": [
       "<tensorflow.python.keras.callbacks.History at 0x7f023fd685c0>"
      ]
     },
     "execution_count": 40,
     "metadata": {},
     "output_type": "execute_result"
    }
   ],
   "source": [
    "# Set the input shape\n",
    "input_shape = (1000,)\n",
    "# print(f'Feature shape: {input_shape}')\n",
    "\n",
    "# Create the model\n",
    "model = keras.Sequential()\n",
    "model.add(keras.layers.Dense(300, input_shape=input_shape, activation='relu'))\n",
    "model.add(keras.layers.Dropout(0.4))\n",
    "model.add(keras.layers.Dense(100,  activation='relu'))\n",
    "model.add(keras.layers.Dropout(0.4))\n",
    "model.add(keras.layers.Dense(50, activation='relu'))\n",
    "model.add(keras.layers.Dropout(0.2))\n",
    "model.add(keras.layers.Dense(10, activation='softmax'))\n",
    "\n",
    "# Configure the model and start training\n",
    "model.compile(loss='sparse_categorical_crossentropy', optimizer='adam', metrics=['accuracy'])\n",
    "model.fit(np.transpose(train_pred_pred,[1,2,0]).reshape([-1,1000]), train_dataset_y.astype(int), epochs=100, batch_size=250, \n",
    "          verbose=1, validation_data=(np.transpose(val_pred_pred,[1,2,0]).reshape([-1,1000]), test_dataset_y))\n"
   ]
  },
  {
   "cell_type": "code",
   "execution_count": null,
   "metadata": {},
   "outputs": [],
   "source": []
  }
 ],
 "metadata": {
  "kernelspec": {
   "display_name": "Python 3",
   "language": "python",
   "name": "python3"
  },
  "language_info": {
   "codemirror_mode": {
    "name": "ipython",
    "version": 3
   },
   "file_extension": ".py",
   "mimetype": "text/x-python",
   "name": "python",
   "nbconvert_exporter": "python",
   "pygments_lexer": "ipython3",
   "version": "3.5.2"
  }
 },
 "nbformat": 4,
 "nbformat_minor": 2
}
