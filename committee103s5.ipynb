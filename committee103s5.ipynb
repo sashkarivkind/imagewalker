{
 "cells": [
  {
   "cell_type": "code",
   "execution_count": 1,
   "metadata": {},
   "outputs": [],
   "source": [
    "from misc import HP\n",
    "import argparse\n",
    "import random\n",
    "import time\n",
    "import pickle\n",
    "import copy\n",
    "import SYCLOP_env as syc\n",
    "from misc import *\n",
    "import sys\n",
    "import os\n",
    "import cv2\n",
    "import argparse\n",
    "import tensorflow.keras as keras\n",
    "\n",
    "from keras_networks import rnn_model_102, rnn_model_multicore_201, rnn_model_multicore_202\n",
    "from curriculum_utils import create_mnist_dataset, bad_res102"
   ]
  },
  {
   "cell_type": "code",
   "execution_count": 2,
   "metadata": {},
   "outputs": [],
   "source": [
    "\n",
    "def generate_trajectory(n_steps,max_q,acceleration_mode):\n",
    "    starting_point = np.array([max_q[0] // 2, max_q[1] // 2])\n",
    "    steps = []\n",
    "    qdot=0\n",
    "    for j in range(n_steps):\n",
    "        steps.append(starting_point * 1)\n",
    "        if acceleration_mode:\n",
    "            qdot += np.random.randint(-1, 2, 2)\n",
    "            starting_point += qdot\n",
    "        else:\n",
    "            starting_point += np.random.randint(-5, 6, 2)\n",
    "    return np.array(steps)"
   ]
  },
  {
   "cell_type": "code",
   "execution_count": 11,
   "metadata": {},
   "outputs": [],
   "source": [
    "def split_dataset_xy(dataset):\n",
    "    dataset_x1 = [uu[0] for uu in dataset]\n",
    "    dataset_x2 = [uu[1] for uu in dataset]\n",
    "    dataset_y = [uu[-1] for uu in dataset]\n",
    "    return (np.array(dataset_x1)[...,np.newaxis],np.array(dataset_x2)[:,:n_timesteps,:]),np.array(dataset_y)\n",
    "\n",
    "#parse hyperparameters\n",
    "\n",
    "lsbjob = os.getenv('LSB_JOBID')\n",
    "lsbjob = '' if lsbjob is None else lsbjob\n",
    "\n",
    "hp = HP()\n",
    "hp.save_path = 'saved_runs'\n",
    "hp.description=''\n",
    "parser = argparse.ArgumentParser()\n",
    "parser.add_argument('--tau_int', default=4., type=float, help='Integration timescale for adaaptation')\n",
    "parser.add_argument('--resize', default=1.0, type=float, help='resize of images')\n",
    "parser.add_argument('--run_name_suffix', default='', type=str, help='suffix for runname')\n",
    "parser.add_argument('--eval_dir', default=None, type=str, help='eval dir')\n",
    "\n",
    "parser.add_argument('--dqn_initial_network', default=None, type=str, help='dqn_initial_network')\n",
    "parser.add_argument('--decoder_initial_network', default=None, type=str, help='decoder_initial_network')\n",
    "parser.add_argument('--decoder_arch', default='default', type=str, help='decoder_network architecture: default / multicore_201')\n",
    "parser.add_argument('--decoder_n_cores',  default=1, type=int, help='decoder number of cores')\n",
    "\n",
    "parser.add_argument('--decoder_learning_rate',  default=1e-3, type=float, help='decoder learning rate')\n",
    "parser.add_argument('--decoder_dropout',  default=0.0, type=float, help='decoder dropout')\n",
    "parser.add_argument('--decoder_rnn_type',  default='gru', type=str, help='gru or rnn')\n",
    "parser.add_argument('--decoder_rnn_units',  default=100, type=int, help='decoder rnn units')\n",
    "parser.add_argument('--decoder_rnn_layers',  default=1, type=int, help='decoder rnn units')\n",
    "\n",
    "\n",
    "parser.add_argument('--decoder_ignore_position', dest='decoder_ignore_position', action='store_true')\n",
    "parser.add_argument('--no-decoder_ignore_position', dest='decoder_ignore_position', action='store_false')\n",
    "\n",
    "parser.add_argument('--syclop_learning_rate',  default=2.5e-3, type=float, help='syclop (RL) learning rate')\n",
    "\n",
    "parser.add_argument('--color', default='grayscale', type=str, help='grayscale/rgb')\n",
    "parser.add_argument('--speed_reward',  default=0.0, type=float, help='speed reward, typically negative')\n",
    "parser.add_argument('--intensity_reward',  default=0.0, type=float, help='speed penalty reward')\n",
    "parser.add_argument('--loss_reward',  default=-1.0, type=float, help='reward for loss, typically negative')\n",
    "parser.add_argument('--resolution',  default=28, type=int, help='resolution')\n",
    "parser.add_argument('--max_eval_episodes',  default=10000, type=int, help='episodes for evaluation mode')\n",
    "parser.add_argument('--steps_per_episode',  default=5, type=int, help='time steps in each episode in ')\n",
    "parser.add_argument('--fit_verbose',  default=1, type=int, help='verbose level for model.fit                        ')\n",
    "parser.add_argument('--steps_between_learnings',  default=100, type=int, help='steps_between_learnings')\n",
    "parser.add_argument('--num_epochs',  default=100, type=int, help='steps_between_learnings')\n",
    "\n",
    "parser.add_argument('--alpha_increment',  default=0.01, type=float, help='reward for loss, typically negative')\n",
    "\n",
    "\n",
    "parser.add_argument('--beta_t1',  default=400000, type=int, help='time rising bete')\n",
    "parser.add_argument('--beta_t2',  default=700000, type=int, help='end rising beta')\n",
    "parser.add_argument('--beta_b1',  default=0.1, type=float, help='beta initial value')\n",
    "parser.add_argument('--beta_b2',  default=1.0, type=float, help='beta final value')\n",
    "\n",
    "parser.add_argument('--curriculum_enable', dest='curriculum_enable', action='store_true')\n",
    "parser.add_argument('--no-curriculum_enable', dest='curriculum_enable', action='store_false')\n",
    "\n",
    "parser.add_argument('--conv_fe', dest='conv_fe', action='store_true')\n",
    "parser.add_argument('--no-conv_fe', dest='conv_fe', action='store_false')\n",
    "\n",
    "parser.add_argument('--acceleration_mode', dest='acceleration_mode', action='store_true')\n",
    "parser.add_argument('--no-acceleration_mode', dest='acceleration_mode', action='store_false')\n",
    "\n",
    "\n",
    "parser.set_defaults(eval_mode=False, decode_from_dvs=False,test_mode=False,rising_beta_schedule=True,decoder_ignore_position=False, curriculum_enable=True, conv_fe=False,\n",
    "                    acceleration_mode=True)\n",
    "config = parser.parse_args('')\n",
    "\n",
    "# config = parser.parse_args()\n",
    "config = vars(config)\n",
    "hp.upadte_from_dict(config)\n",
    "hp.this_run_name = sys.argv[0] + '_noname_' + hp.run_name_suffix + '_' + lsbjob + '_' + str(int(time.time()))\n",
    "\n",
    "#define model\n",
    "n_timesteps = hp.steps_per_episode\n",
    "\n",
    "##\n",
    "# deploy_logs()\n",
    "##\n",
    "# if hp.decoder_arch == 'multicore_201':\n",
    "#     decoder = rnn_model_multicore_201(n_cores=hp.decoder_n_cores,lr=hp.decoder_learning_rate,ignore_input_B=hp.decoder_ignore_position,dropout=hp.decoder_dropout,rnn_type=hp.decoder_rnn_type,\n",
    "#                                 input_size=(hp.resolution,hp.resolution, 1),rnn_layers=hp.decoder_rnn_layers,conv_fe=hp.conv_fe, rnn_units=hp.decoder_rnn_units, n_timesteps=hp.steps_per_episode)\n",
    "# if hp.decoder_arch == 'multicore_202':\n",
    "#     decoder = rnn_model_multicore_202(n_cores=hp.decoder_n_cores, lr=hp.decoder_learning_rate,\n",
    "#                                       ignore_input_B=hp.decoder_ignore_position, dropout=hp.decoder_dropout,\n",
    "#                                       rnn_type=hp.decoder_rnn_type,\n",
    "#                                       input_size=(hp.resolution, hp.resolution, 1),\n",
    "#                                       rnn_layers=hp.decoder_rnn_layers, conv_fe=hp.conv_fe,\n",
    "#                                       rnn_units=hp.decoder_rnn_units, n_timesteps=hp.steps_per_episode)\n",
    "# elif hp.decoder_arch == 'default':\n",
    "#     decoder = rnn_model_102(lr=hp.decoder_learning_rate,ignore_input_B=hp.decoder_ignore_position,dropout=hp.decoder_dropout,rnn_type=hp.decoder_rnn_type,\n",
    "#                                 input_size=(hp.resolution,hp.resolution, 1),rnn_layers=hp.decoder_rnn_layers,conv_fe=hp.conv_fe,rnn_units=hp.decoder_rnn_units, n_timesteps=hp.steps_per_episode)\n",
    "decoder_initial_network = 'saved_runs/trajectory_curriculum101.py_noname__613128_1624010531_1//final_decoder.nwk'\n",
    "decoder = keras.models.load_model(decoder_initial_network)\n",
    "    #define dataset\n",
    "(images, labels), (images_test, labels_test) = keras.datasets.mnist.load_data(path=\"mnist.npz\")\n",
    "\n",
    "\n",
    "#fit one epoch in a  time\n",
    "# scheduler = Scheduler(hp.lambda_schedule)\n",
    "# for epoch in range(hp.num_epochs):\n",
    "#     lambda_epoch = scheduler.step(epoch)"
   ]
  },
  {
   "cell_type": "code",
   "execution_count": 12,
   "metadata": {},
   "outputs": [
    {
     "data": {
      "text/plain": [
       "True"
      ]
     },
     "execution_count": 12,
     "metadata": {},
     "output_type": "execute_result"
    }
   ],
   "source": [
    "hp.acceleration_mode"
   ]
  },
  {
   "cell_type": "code",
   "execution_count": 13,
   "metadata": {},
   "outputs": [
    {
     "name": "stdout",
     "output_type": "stream",
     "text": [
      "Are we random? 5\n",
      "evaluating trajectory   0\n",
      "55000/55000 [==============================] - 14s 261us/sample\n",
      "5000/5000 [==============================] - 1s 245us/sample\n",
      "accuracy: 0.8166\n",
      "Are we random? 4\n",
      "evaluating trajectory   1\n",
      "55000/55000 [==============================] - 14s 253us/sample\n",
      "5000/5000 [==============================] - 1s 255us/sample\n",
      "accuracy: 0.8478\n",
      "Are we random? 17\n",
      "evaluating trajectory   2\n",
      "55000/55000 [==============================] - 14s 252us/sample\n",
      "5000/5000 [==============================] - 1s 254us/sample\n",
      "accuracy: 0.8238\n",
      "Are we random? 2\n",
      "evaluating trajectory   3\n",
      "55000/55000 [==============================] - 14s 257us/sample\n",
      "5000/5000 [==============================] - 1s 250us/sample\n",
      "accuracy: 0.8318\n",
      "Are we random? 15\n",
      "evaluating trajectory   4\n",
      "55000/55000 [==============================] - 14s 255us/sample\n",
      "5000/5000 [==============================] - 1s 248us/sample\n",
      "accuracy: 0.8292\n",
      "Are we random? 12\n",
      "evaluating trajectory   5\n",
      "55000/55000 [==============================] - 14s 254us/sample\n",
      "5000/5000 [==============================] - 1s 257us/sample\n",
      "accuracy: 0.8412\n",
      "Are we random? 1\n",
      "evaluating trajectory   6\n",
      "55000/55000 [==============================] - 14s 251us/sample\n",
      "5000/5000 [==============================] - 1s 255us/sample\n",
      "accuracy: 0.7984\n",
      "Are we random? 18\n",
      "evaluating trajectory   7\n",
      "55000/55000 [==============================] - 14s 250us/sample\n",
      "5000/5000 [==============================] - 1s 259us/sample\n",
      "accuracy: 0.8478\n",
      "Are we random? 2\n",
      "evaluating trajectory   8\n",
      "55000/55000 [==============================] - 14s 251us/sample\n",
      "5000/5000 [==============================] - 1s 257us/sample\n",
      "accuracy: 0.8024\n",
      "Are we random? 15\n",
      "evaluating trajectory   9\n",
      "55000/55000 [==============================] - 14s 252us/sample\n",
      "5000/5000 [==============================] - 1s 256us/sample\n",
      "accuracy: 0.7598\n",
      "Are we random? 9\n",
      "evaluating trajectory   10\n",
      "55000/55000 [==============================] - 14s 257us/sample\n",
      "5000/5000 [==============================] - 1s 259us/sample\n",
      "accuracy: 0.8084\n",
      "Are we random? 4\n",
      "evaluating trajectory   11\n",
      "55000/55000 [==============================] - 14s 257us/sample\n",
      "5000/5000 [==============================] - 1s 259us/sample\n",
      "accuracy: 0.8576\n",
      "Are we random? 1\n",
      "evaluating trajectory   12\n",
      "55000/55000 [==============================] - 14s 257us/sample\n",
      "5000/5000 [==============================] - 1s 252us/sample\n",
      "accuracy: 0.802\n",
      "Are we random? 14\n",
      "evaluating trajectory   13\n",
      "55000/55000 [==============================] - 14s 258us/sample\n",
      "5000/5000 [==============================] - 1s 254us/sample\n",
      "accuracy: 0.8302\n",
      "Are we random? 11\n",
      "evaluating trajectory   14\n",
      "55000/55000 [==============================] - 14s 256us/sample\n",
      "5000/5000 [==============================] - 1s 260us/sample\n",
      "accuracy: 0.7792\n",
      "Are we random? 12\n",
      "evaluating trajectory   15\n",
      "55000/55000 [==============================] - 14s 252us/sample\n",
      "5000/5000 [==============================] - 1s 248us/sample\n",
      "accuracy: 0.6864\n",
      "Are we random? 13\n",
      "evaluating trajectory   16\n",
      "55000/55000 [==============================] - 14s 258us/sample\n",
      "5000/5000 [==============================] - 1s 253us/sample\n",
      "accuracy: 0.8326\n",
      "Are we random? 8\n",
      "evaluating trajectory   17\n",
      "55000/55000 [==============================] - 14s 257us/sample\n",
      "5000/5000 [==============================] - 1s 259us/sample\n",
      "accuracy: 0.851\n",
      "Are we random? 18\n",
      "evaluating trajectory   18\n",
      "55000/55000 [==============================] - 14s 256us/sample\n",
      "5000/5000 [==============================] - 1s 258us/sample\n",
      "accuracy: 0.841\n",
      "Are we random? 2\n",
      "evaluating trajectory   19\n",
      "55000/55000 [==============================] - 14s 257us/sample\n",
      "5000/5000 [==============================] - 1s 256us/sample\n",
      "accuracy: 0.7664\n",
      "Are we random? 19\n",
      "evaluating trajectory   20\n",
      "55000/55000 [==============================] - 14s 257us/sample\n",
      "5000/5000 [==============================] - 1s 258us/sample\n",
      "accuracy: 0.812\n",
      "Are we random? 15\n",
      "evaluating trajectory   21\n",
      "55000/55000 [==============================] - 14s 261us/sample\n",
      "5000/5000 [==============================] - 1s 262us/sample\n",
      "accuracy: 0.856\n",
      "Are we random? 19\n",
      "evaluating trajectory   22\n",
      "55000/55000 [==============================] - 14s 259us/sample\n",
      "5000/5000 [==============================] - 1s 263us/sample\n",
      "accuracy: 0.7936\n",
      "Are we random? 11\n",
      "evaluating trajectory   23\n",
      "55000/55000 [==============================] - 14s 260us/sample\n",
      "5000/5000 [==============================] - 1s 268us/sample\n",
      "accuracy: 0.8256\n",
      "Are we random? 18\n",
      "evaluating trajectory   24\n",
      "55000/55000 [==============================] - 14s 259us/sample\n",
      "5000/5000 [==============================] - 1s 262us/sample\n",
      "accuracy: 0.8232\n",
      "Are we random? 18\n",
      "evaluating trajectory   25\n",
      "55000/55000 [==============================] - 14s 259us/sample\n",
      "5000/5000 [==============================] - 1s 260us/sample\n",
      "accuracy: 0.6844\n",
      "Are we random? 12\n",
      "evaluating trajectory   26\n",
      "55000/55000 [==============================] - 14s 261us/sample\n",
      "5000/5000 [==============================] - 1s 263us/sample\n",
      "accuracy: 0.8796\n",
      "Are we random? 8\n",
      "evaluating trajectory   27\n",
      "55000/55000 [==============================] - 14s 255us/sample\n",
      "5000/5000 [==============================] - 1s 256us/sample\n",
      "accuracy: 0.8008\n",
      "Are we random? 9\n",
      "evaluating trajectory   28\n",
      "55000/55000 [==============================] - 14s 258us/sample\n",
      "5000/5000 [==============================] - 1s 260us/sample\n",
      "accuracy: 0.858\n",
      "Are we random? 7\n",
      "evaluating trajectory   29\n",
      "55000/55000 [==============================] - 14s 257us/sample\n",
      "5000/5000 [==============================] - 1s 258us/sample\n",
      "accuracy: 0.8172\n"
     ]
    }
   ],
   "source": [
    "alpha=0\n",
    "hp.num_trials = 30\n",
    "trajectories = []\n",
    "train_pred_pred = []\n",
    "val_pred_pred = []\n",
    "for trial in range(hp.num_trials):\n",
    "    this_trajectory=generate_trajectory(hp.steps_per_episode,[72,72],hp.acceleration_mode)\n",
    "#     this_trajectory=trajectories[trial]\n",
    "    train_dataset, test_dataset = create_mnist_dataset(images, labels, 6, sample=hp.steps_per_episode, bad_res_func=bad_res102,\n",
    "                                                           return_datasets=True, q_0=this_trajectory, alpha=0.0,\n",
    "                                                           random_trajectories=True,acceleration_mode=hp.acceleration_mode)\n",
    "    train_dataset_x, train_dataset_y = split_dataset_xy(train_dataset)\n",
    "    test_dataset_x, test_dataset_y = split_dataset_xy(test_dataset)\n",
    "    q_prime = train_dataset_x[1][0]\n",
    "#     print('epoch', epoch, '  CONTROL!!!',' first q --', q_prime.reshape([-1]))\n",
    "\n",
    "    print(\"evaluating trajectory  \", trial)\n",
    "    train_preds = decoder.predict(\n",
    "        train_dataset_x,\n",
    "        batch_size=64,\n",
    "        verbose=hp.fit_verbose,\n",
    "        # We pass some validation for\n",
    "        # monitoring validation loss and metrics\n",
    "        # at the end of each epoch\n",
    "        )\n",
    "    val_preds = decoder.predict(\n",
    "        test_dataset_x,\n",
    "        batch_size=64,\n",
    "        verbose=hp.fit_verbose,\n",
    "        # We pass some validation for\n",
    "        # monitoring validation loss and metrics\n",
    "        # at the end of each epoch\n",
    "        )\n",
    "    accuracy =  np.mean(np.argmax(val_preds, axis=1)==test_dataset_y)\n",
    "    print('accuracy:', accuracy)\n",
    "    trajectories.append(this_trajectory+0.)\n",
    "    train_pred_pred.append(train_preds+0.0)\n",
    "    val_pred_pred.append(val_preds+0.0)"
   ]
  },
  {
   "cell_type": "code",
   "execution_count": 9,
   "metadata": {},
   "outputs": [],
   "source": [
    "accuracy =  np.mean(np.argmax(val_preds, axis=1)==test_dataset_y)"
   ]
  },
  {
   "cell_type": "code",
   "execution_count": 10,
   "metadata": {},
   "outputs": [
    {
     "data": {
      "text/plain": [
       "0.8426"
      ]
     },
     "execution_count": 10,
     "metadata": {},
     "output_type": "execute_result"
    }
   ],
   "source": [
    "accuracy"
   ]
  },
  {
   "cell_type": "code",
   "execution_count": 15,
   "metadata": {},
   "outputs": [],
   "source": [
    "ent = np.zeros([np.shape(test_dataset_y)[0],hp.num_trials])\n",
    "lablab = np.zeros([np.shape(test_dataset_y)[0],hp.num_trials])\n",
    "for jj,preds in enumerate(val_pred_pred):\n",
    "    ent[:,jj]=np.sum(-preds*np.log(preds),axis=1)\n",
    "    lablab[:,jj]=np.argmax(preds, axis=1)"
   ]
  },
  {
   "cell_type": "code",
   "execution_count": 16,
   "metadata": {},
   "outputs": [],
   "source": [
    "ii=np.argmin(ent,axis=1)"
   ]
  },
  {
   "cell_type": "code",
   "execution_count": 17,
   "metadata": {},
   "outputs": [],
   "source": [
    "best_lbl=[]\n",
    "for jj,uu in enumerate(ii):\n",
    "    best_lbl.append(lablab[jj,uu])\n"
   ]
  },
  {
   "cell_type": "code",
   "execution_count": 18,
   "metadata": {},
   "outputs": [
    {
     "data": {
      "text/plain": [
       "0.9012"
      ]
     },
     "execution_count": 18,
     "metadata": {},
     "output_type": "execute_result"
    }
   ],
   "source": [
    "np.mean(best_lbl==test_dataset_y)"
   ]
  },
  {
   "cell_type": "code",
   "execution_count": 19,
   "metadata": {},
   "outputs": [
    {
     "data": {
      "text/plain": [
       "0.8134666666666667"
      ]
     },
     "execution_count": 19,
     "metadata": {},
     "output_type": "execute_result"
    }
   ],
   "source": [
    "#random syclop, \n",
    "np.mean(lablab==test_dataset_y.reshape([-1,1]))"
   ]
  },
  {
   "cell_type": "code",
   "execution_count": 20,
   "metadata": {},
   "outputs": [],
   "source": [
    "accuracies=np.mean(lablab==test_dataset_y.reshape([-1,1]),axis=0)"
   ]
  },
  {
   "cell_type": "code",
   "execution_count": 21,
   "metadata": {},
   "outputs": [],
   "source": [
    "best_ii=np.argmax(np.mean(lablab==test_dataset_y.reshape([-1,1]),axis=0))"
   ]
  },
  {
   "cell_type": "code",
   "execution_count": 22,
   "metadata": {},
   "outputs": [
    {
     "data": {
      "text/plain": [
       "0.1246"
      ]
     },
     "execution_count": 22,
     "metadata": {},
     "output_type": "execute_result"
    }
   ],
   "source": [
    "np.mean(ii==best_ii)"
   ]
  },
  {
   "cell_type": "code",
   "execution_count": 23,
   "metadata": {},
   "outputs": [
    {
     "data": {
      "text/plain": [
       "0.9928"
      ]
     },
     "execution_count": 23,
     "metadata": {},
     "output_type": "execute_result"
    }
   ],
   "source": [
    "np.mean(np.any(lablab==test_dataset_y.reshape([-1,1]),axis=1))"
   ]
  },
  {
   "cell_type": "code",
   "execution_count": 24,
   "metadata": {},
   "outputs": [],
   "source": [
    "best_ent=np.min(ent,axis=1)"
   ]
  },
  {
   "cell_type": "code",
   "execution_count": 25,
   "metadata": {},
   "outputs": [
    {
     "data": {
      "image/png": "[encoded data removed]",
      "text/plain": [
       "<Figure size 432x288 with 1 Axes>"
      ]
     },
     "metadata": {
      "needs_background": "light"
     },
     "output_type": "display_data"
    }
   ],
   "source": [
    "_=plt.hist(best_ent,bins=20)"
   ]
  },
  {
   "cell_type": "code",
   "execution_count": 26,
   "metadata": {},
   "outputs": [
    {
     "data": {
      "image/png": "[encoded data removed]",
      "text/plain": [
       "<Figure size 432x288 with 1 Axes>"
      ]
     },
     "metadata": {
      "needs_background": "light"
     },
     "output_type": "display_data"
    }
   ],
   "source": [
    "_=plt.hist(best_ent[best_lbl!=test_dataset_y],bins=20)"
   ]
  },
  {
   "cell_type": "code",
   "execution_count": 27,
   "metadata": {},
   "outputs": [
    {
     "data": {
      "image/png": "[encoded data removed]",
      "text/plain": [
       "<Figure size 432x288 with 1 Axes>"
      ]
     },
     "metadata": {
      "needs_background": "light"
     },
     "output_type": "display_data"
    }
   ],
   "source": [
    "_=plt.hist(best_ent[best_lbl==test_dataset_y],bins=20)"
   ]
  },
  {
   "cell_type": "code",
   "execution_count": 29,
   "metadata": {},
   "outputs": [],
   "source": [
    "super_pred=np.sum(val_pred_pred,axis=0)"
   ]
  },
  {
   "cell_type": "code",
   "execution_count": 30,
   "metadata": {},
   "outputs": [],
   "source": [
    "super_label=np.argmax(super_pred,axis=1)"
   ]
  },
  {
   "cell_type": "code",
   "execution_count": 31,
   "metadata": {},
   "outputs": [
    {
     "data": {
      "text/plain": [
       "0.932"
      ]
     },
     "execution_count": 31,
     "metadata": {},
     "output_type": "execute_result"
    }
   ],
   "source": [
    "np.mean(super_label==test_dataset_y)"
   ]
  },
  {
   "cell_type": "code",
   "execution_count": 32,
   "metadata": {},
   "outputs": [
    {
     "data": {
      "text/plain": [
       "(5000,)"
      ]
     },
     "execution_count": 32,
     "metadata": {},
     "output_type": "execute_result"
    }
   ],
   "source": [
    "super_label.shape"
   ]
  },
  {
   "cell_type": "code",
   "execution_count": 33,
   "metadata": {},
   "outputs": [],
   "source": [
    "with open('committee103s5_traj_30.pkl','wb') as f:\n",
    "    pickle.dump(trajectories,f)"
   ]
  },
  {
   "cell_type": "code",
   "execution_count": 34,
   "metadata": {},
   "outputs": [],
   "source": [
    "def super_pred_fun(pred,T=1):\n",
    "    logits = np.log(pred)\n",
    "    pred_T = np.exp(1./T*logits)\n",
    "    pred_T = pred_T/np.sum(pred_T,axis=-1)[...,np.newaxis]\n",
    "    super_pred=np.sum(pred_T,axis=0)\n",
    "    return super_pred"
   ]
  },
  {
   "cell_type": "code",
   "execution_count": null,
   "metadata": {},
   "outputs": [],
   "source": []
  },
  {
   "cell_type": "code",
   "execution_count": 35,
   "metadata": {},
   "outputs": [],
   "source": [
    "super_pred = super_pred_fun(train_pred_pred)"
   ]
  },
  {
   "cell_type": "code",
   "execution_count": 36,
   "metadata": {},
   "outputs": [
    {
     "name": "stdout",
     "output_type": "stream",
     "text": [
      "0.936\n"
     ]
    }
   ],
   "source": [
    "super_pred = super_pred_fun(val_pred_pred,T=1000)\n",
    "super_label=np.argmax(super_pred,axis=1)\n",
    "print(np.mean(super_label==test_dataset_y))"
   ]
  },
  {
   "cell_type": "code",
   "execution_count": 37,
   "metadata": {},
   "outputs": [
    {
     "data": {
      "text/plain": [
       "array([0.1       , 0.14949495, 0.1989899 , 0.24848485, 0.2979798 ,\n",
       "       0.34747475, 0.3969697 , 0.44646465, 0.4959596 , 0.54545455,\n",
       "       0.59494949, 0.64444444, 0.69393939, 0.74343434, 0.79292929,\n",
       "       0.84242424, 0.89191919, 0.94141414, 0.99090909, 1.04040404,\n",
       "       1.08989899, 1.13939394, 1.18888889, 1.23838384, 1.28787879,\n",
       "       1.33737374, 1.38686869, 1.43636364, 1.48585859, 1.53535354,\n",
       "       1.58484848, 1.63434343, 1.68383838, 1.73333333, 1.78282828,\n",
       "       1.83232323, 1.88181818, 1.93131313, 1.98080808, 2.03030303,\n",
       "       2.07979798, 2.12929293, 2.17878788, 2.22828283, 2.27777778,\n",
       "       2.32727273, 2.37676768, 2.42626263, 2.47575758, 2.52525253,\n",
       "       2.57474747, 2.62424242, 2.67373737, 2.72323232, 2.77272727,\n",
       "       2.82222222, 2.87171717, 2.92121212, 2.97070707, 3.02020202,\n",
       "       3.06969697, 3.11919192, 3.16868687, 3.21818182, 3.26767677,\n",
       "       3.31717172, 3.36666667, 3.41616162, 3.46565657, 3.51515152,\n",
       "       3.56464646, 3.61414141, 3.66363636, 3.71313131, 3.76262626,\n",
       "       3.81212121, 3.86161616, 3.91111111, 3.96060606, 4.01010101,\n",
       "       4.05959596, 4.10909091, 4.15858586, 4.20808081, 4.25757576,\n",
       "       4.30707071, 4.35656566, 4.40606061, 4.45555556, 4.50505051,\n",
       "       4.55454545, 4.6040404 , 4.65353535, 4.7030303 , 4.75252525,\n",
       "       4.8020202 , 4.85151515, 4.9010101 , 4.95050505, 5.        ])"
      ]
     },
     "execution_count": 37,
     "metadata": {},
     "output_type": "execute_result"
    }
   ],
   "source": [
    "np.linspace(0.1,5.0,100)"
   ]
  },
  {
   "cell_type": "code",
   "execution_count": 38,
   "metadata": {},
   "outputs": [
    {
     "name": "stdout",
     "output_type": "stream",
     "text": [
      "0.9356\n"
     ]
    }
   ],
   "source": [
    "super_pred = super_pred_fun(val_pred_pred[:15],T=1000)\n",
    "super_label=np.argmax(super_pred,axis=1)\n",
    "print(np.mean(super_label==test_dataset_y))"
   ]
  },
  {
   "cell_type": "code",
   "execution_count": 39,
   "metadata": {},
   "outputs": [
    {
     "name": "stdout",
     "output_type": "stream",
     "text": [
      "0.9194\n"
     ]
    }
   ],
   "source": [
    "super_pred = super_pred_fun(val_pred_pred[:5],T=1000)\n",
    "super_label=np.argmax(super_pred,axis=1)\n",
    "print(np.mean(super_label==test_dataset_y))"
   ]
  },
  {
   "cell_type": "code",
   "execution_count": 40,
   "metadata": {},
   "outputs": [
    {
     "name": "stdout",
     "output_type": "stream",
     "text": [
      "0.8702\n"
     ]
    }
   ],
   "source": [
    "super_pred = super_pred_fun(val_pred_pred[:2],T=1000)\n",
    "super_label=np.argmax(super_pred,axis=1)\n",
    "print(np.mean(super_label==test_dataset_y))"
   ]
  },
  {
   "cell_type": "code",
   "execution_count": 41,
   "metadata": {
    "scrolled": true
   },
   "outputs": [
    {
     "data": {
      "image/png": "[encoded data removed]",
      "text/plain": [
       "<Figure size 432x288 with 1 Axes>"
      ]
     },
     "metadata": {
      "needs_background": "light"
     },
     "output_type": "display_data"
    }
   ],
   "source": [
    "# x = np.linspace(0, 2*np.pi, 64)\n",
    "# y = np.cos(x) \n",
    "\n",
    "# pl.figure()\n",
    "# pl.plot(x,y)\n",
    "\n",
    "n = hp.num_trials\n",
    "# colors = plt.cm.jet(accuracies)\n",
    "colors = plt.cm.jet((accuracies-np.min(accuracies))/(np.max(accuracies)-np.min(accuracies)))\n",
    "# \n",
    "for trial in range(hp.num_trials):\n",
    "    plt.plot(trajectories[trial][:,0],trajectories[trial][:,1],  color=colors[trial])\n",
    "# plt.colorbar()"
   ]
  },
  {
   "cell_type": "code",
   "execution_count": 42,
   "metadata": {},
   "outputs": [],
   "source": [
    "colors = plt.cm.jet((accuracies-np.min(accuracies))/(np.max(accuracies)-np.min(accuracies)))"
   ]
  },
  {
   "cell_type": "code",
   "execution_count": 43,
   "metadata": {},
   "outputs": [
    {
     "data": {
      "image/png": "[encoded data removed]",
      "text/plain": [
       "<Figure size 432x288 with 1 Axes>"
      ]
     },
     "metadata": {
      "needs_background": "light"
     },
     "output_type": "display_data"
    }
   ],
   "source": [
    "n = hp.num_trials\n",
    "# colors = plt.cm.jet(accuracies)\n",
    "colors = plt.cm.RdYlGn((accuracies-np.min(accuracies))/(np.max(accuracies)-np.min(accuracies)))\n",
    "# \n",
    "for trial in range(hp.num_trials):\n",
    "    plt.plot(trajectories[trial][:,0],trajectories[trial][:,1],  color=colors[trial],linewidth=3)"
   ]
  },
  {
   "cell_type": "code",
   "execution_count": 128,
   "metadata": {},
   "outputs": [
    {
     "data": {
      "text/plain": [
       "(0.5, 0.0, 0.0, 1.0)"
      ]
     },
     "execution_count": 128,
     "metadata": {},
     "output_type": "execute_result"
    }
   ],
   "source": [
    "plt.cm.jet(1.0)"
   ]
  },
  {
   "cell_type": "code",
   "execution_count": null,
   "metadata": {},
   "outputs": [],
   "source": [
    "n_lines = hp.num_trials\n",
    "x = np.arange(100)\n",
    "\n",
    "yint = np.arange(0, n_lines*10, 10)\n",
    "ys = np.array([x + b for b in yint])\n",
    "xs = np.array([x for i in range(n_lines)]) # could also use np.tile\n",
    "\n",
    "colors = np.arange(n_lines)\n",
    "\n",
    "fig, ax = plt.subplots()\n",
    "lc = multiline(xs, ys, yint, cmap='bwr', lw=2)\n",
    "\n",
    "axcb = fig.colorbar(lc)\n",
    "axcb.set_label('Y-intercept')\n",
    "ax.set_title('Line Collection with mapped colors')"
   ]
  },
  {
   "cell_type": "code",
   "execution_count": 45,
   "metadata": {},
   "outputs": [
    {
     "name": "stdout",
     "output_type": "stream",
     "text": [
      "Train on 44000 samples, validate on 11000 samples\n",
      "Epoch 1/100\n",
      "44000/44000 [==============================] - 3s 70us/sample - loss: 0.4232 - acc: 0.8942 - val_loss: 0.1964 - val_acc: 0.9452\n",
      "Epoch 2/100\n",
      "44000/44000 [==============================] - 2s 35us/sample - loss: 0.2114 - acc: 0.9469 - val_loss: 0.1776 - val_acc: 0.9505\n",
      "Epoch 3/100\n",
      "44000/44000 [==============================] - 2s 36us/sample - loss: 0.1877 - acc: 0.9527 - val_loss: 0.1606 - val_acc: 0.9550\n",
      "Epoch 4/100\n",
      "44000/44000 [==============================] - 2s 37us/sample - loss: 0.1689 - acc: 0.9565 - val_loss: 0.1568 - val_acc: 0.9555\n",
      "Epoch 5/100\n",
      "44000/44000 [==============================] - 2s 36us/sample - loss: 0.1569 - acc: 0.9593 - val_loss: 0.1511 - val_acc: 0.9566\n",
      "Epoch 6/100\n",
      "44000/44000 [==============================] - 2s 37us/sample - loss: 0.1501 - acc: 0.9604 - val_loss: 0.1464 - val_acc: 0.9574\n",
      "Epoch 7/100\n",
      "44000/44000 [==============================] - 2s 38us/sample - loss: 0.1454 - acc: 0.9620 - val_loss: 0.1456 - val_acc: 0.9585\n",
      "Epoch 8/100\n",
      "44000/44000 [==============================] - 2s 38us/sample - loss: 0.1359 - acc: 0.9641 - val_loss: 0.1461 - val_acc: 0.9588\n",
      "Epoch 9/100\n",
      "44000/44000 [==============================] - 2s 38us/sample - loss: 0.1297 - acc: 0.9655 - val_loss: 0.1421 - val_acc: 0.9605\n",
      "Epoch 10/100\n",
      "44000/44000 [==============================] - 2s 38us/sample - loss: 0.1236 - acc: 0.9675 - val_loss: 0.1433 - val_acc: 0.9611\n",
      "Epoch 11/100\n",
      "44000/44000 [==============================] - 2s 37us/sample - loss: 0.1169 - acc: 0.9678 - val_loss: 0.1495 - val_acc: 0.9598\n",
      "Epoch 12/100\n",
      "44000/44000 [==============================] - 2s 37us/sample - loss: 0.1130 - acc: 0.9689 - val_loss: 0.1430 - val_acc: 0.9610\n",
      "Epoch 13/100\n",
      "44000/44000 [==============================] - 2s 37us/sample - loss: 0.1085 - acc: 0.9711 - val_loss: 0.1425 - val_acc: 0.9597\n",
      "Epoch 14/100\n",
      "44000/44000 [==============================] - 2s 38us/sample - loss: 0.1029 - acc: 0.9716 - val_loss: 0.1395 - val_acc: 0.9612\n",
      "Epoch 15/100\n",
      "44000/44000 [==============================] - 2s 35us/sample - loss: 0.1003 - acc: 0.9733 - val_loss: 0.1419 - val_acc: 0.9602\n",
      "Epoch 16/100\n",
      "44000/44000 [==============================] - 2s 36us/sample - loss: 0.0973 - acc: 0.9736 - val_loss: 0.1469 - val_acc: 0.9600\n",
      "Epoch 17/100\n",
      "44000/44000 [==============================] - 2s 38us/sample - loss: 0.0909 - acc: 0.9749 - val_loss: 0.1454 - val_acc: 0.9605\n",
      "Epoch 18/100\n",
      "44000/44000 [==============================] - 2s 36us/sample - loss: 0.0887 - acc: 0.9756 - val_loss: 0.1458 - val_acc: 0.9607\n",
      "Epoch 19/100\n",
      "44000/44000 [==============================] - 2s 37us/sample - loss: 0.0853 - acc: 0.9763 - val_loss: 0.1515 - val_acc: 0.9603\n",
      "Epoch 20/100\n",
      "44000/44000 [==============================] - 2s 37us/sample - loss: 0.0811 - acc: 0.9772 - val_loss: 0.1507 - val_acc: 0.9625\n",
      "Epoch 21/100\n",
      "44000/44000 [==============================] - 2s 37us/sample - loss: 0.0802 - acc: 0.9774 - val_loss: 0.1494 - val_acc: 0.9626\n",
      "Epoch 22/100\n",
      "44000/44000 [==============================] - 2s 35us/sample - loss: 0.0734 - acc: 0.9797 - val_loss: 0.1572 - val_acc: 0.9600\n",
      "Epoch 23/100\n",
      "44000/44000 [==============================] - 2s 37us/sample - loss: 0.0738 - acc: 0.9798 - val_loss: 0.1596 - val_acc: 0.9593\n",
      "Epoch 24/100\n",
      "44000/44000 [==============================] - 2s 37us/sample - loss: 0.0711 - acc: 0.9802 - val_loss: 0.1576 - val_acc: 0.9622\n",
      "Epoch 25/100\n",
      "44000/44000 [==============================] - 2s 37us/sample - loss: 0.0668 - acc: 0.9807 - val_loss: 0.1622 - val_acc: 0.9615\n",
      "Epoch 26/100\n",
      "44000/44000 [==============================] - 2s 36us/sample - loss: 0.0650 - acc: 0.9822 - val_loss: 0.1648 - val_acc: 0.9591\n",
      "Epoch 27/100\n",
      "44000/44000 [==============================] - 2s 36us/sample - loss: 0.0621 - acc: 0.9830 - val_loss: 0.1601 - val_acc: 0.9618\n",
      "Epoch 28/100\n",
      "44000/44000 [==============================] - 2s 37us/sample - loss: 0.0598 - acc: 0.9831 - val_loss: 0.1618 - val_acc: 0.9596\n",
      "Epoch 29/100\n",
      "44000/44000 [==============================] - 2s 36us/sample - loss: 0.0590 - acc: 0.9844 - val_loss: 0.1646 - val_acc: 0.9605\n",
      "Epoch 30/100\n",
      "44000/44000 [==============================] - 2s 36us/sample - loss: 0.0558 - acc: 0.9850 - val_loss: 0.1655 - val_acc: 0.9605\n",
      "Epoch 31/100\n",
      "44000/44000 [==============================] - 2s 35us/sample - loss: 0.0585 - acc: 0.9834 - val_loss: 0.1674 - val_acc: 0.9604\n",
      "Epoch 32/100\n",
      "44000/44000 [==============================] - 2s 35us/sample - loss: 0.0527 - acc: 0.9856 - val_loss: 0.1667 - val_acc: 0.9604\n",
      "Epoch 33/100\n",
      "44000/44000 [==============================] - 2s 35us/sample - loss: 0.0523 - acc: 0.9856 - val_loss: 0.1681 - val_acc: 0.9623\n",
      "Epoch 34/100\n",
      "44000/44000 [==============================] - 2s 36us/sample - loss: 0.0499 - acc: 0.9862 - val_loss: 0.1754 - val_acc: 0.9617\n",
      "Epoch 35/100\n",
      "44000/44000 [==============================] - 2s 35us/sample - loss: 0.0515 - acc: 0.9854 - val_loss: 0.1671 - val_acc: 0.9609\n",
      "Epoch 36/100\n",
      "44000/44000 [==============================] - 2s 38us/sample - loss: 0.0447 - acc: 0.9874 - val_loss: 0.1833 - val_acc: 0.9612\n",
      "Epoch 37/100\n",
      "44000/44000 [==============================] - 2s 37us/sample - loss: 0.0502 - acc: 0.9853 - val_loss: 0.1754 - val_acc: 0.9623\n",
      "Epoch 38/100\n",
      "44000/44000 [==============================] - 2s 38us/sample - loss: 0.0457 - acc: 0.9871 - val_loss: 0.1818 - val_acc: 0.9610\n",
      "Epoch 39/100\n",
      "44000/44000 [==============================] - 2s 37us/sample - loss: 0.0456 - acc: 0.9872 - val_loss: 0.1740 - val_acc: 0.9610\n",
      "Epoch 40/100\n",
      "44000/44000 [==============================] - 2s 38us/sample - loss: 0.0409 - acc: 0.9887 - val_loss: 0.1887 - val_acc: 0.9599\n",
      "Epoch 41/100\n",
      "44000/44000 [==============================] - 2s 37us/sample - loss: 0.0441 - acc: 0.9879 - val_loss: 0.1784 - val_acc: 0.9605\n",
      "Epoch 42/100\n",
      "44000/44000 [==============================] - 2s 36us/sample - loss: 0.0417 - acc: 0.9879 - val_loss: 0.1806 - val_acc: 0.9605\n",
      "Epoch 43/100\n",
      "44000/44000 [==============================] - 2s 37us/sample - loss: 0.0418 - acc: 0.9881 - val_loss: 0.1897 - val_acc: 0.9604\n",
      "Epoch 44/100\n",
      "44000/44000 [==============================] - 2s 36us/sample - loss: 0.0390 - acc: 0.9888 - val_loss: 0.1849 - val_acc: 0.9609\n",
      "Epoch 45/100\n",
      "44000/44000 [==============================] - 2s 37us/sample - loss: 0.0378 - acc: 0.9895 - val_loss: 0.1865 - val_acc: 0.9606\n",
      "Epoch 46/100\n",
      "44000/44000 [==============================] - 2s 37us/sample - loss: 0.0412 - acc: 0.9880 - val_loss: 0.1839 - val_acc: 0.9600\n",
      "Epoch 47/100\n",
      "44000/44000 [==============================] - 2s 37us/sample - loss: 0.0366 - acc: 0.9899 - val_loss: 0.1920 - val_acc: 0.9608\n",
      "Epoch 48/100\n",
      "44000/44000 [==============================] - 2s 37us/sample - loss: 0.0370 - acc: 0.9896 - val_loss: 0.1867 - val_acc: 0.9603\n",
      "Epoch 49/100\n",
      "44000/44000 [==============================] - 2s 37us/sample - loss: 0.0374 - acc: 0.9890 - val_loss: 0.1990 - val_acc: 0.9611\n",
      "Epoch 50/100\n",
      "44000/44000 [==============================] - 2s 37us/sample - loss: 0.0352 - acc: 0.9898 - val_loss: 0.2035 - val_acc: 0.9612\n",
      "Epoch 51/100\n",
      "44000/44000 [==============================] - 2s 37us/sample - loss: 0.0340 - acc: 0.9903 - val_loss: 0.2028 - val_acc: 0.9600\n",
      "Epoch 52/100\n",
      "44000/44000 [==============================] - 2s 36us/sample - loss: 0.0375 - acc: 0.9895 - val_loss: 0.1923 - val_acc: 0.9591\n",
      "Epoch 53/100\n",
      "44000/44000 [==============================] - 2s 36us/sample - loss: 0.0334 - acc: 0.9902 - val_loss: 0.2010 - val_acc: 0.9605\n",
      "Epoch 54/100\n",
      "44000/44000 [==============================] - 2s 37us/sample - loss: 0.0349 - acc: 0.9896 - val_loss: 0.2002 - val_acc: 0.9595\n",
      "Epoch 55/100\n",
      "44000/44000 [==============================] - 2s 37us/sample - loss: 0.0334 - acc: 0.9903 - val_loss: 0.2063 - val_acc: 0.9611\n",
      "Epoch 56/100\n",
      "44000/44000 [==============================] - 2s 37us/sample - loss: 0.0337 - acc: 0.9904 - val_loss: 0.1959 - val_acc: 0.9609\n",
      "Epoch 57/100\n",
      "44000/44000 [==============================] - 2s 38us/sample - loss: 0.0316 - acc: 0.9914 - val_loss: 0.1966 - val_acc: 0.9605\n",
      "Epoch 58/100\n",
      "44000/44000 [==============================] - 2s 37us/sample - loss: 0.0319 - acc: 0.9908 - val_loss: 0.2037 - val_acc: 0.9605\n"
     ]
    },
    {
     "name": "stdout",
     "output_type": "stream",
     "text": [
      "Epoch 59/100\n",
      "44000/44000 [==============================] - 2s 38us/sample - loss: 0.0303 - acc: 0.9909 - val_loss: 0.2100 - val_acc: 0.9601\n",
      "Epoch 60/100\n",
      "44000/44000 [==============================] - 2s 37us/sample - loss: 0.0321 - acc: 0.9904 - val_loss: 0.2104 - val_acc: 0.9597\n",
      "Epoch 61/100\n",
      "44000/44000 [==============================] - 2s 38us/sample - loss: 0.0298 - acc: 0.9916 - val_loss: 0.2140 - val_acc: 0.9602\n",
      "Epoch 62/100\n",
      "44000/44000 [==============================] - 2s 36us/sample - loss: 0.0293 - acc: 0.9917 - val_loss: 0.2086 - val_acc: 0.9587\n",
      "Epoch 63/100\n",
      "44000/44000 [==============================] - 2s 38us/sample - loss: 0.0311 - acc: 0.9911 - val_loss: 0.2054 - val_acc: 0.9611\n",
      "Epoch 64/100\n",
      "44000/44000 [==============================] - 2s 36us/sample - loss: 0.0309 - acc: 0.9910 - val_loss: 0.2019 - val_acc: 0.9616\n",
      "Epoch 65/100\n",
      "44000/44000 [==============================] - 2s 37us/sample - loss: 0.0276 - acc: 0.9923 - val_loss: 0.2176 - val_acc: 0.9608\n",
      "Epoch 66/100\n",
      "44000/44000 [==============================] - 2s 38us/sample - loss: 0.0267 - acc: 0.9923 - val_loss: 0.2132 - val_acc: 0.9615\n",
      "Epoch 67/100\n",
      "44000/44000 [==============================] - 2s 38us/sample - loss: 0.0286 - acc: 0.9923 - val_loss: 0.2143 - val_acc: 0.9616\n",
      "Epoch 68/100\n",
      "44000/44000 [==============================] - 2s 38us/sample - loss: 0.0297 - acc: 0.9913 - val_loss: 0.2171 - val_acc: 0.9614\n",
      "Epoch 69/100\n",
      "44000/44000 [==============================] - 2s 38us/sample - loss: 0.0285 - acc: 0.9917 - val_loss: 0.2193 - val_acc: 0.9607\n",
      "Epoch 70/100\n",
      "44000/44000 [==============================] - 2s 38us/sample - loss: 0.0271 - acc: 0.9915 - val_loss: 0.2203 - val_acc: 0.9617\n",
      "Epoch 71/100\n",
      "44000/44000 [==============================] - 2s 39us/sample - loss: 0.0264 - acc: 0.9923 - val_loss: 0.2180 - val_acc: 0.9609\n",
      "Epoch 72/100\n",
      "44000/44000 [==============================] - 2s 38us/sample - loss: 0.0272 - acc: 0.9923 - val_loss: 0.2137 - val_acc: 0.9609\n",
      "Epoch 73/100\n",
      "44000/44000 [==============================] - 2s 38us/sample - loss: 0.0244 - acc: 0.9932 - val_loss: 0.2373 - val_acc: 0.9608\n",
      "Epoch 74/100\n",
      "44000/44000 [==============================] - 2s 38us/sample - loss: 0.0260 - acc: 0.9923 - val_loss: 0.2281 - val_acc: 0.9601\n",
      "Epoch 75/100\n",
      "44000/44000 [==============================] - 2s 37us/sample - loss: 0.0259 - acc: 0.9930 - val_loss: 0.2201 - val_acc: 0.9604\n",
      "Epoch 76/100\n",
      "44000/44000 [==============================] - 2s 37us/sample - loss: 0.0259 - acc: 0.9928 - val_loss: 0.2159 - val_acc: 0.9606\n",
      "Epoch 77/100\n",
      "44000/44000 [==============================] - 2s 37us/sample - loss: 0.0264 - acc: 0.9923 - val_loss: 0.2293 - val_acc: 0.9596\n",
      "Epoch 78/100\n",
      "44000/44000 [==============================] - 2s 37us/sample - loss: 0.0261 - acc: 0.9925 - val_loss: 0.2271 - val_acc: 0.9607\n",
      "Epoch 79/100\n",
      "44000/44000 [==============================] - 2s 38us/sample - loss: 0.0245 - acc: 0.9929 - val_loss: 0.2306 - val_acc: 0.9595\n",
      "Epoch 80/100\n",
      "44000/44000 [==============================] - 2s 39us/sample - loss: 0.0258 - acc: 0.9924 - val_loss: 0.2218 - val_acc: 0.9605\n",
      "Epoch 81/100\n",
      "44000/44000 [==============================] - 2s 37us/sample - loss: 0.0249 - acc: 0.9931 - val_loss: 0.2175 - val_acc: 0.9615\n",
      "Epoch 82/100\n",
      "44000/44000 [==============================] - 2s 37us/sample - loss: 0.0220 - acc: 0.9938 - val_loss: 0.2302 - val_acc: 0.9603\n",
      "Epoch 83/100\n",
      "44000/44000 [==============================] - 2s 39us/sample - loss: 0.0223 - acc: 0.9938 - val_loss: 0.2350 - val_acc: 0.9607\n",
      "Epoch 84/100\n",
      "44000/44000 [==============================] - 2s 37us/sample - loss: 0.0234 - acc: 0.9933 - val_loss: 0.2291 - val_acc: 0.9599\n",
      "Epoch 85/100\n",
      "44000/44000 [==============================] - 2s 37us/sample - loss: 0.0254 - acc: 0.9927 - val_loss: 0.2288 - val_acc: 0.9603\n",
      "Epoch 86/100\n",
      "44000/44000 [==============================] - 2s 37us/sample - loss: 0.0250 - acc: 0.9929 - val_loss: 0.2327 - val_acc: 0.9605\n",
      "Epoch 87/100\n",
      "44000/44000 [==============================] - 2s 38us/sample - loss: 0.0230 - acc: 0.9932 - val_loss: 0.2304 - val_acc: 0.9613\n",
      "Epoch 88/100\n",
      "44000/44000 [==============================] - 2s 38us/sample - loss: 0.0234 - acc: 0.9934 - val_loss: 0.2431 - val_acc: 0.9595\n",
      "Epoch 89/100\n",
      "44000/44000 [==============================] - 2s 37us/sample - loss: 0.0226 - acc: 0.9932 - val_loss: 0.2274 - val_acc: 0.9615\n",
      "Epoch 90/100\n",
      "44000/44000 [==============================] - 2s 38us/sample - loss: 0.0228 - acc: 0.9930 - val_loss: 0.2328 - val_acc: 0.9618\n",
      "Epoch 91/100\n",
      "44000/44000 [==============================] - 2s 38us/sample - loss: 0.0210 - acc: 0.9938 - val_loss: 0.2468 - val_acc: 0.9601\n",
      "Epoch 92/100\n",
      "44000/44000 [==============================] - 2s 38us/sample - loss: 0.0221 - acc: 0.9937 - val_loss: 0.2393 - val_acc: 0.9605\n",
      "Epoch 93/100\n",
      "44000/44000 [==============================] - 2s 37us/sample - loss: 0.0229 - acc: 0.9935 - val_loss: 0.2382 - val_acc: 0.9605\n",
      "Epoch 94/100\n",
      "44000/44000 [==============================] - 2s 38us/sample - loss: 0.0209 - acc: 0.9936 - val_loss: 0.2421 - val_acc: 0.9617\n",
      "Epoch 95/100\n",
      "44000/44000 [==============================] - 2s 37us/sample - loss: 0.0215 - acc: 0.9938 - val_loss: 0.2435 - val_acc: 0.9605\n",
      "Epoch 96/100\n",
      "44000/44000 [==============================] - 2s 38us/sample - loss: 0.0217 - acc: 0.9939 - val_loss: 0.2377 - val_acc: 0.9605\n",
      "Epoch 97/100\n",
      "44000/44000 [==============================] - 2s 38us/sample - loss: 0.0228 - acc: 0.9932 - val_loss: 0.2292 - val_acc: 0.9597\n",
      "Epoch 98/100\n",
      "44000/44000 [==============================] - 2s 36us/sample - loss: 0.0206 - acc: 0.9938 - val_loss: 0.2412 - val_acc: 0.9604\n",
      "Epoch 99/100\n",
      "44000/44000 [==============================] - 2s 36us/sample - loss: 0.0210 - acc: 0.9934 - val_loss: 0.2357 - val_acc: 0.9623\n",
      "Epoch 100/100\n",
      "44000/44000 [==============================] - 2s 36us/sample - loss: 0.0226 - acc: 0.9932 - val_loss: 0.2429 - val_acc: 0.9602\n"
     ]
    },
    {
     "data": {
      "text/plain": [
       "<tensorflow.python.keras.callbacks.History at 0x7ff9f84ac518>"
      ]
     },
     "execution_count": 45,
     "metadata": {},
     "output_type": "execute_result"
    }
   ],
   "source": [
    "# Set the input shape\n",
    "input_shape = (300,)\n",
    "# print(f'Feature shape: {input_shape}')\n",
    "\n",
    "# Create the model\n",
    "model = keras.Sequential()\n",
    "model.add(keras.layers.Dense(300, input_shape=input_shape, activation='relu'))\n",
    "model.add(keras.layers.Dropout(0.4))\n",
    "model.add(keras.layers.Dense(100,  activation='relu'))\n",
    "model.add(keras.layers.Dropout(0.4))\n",
    "model.add(keras.layers.Dense(50, activation='relu'))\n",
    "model.add(keras.layers.Dropout(0.2))\n",
    "model.add(keras.layers.Dense(10, activation='softmax'))\n",
    "\n",
    "# Configure the model and start training\n",
    "model.compile(loss='sparse_categorical_crossentropy', optimizer='adam', metrics=['accuracy'])\n",
    "model.fit(np.transpose(train_pred_pred,[1,2,0]).reshape([-1,300]), train_dataset_y.astype(int), epochs=100, batch_size=250, verbose=1, validation_split=0.2)\n"
   ]
  },
  {
   "cell_type": "code",
   "execution_count": 46,
   "metadata": {},
   "outputs": [
    {
     "data": {
      "text/plain": [
       "(array([2., 0., 0., 0., 0., 0., 0., 0., 0., 0., 0., 1., 1., 0., 1., 0., 1.,\n",
       "        2., 2., 2., 2., 3., 4., 0., 2., 3., 3., 0., 0., 1.]),\n",
       " array([0.6844    , 0.69090667, 0.69741333, 0.70392   , 0.71042667,\n",
       "        0.71693333, 0.72344   , 0.72994667, 0.73645333, 0.74296   ,\n",
       "        0.74946667, 0.75597333, 0.76248   , 0.76898667, 0.77549333,\n",
       "        0.782     , 0.78850667, 0.79501333, 0.80152   , 0.80802667,\n",
       "        0.81453333, 0.82104   , 0.82754667, 0.83405333, 0.84056   ,\n",
       "        0.84706667, 0.85357333, 0.86008   , 0.86658667, 0.87309333,\n",
       "        0.8796    ]),\n",
       " <a list of 30 Patch objects>)"
      ]
     },
     "execution_count": 46,
     "metadata": {},
     "output_type": "execute_result"
    },
    {
     "data": {
      "image/png": "[encoded data removed]",
      "text/plain": [
       "<Figure size 432x288 with 1 Axes>"
      ]
     },
     "metadata": {
      "needs_background": "light"
     },
     "output_type": "display_data"
    }
   ],
   "source": [
    "plt.hist(accuracies,bins=30)"
   ]
  },
  {
   "cell_type": "code",
   "execution_count": 57,
   "metadata": {},
   "outputs": [
    {
     "data": {
      "image/png": "[encoded data removed]",
      "text/plain": [
       "<Figure size 432x288 with 1 Axes>"
      ]
     },
     "metadata": {
      "needs_background": "light"
     },
     "output_type": "display_data"
    }
   ],
   "source": [
    "for pred in np.array(val_pred_pred)[:,7,:]:\n",
    "    plt.plot(pred)\n",
    "    plt.xlabel('label')\n",
    "    plt.ylabel('probability')"
   ]
  },
  {
   "cell_type": "code",
   "execution_count": 51,
   "metadata": {},
   "outputs": [
    {
     "ename": "TypeError",
     "evalue": "list indices must be integers or slices, not tuple",
     "output_type": "error",
     "traceback": [
      "\u001b[0;31m---------------------------------------------------------------------------\u001b[0m",
      "\u001b[0;31mTypeError\u001b[0m                                 Traceback (most recent call last)",
      "\u001b[0;32m<ipython-input-51-d373281ed836>\u001b[0m in \u001b[0;36m<module>\u001b[0;34m\u001b[0m\n\u001b[0;32m----> 1\u001b[0;31m \u001b[0mnp\u001b[0m\u001b[0;34m.\u001b[0m\u001b[0marray\u001b[0m\u001b[0;34m(\u001b[0m\u001b[0mval_pred_pred\u001b[0m\u001b[0;34m[\u001b[0m\u001b[0;34m:\u001b[0m\u001b[0;34m,\u001b[0m\u001b[0;36m0\u001b[0m\u001b[0;34m,\u001b[0m\u001b[0;34m:\u001b[0m\u001b[0;34m]\u001b[0m\u001b[0;34m)\u001b[0m\u001b[0;34m\u001b[0m\u001b[0m\n\u001b[0m",
      "\u001b[0;31mTypeError\u001b[0m: list indices must be integers or slices, not tuple"
     ]
    }
   ],
   "source": [
    "np.array(val_pred_pred[:,0,:])"
   ]
  },
  {
   "cell_type": "code",
   "execution_count": null,
   "metadata": {},
   "outputs": [],
   "source": []
  }
 ],
 "metadata": {
  "kernelspec": {
   "display_name": "Python 3",
   "language": "python",
   "name": "python3"
  },
  "language_info": {
   "codemirror_mode": {
    "name": "ipython",
    "version": 3
   },
   "file_extension": ".py",
   "mimetype": "text/x-python",
   "name": "python",
   "nbconvert_exporter": "python",
   "pygments_lexer": "ipython3",
   "version": "3.5.2"
  }
 },
 "nbformat": 4,
 "nbformat_minor": 2
}
